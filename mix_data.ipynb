{
 "cells": [
  {
   "cell_type": "code",
   "execution_count": 21,
   "id": "f82a6dfe",
   "metadata": {},
   "outputs": [],
   "source": [
    "import json\n",
    "import os\n",
    "from datetime import datetime"
   ]
  },
  {
   "cell_type": "code",
   "execution_count": 22,
   "id": "a7c75ae8",
   "metadata": {},
   "outputs": [],
   "source": [
    "conll_path = '/home/burak/Desktop/thesis/code/IM/conll_data'\n",
    "twitter_path = '/home/burak/Desktop/thesis/code/IM/twitter_partitioned/partition_105615'\n",
    "output_path = '/home/burak/Desktop/thesis/code/IM/data_to_feed_to_the_model'\n",
    "\n",
    "def mix_data(conll_path, twitter_path, output_path, conll_token_count=None, partition_label=None, conll_in_dev=False):\n",
    "    # array of 3 arrays: train, test, dev\n",
    "    conll_parses = [{},{},{}]\n",
    "    conll_relations = [[], [], []]\n",
    "    twitter_parses = [{},{},{}]\n",
    "    twitter_relations = [[],[],[]]\n",
    "    total_parses = [{}, {}, {}]\n",
    "    total_relations = [[], [], []]\n",
    "    with open(conll_path + '/en.train/parses.json') as conll_train_parses_file:\n",
    "        with open(conll_path + '/en.train/relations.json') as conll_train_relations_file:\n",
    "            conll_train_wsj_files = json.loads(conll_train_parses_file.read())\n",
    "            conll_train_relations = conll_train_relations_file.readlines()\n",
    "            if conll_token_count != None:\n",
    "                cur_token_count = 0\n",
    "                for c_t_k in conll_train_wsj_files.keys():\n",
    "                    file_token_count = 0\n",
    "                    c_t_v = conll_train_wsj_files[c_t_k]\n",
    "                    for sentence in c_t_v['sentences']:\n",
    "                        token_count = len(sentence['words'])\n",
    "                        file_token_count += token_count\n",
    "                    cur_token_count += file_token_count\n",
    "                    conll_parses[0][c_t_k] = c_t_v\n",
    "                    total_parses[0][c_t_k] = c_t_v\n",
    "                    if cur_token_count > conll_token_count:\n",
    "                        break\n",
    "                print(conll_parses[0].keys())\n",
    "                for relation in conll_train_relations:\n",
    "                    cur_relation = json.loads(relation)\n",
    "                    if cur_relation['DocID'] in conll_parses[0].keys():\n",
    "                        conll_relations[0].append(cur_relation)\n",
    "                        total_relations[0].append(cur_relation)\n",
    "                print('TOKEN COUNT: ', cur_token_count)\n",
    "            else:\n",
    "                total_parses[0].update(conll_train_wsj_files)\n",
    "                [total_relations[0].append(json.loads(relation)) for relation in conll_train_relations]\n",
    "\n",
    "    if conll_in_dev:\n",
    "        with open(conll_path + '/en.dev/parses.json') as conll_train_parses_file:\n",
    "            with open(conll_path + '/en.dev/relations.json') as conll_train_relations_file:\n",
    "                conll_train_wsj_files = json.loads(conll_train_parses_file.read())\n",
    "                conll_train_relations = conll_train_relations_file.readlines()\n",
    "                total_parses[2].update(conll_train_wsj_files)\n",
    "                total_relations[2] = [json.loads(relation) for relation in conll_train_relations]\n",
    "    \n",
    "    # twitter\n",
    "    with open(twitter_path + '/en.train/parses.json') as twitter_train_parses_file:\n",
    "        with open(twitter_path + '/en.train/relations.json') as twitter_train_relations_file:\n",
    "            twitter_train_thread_files = json.loads(twitter_train_parses_file.read())\n",
    "            twitter_train_relations = twitter_train_relations_file.readlines()\n",
    "            total_parses[0].update(twitter_train_thread_files)\n",
    "            [total_relations[0].append(json.loads(relation)) for relation in twitter_train_relations]\n",
    "\n",
    "    \n",
    "    with open(twitter_path + '/en.test/parses.json') as twitter_train_parses_file:\n",
    "        with open(twitter_path + '/en.test/relations.json') as twitter_train_relations_file:\n",
    "            twitter_train_thread_files = json.loads(twitter_train_parses_file.read())\n",
    "            twitter_train_relations = twitter_train_relations_file.readlines()\n",
    "            total_parses[1].update(twitter_train_thread_files)\n",
    "            total_relations[1] = [json.loads(relation) for relation in twitter_train_relations]\n",
    "    \n",
    "    with open(twitter_path + '/en.dev/parses.json') as twitter_train_parses_file:\n",
    "        with open(twitter_path + '/en.dev/relations.json') as twitter_train_relations_file:\n",
    "            twitter_train_thread_files = json.loads(twitter_train_parses_file.read())\n",
    "            twitter_train_relations = twitter_train_relations_file.readlines()\n",
    "            total_parses[2].update(twitter_train_thread_files)\n",
    "            total_relations[2] = [json.loads(relation) for relation in twitter_train_relations]\n",
    "    \n",
    "    now = datetime.now()\n",
    "    current_time = now.strftime(\"%Y%m%d%H%M%S\")\n",
    "\n",
    "    partition_path = output_path + '/partition_' + current_time\n",
    "    if partition_label != None:\n",
    "        partition_path += '_' + partition_label\n",
    "    os.makedirs(partition_path)\n",
    "    os.makedirs(partition_path + '/en.dev')\n",
    "    os.makedirs(partition_path + '/en.test')\n",
    "    os.makedirs(partition_path + '/en.train')\n",
    "    \n",
    "    with open(partition_path + '/en.dev/parses.json', 'w') as dev_parses_file, \\\n",
    "        open(partition_path + '/en.test/parses.json', 'w') as test_parses_file, \\\n",
    "        open(partition_path + '/en.train/parses.json', 'w') as train_parses_file, \\\n",
    "        open(partition_path + '/en.dev/relations.json', 'w') as dev_relations_file, \\\n",
    "        open(partition_path + '/en.test/relations.json', 'w') as test_relations_file, \\\n",
    "        open(partition_path + '/en.train/relations.json', 'w') as train_relations_file:\n",
    "        \n",
    "        # parses\n",
    "        dev_parses_file.write(json.dumps(total_parses[2]))\n",
    "        test_parses_file.write(json.dumps(total_parses[1]))\n",
    "        train_parses_file.write(json.dumps(total_parses[0]))\n",
    "                                \n",
    "        for i, total_relations_partition in enumerate(total_relations):\n",
    "            for relation in total_relations_partition:\n",
    "                if i == 0:\n",
    "                    train_relations_file.write(json.dumps(relation))\n",
    "                    train_relations_file.write('\\n')\n",
    "                if i == 1:\n",
    "                    test_relations_file.write(json.dumps(relation))\n",
    "                    test_relations_file.write('\\n')\n",
    "                if i == 2:\n",
    "                    dev_relations_file.write(json.dumps(relation))\n",
    "                    dev_relations_file.write('\\n')\n"
   ]
  },
  {
   "cell_type": "code",
   "execution_count": 23,
   "id": "98c30b6d",
   "metadata": {},
   "outputs": [
    {
     "name": "stdout",
     "output_type": "stream",
     "text": [
      "dict_keys(['wsj_0200', 'wsj_0201', 'wsj_0202', 'wsj_0204', 'wsj_0207', 'wsj_0208', 'wsj_0209', 'wsj_0210', 'wsj_0211', 'wsj_0213', 'wsj_0214', 'wsj_0215', 'wsj_0216', 'wsj_0218', 'wsj_0219', 'wsj_0220', 'wsj_0221', 'wsj_0222', 'wsj_0223', 'wsj_0224', 'wsj_0225', 'wsj_0227', 'wsj_0228', 'wsj_0229', 'wsj_0230', 'wsj_0231', 'wsj_0232', 'wsj_0233', 'wsj_0235', 'wsj_0236', 'wsj_0237', 'wsj_0238', 'wsj_0239', 'wsj_0240', 'wsj_0241', 'wsj_0242', 'wsj_0243', 'wsj_0244', 'wsj_0245', 'wsj_0246', 'wsj_0247', 'wsj_0248', 'wsj_0250', 'wsj_0251', 'wsj_0252', 'wsj_0253', 'wsj_0254', 'wsj_0255', 'wsj_0256', 'wsj_0257', 'wsj_0258', 'wsj_0259', 'wsj_0260', 'wsj_0261', 'wsj_0262'])\n",
      "TOKEN COUNT:  20101\n",
      "dict_keys(['wsj_0200', 'wsj_0201', 'wsj_0202', 'wsj_0204', 'wsj_0207', 'wsj_0208', 'wsj_0209', 'wsj_0210', 'wsj_0211', 'wsj_0213', 'wsj_0214', 'wsj_0215', 'wsj_0216', 'wsj_0218', 'wsj_0219', 'wsj_0220', 'wsj_0221', 'wsj_0222', 'wsj_0223', 'wsj_0224', 'wsj_0225', 'wsj_0227', 'wsj_0228', 'wsj_0229', 'wsj_0230', 'wsj_0231', 'wsj_0232', 'wsj_0233', 'wsj_0235', 'wsj_0236', 'wsj_0237', 'wsj_0238', 'wsj_0239', 'wsj_0240', 'wsj_0241', 'wsj_0242', 'wsj_0243', 'wsj_0244', 'wsj_0245', 'wsj_0246', 'wsj_0247', 'wsj_0248', 'wsj_0250', 'wsj_0251', 'wsj_0252', 'wsj_0253', 'wsj_0254', 'wsj_0255', 'wsj_0256', 'wsj_0257', 'wsj_0258', 'wsj_0259', 'wsj_0260', 'wsj_0261', 'wsj_0262', 'wsj_0263', 'wsj_0264', 'wsj_0265', 'wsj_0266', 'wsj_0267', 'wsj_0268', 'wsj_0269', 'wsj_0270', 'wsj_0271', 'wsj_0272', 'wsj_0273', 'wsj_0274', 'wsj_0275', 'wsj_0276', 'wsj_0277', 'wsj_0278', 'wsj_0279'])\n",
      "TOKEN COUNT:  30144\n"
     ]
    }
   ],
   "source": [
    "mix_data(conll_path, twitter_path, output_path, None, 'NoTokenLimit')\n",
    "mix_data(conll_path, twitter_path, output_path, 20000, '20k')\n",
    "mix_data(conll_path, twitter_path, output_path, 30000, '30k')"
   ]
  },
  {
   "cell_type": "code",
   "execution_count": 24,
   "id": "0e763911",
   "metadata": {},
   "outputs": [
    {
     "name": "stdout",
     "output_type": "stream",
     "text": [
      "dict_keys(['wsj_0200', 'wsj_0201', 'wsj_0202', 'wsj_0204', 'wsj_0207', 'wsj_0208', 'wsj_0209', 'wsj_0210', 'wsj_0211', 'wsj_0213', 'wsj_0214', 'wsj_0215', 'wsj_0216', 'wsj_0218', 'wsj_0219', 'wsj_0220', 'wsj_0221', 'wsj_0222', 'wsj_0223', 'wsj_0224', 'wsj_0225', 'wsj_0227', 'wsj_0228', 'wsj_0229', 'wsj_0230', 'wsj_0231', 'wsj_0232', 'wsj_0233', 'wsj_0235', 'wsj_0236', 'wsj_0237', 'wsj_0238', 'wsj_0239', 'wsj_0240', 'wsj_0241', 'wsj_0242', 'wsj_0243', 'wsj_0244', 'wsj_0245', 'wsj_0246', 'wsj_0247', 'wsj_0248', 'wsj_0250', 'wsj_0251', 'wsj_0252', 'wsj_0253', 'wsj_0254', 'wsj_0255', 'wsj_0256', 'wsj_0257', 'wsj_0258', 'wsj_0259', 'wsj_0260', 'wsj_0261', 'wsj_0262', 'wsj_0263', 'wsj_0264', 'wsj_0265', 'wsj_0266', 'wsj_0267', 'wsj_0268', 'wsj_0269', 'wsj_0270', 'wsj_0271', 'wsj_0272', 'wsj_0273', 'wsj_0274', 'wsj_0275', 'wsj_0276', 'wsj_0277', 'wsj_0278', 'wsj_0279', 'wsj_0280', 'wsj_0281', 'wsj_0282', 'wsj_0283', 'wsj_0284', 'wsj_0286', 'wsj_0287', 'wsj_0288', 'wsj_0289', 'wsj_0290', 'wsj_0291', 'wsj_0292', 'wsj_0293', 'wsj_0294', 'wsj_0295', 'wsj_0296', 'wsj_0297', 'wsj_0298', 'wsj_0299', 'wsj_0300', 'wsj_0301', 'wsj_0302', 'wsj_0303', 'wsj_0304', 'wsj_0305', 'wsj_0306', 'wsj_0307', 'wsj_0308', 'wsj_0309', 'wsj_0310', 'wsj_0311', 'wsj_0312', 'wsj_0313', 'wsj_0314', 'wsj_0315', 'wsj_0316', 'wsj_0317', 'wsj_0318', 'wsj_0319', 'wsj_0321', 'wsj_0322', 'wsj_0323', 'wsj_0324', 'wsj_0325', 'wsj_0326', 'wsj_0327', 'wsj_0328', 'wsj_0329', 'wsj_0331', 'wsj_0332', 'wsj_0333', 'wsj_0334', 'wsj_0335', 'wsj_0336', 'wsj_0337', 'wsj_0338', 'wsj_0339', 'wsj_0340', 'wsj_0341', 'wsj_0342', 'wsj_0343', 'wsj_0344', 'wsj_0345', 'wsj_0346', 'wsj_0347', 'wsj_0348', 'wsj_0349', 'wsj_0350', 'wsj_0351', 'wsj_0352', 'wsj_0353', 'wsj_0354', 'wsj_0355', 'wsj_0356', 'wsj_0357', 'wsj_0358', 'wsj_0359', 'wsj_0360', 'wsj_0361', 'wsj_0362', 'wsj_0363', 'wsj_0364', 'wsj_0365', 'wsj_0367', 'wsj_0368', 'wsj_0369', 'wsj_0370', 'wsj_0371', 'wsj_0372', 'wsj_0373', 'wsj_0374', 'wsj_0375', 'wsj_0376', 'wsj_0377', 'wsj_0378', 'wsj_0379', 'wsj_0380', 'wsj_0400', 'wsj_0401', 'wsj_0402', 'wsj_0403', 'wsj_0404', 'wsj_0405', 'wsj_0406', 'wsj_0407', 'wsj_0408', 'wsj_0409', 'wsj_0410', 'wsj_0411', 'wsj_0412', 'wsj_0413', 'wsj_0414', 'wsj_0415', 'wsj_0416', 'wsj_0417', 'wsj_0418', 'wsj_0419', 'wsj_0420', 'wsj_0421', 'wsj_0422', 'wsj_0423', 'wsj_0424', 'wsj_0426', 'wsj_0427', 'wsj_0428', 'wsj_0429', 'wsj_0430', 'wsj_0431', 'wsj_0433', 'wsj_0434', 'wsj_0435', 'wsj_0436', 'wsj_0437', 'wsj_0439', 'wsj_0440', 'wsj_0441', 'wsj_0442', 'wsj_0443', 'wsj_0444', 'wsj_0445', 'wsj_0446', 'wsj_0447', 'wsj_0448', 'wsj_0449', 'wsj_0450', 'wsj_0451', 'wsj_0452', 'wsj_0453', 'wsj_0456', 'wsj_0457', 'wsj_0458', 'wsj_0460', 'wsj_0461', 'wsj_0462', 'wsj_0464', 'wsj_0465', 'wsj_0466', 'wsj_0467', 'wsj_0469', 'wsj_0470', 'wsj_0471', 'wsj_0472', 'wsj_0473', 'wsj_0474', 'wsj_0475', 'wsj_0476', 'wsj_0477', 'wsj_0478', 'wsj_0479', 'wsj_0480', 'wsj_0481', 'wsj_0482', 'wsj_0483', 'wsj_0484', 'wsj_0485', 'wsj_0486', 'wsj_0487', 'wsj_0488', 'wsj_0489', 'wsj_0490', 'wsj_0491', 'wsj_0492', 'wsj_0493', 'wsj_0494', 'wsj_0495', 'wsj_0496', 'wsj_0497', 'wsj_0498', 'wsj_0499', 'wsj_0500', 'wsj_0501', 'wsj_0502', 'wsj_0503', 'wsj_0504', 'wsj_0505', 'wsj_0507', 'wsj_0508', 'wsj_0509', 'wsj_0510', 'wsj_0511', 'wsj_0512', 'wsj_0514', 'wsj_0515', 'wsj_0516', 'wsj_0518', 'wsj_0519', 'wsj_0520', 'wsj_0521', 'wsj_0522', 'wsj_0523', 'wsj_0524', 'wsj_0525', 'wsj_0526', 'wsj_0527', 'wsj_0528', 'wsj_0529', 'wsj_0530', 'wsj_0531', 'wsj_0532', 'wsj_0533', 'wsj_0534', 'wsj_0535', 'wsj_0536', 'wsj_0537', 'wsj_0539', 'wsj_0540', 'wsj_0541', 'wsj_0542', 'wsj_0544', 'wsj_0545', 'wsj_0546', 'wsj_0547', 'wsj_0548', 'wsj_0550', 'wsj_0551', 'wsj_0552', 'wsj_0553', 'wsj_0554', 'wsj_0556', 'wsj_0557', 'wsj_0558', 'wsj_0559', 'wsj_0560', 'wsj_0561', 'wsj_0562', 'wsj_0563', 'wsj_0564', 'wsj_0565', 'wsj_0566', 'wsj_0567', 'wsj_0568', 'wsj_0569', 'wsj_0570', 'wsj_0571', 'wsj_0572', 'wsj_0573', 'wsj_0574', 'wsj_0575', 'wsj_0576', 'wsj_0577', 'wsj_0578', 'wsj_0579', 'wsj_0580', 'wsj_0581', 'wsj_0582', 'wsj_0583', 'wsj_0584', 'wsj_0585', 'wsj_0586', 'wsj_0587', 'wsj_0588', 'wsj_0589', 'wsj_0590', 'wsj_0592', 'wsj_0593', 'wsj_0594', 'wsj_0595', 'wsj_0596', 'wsj_0597', 'wsj_0598', 'wsj_0599', 'wsj_0600', 'wsj_0601', 'wsj_0602', 'wsj_0603', 'wsj_0604', 'wsj_0605', 'wsj_0606', 'wsj_0607', 'wsj_0608', 'wsj_0609', 'wsj_0610', 'wsj_0611', 'wsj_0612', 'wsj_0613', 'wsj_0614', 'wsj_0615', 'wsj_0616', 'wsj_0617', 'wsj_0618', 'wsj_0619', 'wsj_0621', 'wsj_0622', 'wsj_0623', 'wsj_0624', 'wsj_0625', 'wsj_0626', 'wsj_0627', 'wsj_0628', 'wsj_0629', 'wsj_0630', 'wsj_0631', 'wsj_0632', 'wsj_0633', 'wsj_0634', 'wsj_0635', 'wsj_0636', 'wsj_0637', 'wsj_0638', 'wsj_0639', 'wsj_0640', 'wsj_0641', 'wsj_0642', 'wsj_0643', 'wsj_0644', 'wsj_0645', 'wsj_0646', 'wsj_0647', 'wsj_0648', 'wsj_0649', 'wsj_0651', 'wsj_0652', 'wsj_0653', 'wsj_0654', 'wsj_0655', 'wsj_0656', 'wsj_0657', 'wsj_0658', 'wsj_0659', 'wsj_0660', 'wsj_0661', 'wsj_0662', 'wsj_0663', 'wsj_0664', 'wsj_0665', 'wsj_0666', 'wsj_0667', 'wsj_0668', 'wsj_0669', 'wsj_0670', 'wsj_0671', 'wsj_0672', 'wsj_0673', 'wsj_0674', 'wsj_0675', 'wsj_0676', 'wsj_0677', 'wsj_0679', 'wsj_0680', 'wsj_0681', 'wsj_0682', 'wsj_0683', 'wsj_0684', 'wsj_0686', 'wsj_0687', 'wsj_0688', 'wsj_0689', 'wsj_0690', 'wsj_0692', 'wsj_0693', 'wsj_0694', 'wsj_0695', 'wsj_0696', 'wsj_0697', 'wsj_0700', 'wsj_0701', 'wsj_0702', 'wsj_0704', 'wsj_0705', 'wsj_0706', 'wsj_0708', 'wsj_0709', 'wsj_0710', 'wsj_0712', 'wsj_0713', 'wsj_0714', 'wsj_0717', 'wsj_0718', 'wsj_0719', 'wsj_0722', 'wsj_0723', 'wsj_0725', 'wsj_0726', 'wsj_0727', 'wsj_0728', 'wsj_0729', 'wsj_0730', 'wsj_0731', 'wsj_0732', 'wsj_0733', 'wsj_0734', 'wsj_0735', 'wsj_0736', 'wsj_0737', 'wsj_0738', 'wsj_0739', 'wsj_0740', 'wsj_0741', 'wsj_0742', 'wsj_0743', 'wsj_0744', 'wsj_0745', 'wsj_0746', 'wsj_0747', 'wsj_0748', 'wsj_0750', 'wsj_0751', 'wsj_0752', 'wsj_0753', 'wsj_0754', 'wsj_0755', 'wsj_0756', 'wsj_0757', 'wsj_0758', 'wsj_0759', 'wsj_0760', 'wsj_0761', 'wsj_0762', 'wsj_0763', 'wsj_0764', 'wsj_0765', 'wsj_0766', 'wsj_0767', 'wsj_0768', 'wsj_0769', 'wsj_0770', 'wsj_0771', 'wsj_0772', 'wsj_0773', 'wsj_0774', 'wsj_0775', 'wsj_0776', 'wsj_0777', 'wsj_0778', 'wsj_0779', 'wsj_0780', 'wsj_0781', 'wsj_0782', 'wsj_0783', 'wsj_0784', 'wsj_0785', 'wsj_0786', 'wsj_0787', 'wsj_0788', 'wsj_0789', 'wsj_0790', 'wsj_0791', 'wsj_0792', 'wsj_0793', 'wsj_0794', 'wsj_0795', 'wsj_0796', 'wsj_0797', 'wsj_0798', 'wsj_0799', 'wsj_0800', 'wsj_0801', 'wsj_0802', 'wsj_0803', 'wsj_0804', 'wsj_0805', 'wsj_0806', 'wsj_0807', 'wsj_0808', 'wsj_0809', 'wsj_0810', 'wsj_0811', 'wsj_0812', 'wsj_0813', 'wsj_0814', 'wsj_0815', 'wsj_0816', 'wsj_0817', 'wsj_0818', 'wsj_0819', 'wsj_0820', 'wsj_0900', 'wsj_0902', 'wsj_0903', 'wsj_0904', 'wsj_0905', 'wsj_0906', 'wsj_0907', 'wsj_0908', 'wsj_0909', 'wsj_0910', 'wsj_0911', 'wsj_0912', 'wsj_0913', 'wsj_0914', 'wsj_0915', 'wsj_0916', 'wsj_0917', 'wsj_0918', 'wsj_0919', 'wsj_0922', 'wsj_0923', 'wsj_0924', 'wsj_0925', 'wsj_0926', 'wsj_0927', 'wsj_0928', 'wsj_0929', 'wsj_0930', 'wsj_0931', 'wsj_0932', 'wsj_0933', 'wsj_0934', 'wsj_0935', 'wsj_0936', 'wsj_0937', 'wsj_0938', 'wsj_0939', 'wsj_0940', 'wsj_0941', 'wsj_0942', 'wsj_0943', 'wsj_0944', 'wsj_0945', 'wsj_0946', 'wsj_0948', 'wsj_0949', 'wsj_0950', 'wsj_0952', 'wsj_0953', 'wsj_0954', 'wsj_0955', 'wsj_0956', 'wsj_0957', 'wsj_0958', 'wsj_0959', 'wsj_0960', 'wsj_0961', 'wsj_0962', 'wsj_0963', 'wsj_0964', 'wsj_0965', 'wsj_0966', 'wsj_0967', 'wsj_0968', 'wsj_0969', 'wsj_0970', 'wsj_0971', 'wsj_0972', 'wsj_0973', 'wsj_0974', 'wsj_0975', 'wsj_0976', 'wsj_0977', 'wsj_0978', 'wsj_0979', 'wsj_0980', 'wsj_0981', 'wsj_0982', 'wsj_0983', 'wsj_0984', 'wsj_0985', 'wsj_0986', 'wsj_0987', 'wsj_0988', 'wsj_0989', 'wsj_0990', 'wsj_0991', 'wsj_0992', 'wsj_0993', 'wsj_0994', 'wsj_0995', 'wsj_0996', 'wsj_0997', 'wsj_0999', 'wsj_1000', 'wsj_1001', 'wsj_1002', 'wsj_1003', 'wsj_1004', 'wsj_1005', 'wsj_1006', 'wsj_1007', 'wsj_1008', 'wsj_1010', 'wsj_1011', 'wsj_1012', 'wsj_1013', 'wsj_1014', 'wsj_1015', 'wsj_1016', 'wsj_1017', 'wsj_1018', 'wsj_1019', 'wsj_1020', 'wsj_1021', 'wsj_1022', 'wsj_1023', 'wsj_1024', 'wsj_1025', 'wsj_1026', 'wsj_1027', 'wsj_1028', 'wsj_1029', 'wsj_1030', 'wsj_1031', 'wsj_1032', 'wsj_1033', 'wsj_1034', 'wsj_1035', 'wsj_1036', 'wsj_1037', 'wsj_1038', 'wsj_1039', 'wsj_1040', 'wsj_1041', 'wsj_1042', 'wsj_1043', 'wsj_1044', 'wsj_1045', 'wsj_1046', 'wsj_1047', 'wsj_1048', 'wsj_1049', 'wsj_1050', 'wsj_1051', 'wsj_1052', 'wsj_1053', 'wsj_1054', 'wsj_1055', 'wsj_1056', 'wsj_1057', 'wsj_1058', 'wsj_1059', 'wsj_1060', 'wsj_1061', 'wsj_1062', 'wsj_1064', 'wsj_1065', 'wsj_1066', 'wsj_1068', 'wsj_1069', 'wsj_1070', 'wsj_1071', 'wsj_1072', 'wsj_1073', 'wsj_1074', 'wsj_1075', 'wsj_1076', 'wsj_1078', 'wsj_1079', 'wsj_1080', 'wsj_1081', 'wsj_1082', 'wsj_1083', 'wsj_1084', 'wsj_1086', 'wsj_1089', 'wsj_1091', 'wsj_1092', 'wsj_1093', 'wsj_1094', 'wsj_1095', 'wsj_1096', 'wsj_1097', 'wsj_1099', 'wsj_1100', 'wsj_1101', 'wsj_1102', 'wsj_1103', 'wsj_1105', 'wsj_1106', 'wsj_1107', 'wsj_1108', 'wsj_1109', 'wsj_1110', 'wsj_1111', 'wsj_1112', 'wsj_1113', 'wsj_1116', 'wsj_1117', 'wsj_1118', 'wsj_1119', 'wsj_1120', 'wsj_1121', 'wsj_1122', 'wsj_1123', 'wsj_1124', 'wsj_1125', 'wsj_1126', 'wsj_1127', 'wsj_1128', 'wsj_1130', 'wsj_1131', 'wsj_1132', 'wsj_1133', 'wsj_1134', 'wsj_1135', 'wsj_1136', 'wsj_1137', 'wsj_1138', 'wsj_1139', 'wsj_1140', 'wsj_1141', 'wsj_1142', 'wsj_1143', 'wsj_1144', 'wsj_1145', 'wsj_1146', 'wsj_1147', 'wsj_1148', 'wsj_1149', 'wsj_1150', 'wsj_1151', 'wsj_1152', 'wsj_1153', 'wsj_1154', 'wsj_1155', 'wsj_1156', 'wsj_1157', 'wsj_1158', 'wsj_1159', 'wsj_1160', 'wsj_1161', 'wsj_1162', 'wsj_1163', 'wsj_1164', 'wsj_1165', 'wsj_1166', 'wsj_1167', 'wsj_1168', 'wsj_1169', 'wsj_1170', 'wsj_1171', 'wsj_1172', 'wsj_1173', 'wsj_1174', 'wsj_1175', 'wsj_1176', 'wsj_1177', 'wsj_1178', 'wsj_1179', 'wsj_1180', 'wsj_1181', 'wsj_1182', 'wsj_1183', 'wsj_1184', 'wsj_1185', 'wsj_1186', 'wsj_1187', 'wsj_1188', 'wsj_1189', 'wsj_1190', 'wsj_1191', 'wsj_1192', 'wsj_1193', 'wsj_1194', 'wsj_1195', 'wsj_1196', 'wsj_1198', 'wsj_1199', 'wsj_1200', 'wsj_1201', 'wsj_1203', 'wsj_1204', 'wsj_1205', 'wsj_1206', 'wsj_1207', 'wsj_1208', 'wsj_1209', 'wsj_1210', 'wsj_1211', 'wsj_1212', 'wsj_1213', 'wsj_1214', 'wsj_1215', 'wsj_1216', 'wsj_1217', 'wsj_1218', 'wsj_1219', 'wsj_1220', 'wsj_1221', 'wsj_1222', 'wsj_1223', 'wsj_1224', 'wsj_1225', 'wsj_1226', 'wsj_1227', 'wsj_1228', 'wsj_1229', 'wsj_1230', 'wsj_1231', 'wsj_1232', 'wsj_1233', 'wsj_1234', 'wsj_1235', 'wsj_1236', 'wsj_1237', 'wsj_1238', 'wsj_1239', 'wsj_1241', 'wsj_1242', 'wsj_1243', 'wsj_1244', 'wsj_1246', 'wsj_1247', 'wsj_1248', 'wsj_1249', 'wsj_1250', 'wsj_1251', 'wsj_1252', 'wsj_1253', 'wsj_1254', 'wsj_1255', 'wsj_1256', 'wsj_1257', 'wsj_1258', 'wsj_1259', 'wsj_1260', 'wsj_1261', 'wsj_1262', 'wsj_1263', 'wsj_1264', 'wsj_1265', 'wsj_1266', 'wsj_1267'])\n"
     ]
    },
    {
     "name": "stdout",
     "output_type": "stream",
     "text": [
      "TOKEN COUNT:  466540\n"
     ]
    }
   ],
   "source": [
    "mix_data(conll_path, twitter_path, output_path, 465000, '465k')"
   ]
  },
  {
   "cell_type": "code",
   "execution_count": null,
   "id": "82bfde83",
   "metadata": {},
   "outputs": [],
   "source": []
  }
 ],
 "metadata": {
  "kernelspec": {
   "display_name": "Python 3 (ipykernel)",
   "language": "python",
   "name": "python3"
  },
  "language_info": {
   "codemirror_mode": {
    "name": "ipython",
    "version": 3
   },
   "file_extension": ".py",
   "mimetype": "text/x-python",
   "name": "python",
   "nbconvert_exporter": "python",
   "pygments_lexer": "ipython3",
   "version": "3.7.12"
  }
 },
 "nbformat": 4,
 "nbformat_minor": 5
}
