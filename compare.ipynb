{
 "cells": [
  {
   "cell_type": "code",
   "execution_count": 52,
   "id": "34ed909d",
   "metadata": {},
   "outputs": [],
   "source": [
    "import json\n",
    "import pandas as pd"
   ]
  },
  {
   "cell_type": "code",
   "execution_count": 85,
   "id": "1ff43519",
   "metadata": {},
   "outputs": [],
   "source": [
    "def compare(gold_standard_path, prediction_path):\n",
    "    with open(gold_standard_path) as gold_standard, \\\n",
    "        open(prediction_path) as prediction:\n",
    "        gold_standard_files = dict()\n",
    "        prediction_files = dict()\n",
    "        for p_r in prediction.readlines():\n",
    "            p_r = json.loads(p_r)\n",
    "            prediction_files[p_r['docID']] = p_r['relations']\n",
    "        for g_s_r in gold_standard.readlines():\n",
    "            g_s_r = json.loads(g_s_r)\n",
    "            if gold_standard_files.get(g_s_r['DocID']) == None:\n",
    "                gold_standard_files[g_s_r['DocID']] = []\n",
    "            gold_standard_files[g_s_r['DocID']].append(g_s_r)\n",
    "        keys = set(gold_standard_files.keys()).union(prediction_files.keys())\n",
    "        merger = dict()\n",
    "        all_relations = []\n",
    "        for key in list(keys):\n",
    "            print(key)\n",
    "            merger[key] = {\n",
    "                'predictions': prediction_files.get(key),\n",
    "                'gold_standard': gold_standard_files.get(key)\n",
    "            }\n",
    "            if prediction_files.get(key) != None:\n",
    "                for relation in prediction_files.get(key):\n",
    "                    all_relations.append({\n",
    "                        **relation,\n",
    "                        'Arg1': relation['Arg1']['RawText'],\n",
    "                        'Arg2': relation['Arg2']['RawText'],\n",
    "                        'Connective': relation['Connective']['RawText'],\n",
    "                        'sense1': '.'.join(relation['Sense'][0].split('.')[:1]),\n",
    "                        'sense2': '.'.join(relation['Sense'][0].split('.')[:2]),\n",
    "                        'source': 'prediction'\n",
    "                    })\n",
    "            if gold_standard_files.get(key) != None:\n",
    "                for relation in gold_standard_files.get(key):\n",
    "                    all_relations.append({\n",
    "                        **relation,\n",
    "                        'Arg1': relation['Arg1']['RawText'],\n",
    "                        'Arg2': relation['Arg2']['RawText'],\n",
    "                        'Connective': relation['Connective']['RawText'],\n",
    "                        'sense1': '.'.join(relation['Sense'][0].split('.')[:1]),\n",
    "                        'sense2': '.'.join(relation['Sense'][0].split('.')[:2]),\n",
    "                        'source': 'gold_standard'\n",
    "                    })\n",
    "                \n",
    "        return merger, all_relations\n",
    "        \n",
    "        "
   ]
  },
  {
   "cell_type": "code",
   "execution_count": 86,
   "id": "9ebb5763",
   "metadata": {},
   "outputs": [
    {
     "name": "stdout",
     "output_type": "stream",
     "text": [
      "092_950275823075917824.branch3.txt.username_text_tabseparated\n",
      "101_950316554691973120.branch1.txt.username_text_tabseparated\n",
      "184_950379626332815362.branch30.txt.username_text_tabseparated\n",
      "082_950235467072589826.branch69.txt.username_text_tabseparated\n",
      "138_950356456053886976.branch59.txt.username_text_tabseparated\n",
      "112_950336523261620224.branch2173.txt.username_text_tabseparated\n",
      "010_947043796579180544.branch60.txt.username_text_tabseparated\n",
      "074_950209698808164354.branch107.txt.username_text_tabseparated\n",
      "516_947201103975759872.branch139.txt.username_text_tabseparated\n",
      "036_948348290201866240.branch150.txt.username_text_tabseparated\n",
      "172_950374834311229440.branch24.txt.username_text_tabseparated\n",
      "081_950234304222670848.branch5.txt.username_text_tabseparated\n",
      "091_950275602455687168.branch204.txt.username_text_tabseparated\n",
      "004_945997191973289985.branch40.txt.username_text_tabseparated\n",
      "196_950381711933747200.branch1.txt.username_text_tabseparated\n",
      "087_950252512493359104.branch2.txt.username_text_tabseparated\n",
      "085_950247467630583808.branch8.txt.username_text_tabseparated\n",
      "190_950380522152316928.branch11.txt.username_text_tabseparated\n",
      "557_949797043312107520.branch5.txt.username_text_tabseparated\n"
     ]
    }
   ],
   "source": [
    "folder = '/home/burak/Desktop/thesis/code/IM/comparison/notokenlimit_raw_roberta'\n",
    "merger, all_relations = compare(folder + '/relations.json', folder + '/NoTokenLimit_raw_roberta.json')"
   ]
  },
  {
   "cell_type": "code",
   "execution_count": 87,
   "id": "75cb4345",
   "metadata": {},
   "outputs": [],
   "source": [
    "rels_df = pd.DataFrame(all_relations)"
   ]
  },
  {
   "cell_type": "code",
   "execution_count": 88,
   "id": "3f3c81be",
   "metadata": {},
   "outputs": [
    {
     "data": {
      "text/plain": [
       "Explicit     137\n",
       "Implicit      74\n",
       "Hypophora      9\n",
       "Name: Type, dtype: int64"
      ]
     },
     "execution_count": 88,
     "metadata": {},
     "output_type": "execute_result"
    }
   ],
   "source": [
    "rels_df[rels_df['source'] == 'gold_standard']['Type'].value_counts()"
   ]
  },
  {
   "cell_type": "code",
   "execution_count": 90,
   "id": "5e18f506",
   "metadata": {},
   "outputs": [
    {
     "data": {
      "text/plain": [
       "Contingency    80\n",
       "Expansion      71\n",
       "Comparison     49\n",
       "Temporal       11\n",
       "                9\n",
       "Name: sense1, dtype: int64"
      ]
     },
     "execution_count": 90,
     "metadata": {},
     "output_type": "execute_result"
    }
   ],
   "source": [
    "rels_df[rels_df['source'] == 'gold_standard']['sense1'].value_counts()"
   ]
  },
  {
   "cell_type": "code",
   "execution_count": 91,
   "id": "3f6c0688",
   "metadata": {},
   "outputs": [
    {
     "data": {
      "text/plain": [
       "Comparison     39\n",
       "Contingency    37\n",
       "Expansion      27\n",
       "Temporal        6\n",
       "Name: sense1, dtype: int64"
      ]
     },
     "execution_count": 91,
     "metadata": {},
     "output_type": "execute_result"
    }
   ],
   "source": [
    "rels_df[rels_df['source'] == 'prediction']['sense1'].value_counts()"
   ]
  },
  {
   "cell_type": "code",
   "execution_count": 92,
   "id": "e53ecf21",
   "metadata": {},
   "outputs": [
    {
     "data": {
      "text/plain": [
       "gold_standard    220\n",
       "prediction       109\n",
       "Name: source, dtype: int64"
      ]
     },
     "execution_count": 92,
     "metadata": {},
     "output_type": "execute_result"
    }
   ],
   "source": [
    "rels_df['source'].value_counts()"
   ]
  },
  {
   "cell_type": "code",
   "execution_count": 93,
   "id": "7a714b6e",
   "metadata": {},
   "outputs": [
    {
     "name": "stdout",
     "output_type": "stream",
     "text": [
      "092_950275823075917824.branch3.txt.username_text_tabseparated\n",
      "101_950316554691973120.branch1.txt.username_text_tabseparated\n",
      "184_950379626332815362.branch30.txt.username_text_tabseparated\n",
      "082_950235467072589826.branch69.txt.username_text_tabseparated\n",
      "138_950356456053886976.branch59.txt.username_text_tabseparated\n",
      "112_950336523261620224.branch2173.txt.username_text_tabseparated\n",
      "010_947043796579180544.branch60.txt.username_text_tabseparated\n",
      "074_950209698808164354.branch107.txt.username_text_tabseparated\n",
      "516_947201103975759872.branch139.txt.username_text_tabseparated\n",
      "036_948348290201866240.branch150.txt.username_text_tabseparated\n",
      "172_950374834311229440.branch24.txt.username_text_tabseparated\n",
      "081_950234304222670848.branch5.txt.username_text_tabseparated\n",
      "091_950275602455687168.branch204.txt.username_text_tabseparated\n",
      "004_945997191973289985.branch40.txt.username_text_tabseparated\n",
      "196_950381711933747200.branch1.txt.username_text_tabseparated\n",
      "087_950252512493359104.branch2.txt.username_text_tabseparated\n",
      "085_950247467630583808.branch8.txt.username_text_tabseparated\n",
      "190_950380522152316928.branch11.txt.username_text_tabseparated\n",
      "557_949797043312107520.branch5.txt.username_text_tabseparated\n"
     ]
    }
   ],
   "source": [
    "folder = '/home/burak/Desktop/thesis/code/IM/comparison/notokenlimit_raw_bert'\n",
    "merger, all_relations = compare(folder + '/relations.json', folder + '/NoTokenLimit_raw_bert.json')\n",
    "rels_bert_df = pd.DataFrame(all_relations)"
   ]
  },
  {
   "cell_type": "code",
   "execution_count": 98,
   "id": "d0225f2a",
   "metadata": {},
   "outputs": [
    {
     "data": {
      "text/plain": [
       "Explicit    113\n",
       "EntRel        1\n",
       "Implicit      1\n",
       "Name: Type, dtype: int64"
      ]
     },
     "execution_count": 98,
     "metadata": {},
     "output_type": "execute_result"
    }
   ],
   "source": [
    "rels_bert_df[rels_bert_df['source'] == 'prediction']['Type'].value_counts()"
   ]
  },
  {
   "cell_type": "code",
   "execution_count": 95,
   "id": "3d6c18ef",
   "metadata": {},
   "outputs": [
    {
     "data": {
      "text/plain": [
       "Contingency    80\n",
       "Expansion      71\n",
       "Comparison     49\n",
       "Temporal       11\n",
       "                9\n",
       "Name: sense1, dtype: int64"
      ]
     },
     "execution_count": 95,
     "metadata": {},
     "output_type": "execute_result"
    }
   ],
   "source": [
    "rels_bert_df[rels_bert_df['source'] == 'gold_standard']['sense1'].value_counts()"
   ]
  },
  {
   "cell_type": "code",
   "execution_count": 96,
   "id": "9194ac74",
   "metadata": {},
   "outputs": [
    {
     "data": {
      "text/plain": [
       "Comparison     37\n",
       "Contingency    34\n",
       "Expansion      27\n",
       "Temporal       16\n",
       "EntRel          1\n",
       "Name: sense1, dtype: int64"
      ]
     },
     "execution_count": 96,
     "metadata": {},
     "output_type": "execute_result"
    }
   ],
   "source": [
    "rels_bert_df[rels_bert_df['source'] == 'prediction']['sense1'].value_counts()"
   ]
  },
  {
   "cell_type": "code",
   "execution_count": 100,
   "id": "ed1dce43",
   "metadata": {},
   "outputs": [
    {
     "data": {
      "text/plain": [
       "gold_standard    220\n",
       "prediction       115\n",
       "Name: source, dtype: int64"
      ]
     },
     "execution_count": 100,
     "metadata": {},
     "output_type": "execute_result"
    }
   ],
   "source": [
    "rels_bert_df['source'].value_counts()"
   ]
  },
  {
   "cell_type": "code",
   "execution_count": null,
   "id": "2bbb65ac",
   "metadata": {},
   "outputs": [],
   "source": [
    "rels_bert_df.head(50)"
   ]
  },
  {
   "cell_type": "code",
   "execution_count": 109,
   "id": "8e482aae",
   "metadata": {},
   "outputs": [
    {
     "name": "stdout",
     "output_type": "stream",
     "text": [
      "it should be obvious that Christina Chandler was a victim of a years long harassment campaign she couldn’t effectively fight back against\n",
      "it exploited her aneurotypicality .\n"
     ]
    }
   ],
   "source": [
    "print(rels_bert_df.iloc[0]['Arg1'])\n",
    "print(rels_bert_df.iloc[0]['Arg2'])"
   ]
  },
  {
   "cell_type": "code",
   "execution_count": 110,
   "id": "60e8f9d7",
   "metadata": {},
   "outputs": [
    {
     "name": "stdout",
     "output_type": "stream",
     "text": [
      "['Christina Chandler was a victim of a years long harassment campaign she couldn’t effectively fight back against']\n",
      "['it exploited her aneurotypicality.']\n"
     ]
    }
   ],
   "source": [
    "print(rels_bert_df.iloc[15]['Arg1'])\n",
    "print(rels_bert_df.iloc[15]['Arg2'])"
   ]
  },
  {
   "cell_type": "code",
   "execution_count": 111,
   "id": "578e8c1a",
   "metadata": {},
   "outputs": [
    {
     "data": {
      "text/plain": [
       "Arg1          [Christina Chandler was a victim of a years lo...\n",
       "Arg2                       [it exploited her aneurotypicality.]\n",
       "Connective                                            [because]\n",
       "DocID         092_950275823075917824.branch3.txt.username_te...\n",
       "ID                                                         0921\n",
       "Sense                                [Contingency.Cause.Reason]\n",
       "Type                                                   Explicit\n",
       "sense1                                              Contingency\n",
       "sense2                                        Contingency.Cause\n",
       "source                                            gold_standard\n",
       "Name: 15, dtype: object"
      ]
     },
     "execution_count": 111,
     "metadata": {},
     "output_type": "execute_result"
    }
   ],
   "source": [
    "rels_bert_df.iloc[15]"
   ]
  },
  {
   "cell_type": "code",
   "execution_count": 118,
   "id": "ad217032",
   "metadata": {},
   "outputs": [
    {
     "data": {
      "text/plain": [
       "Arg1                           [I’m not defending her actions.]\n",
       "Arg2          [I am pointing out that her life was totally u...\n",
       "Connective                                                [But]\n",
       "DocID         092_950275823075917824.branch3.txt.username_te...\n",
       "ID                                                         0929\n",
       "Sense                      [Comparison.Concession.Argas-denier]\n",
       "Type                                                   Explicit\n",
       "sense1                                               Comparison\n",
       "sense2                                    Comparison.Concession\n",
       "source                                            gold_standard\n",
       "Name: 23, dtype: object"
      ]
     },
     "execution_count": 118,
     "metadata": {},
     "output_type": "execute_result"
    }
   ],
   "source": [
    "rels_bert_df.iloc[23]"
   ]
  },
  {
   "cell_type": "code",
   "execution_count": 116,
   "id": "58ef9bea",
   "metadata": {},
   "outputs": [
    {
     "name": "stdout",
     "output_type": "stream",
     "text": [
      "To be clear , Christina Chandler has done some really shitty and awful things that she has never accounted for , I ’m not defending her actions .\n",
      "I am pointing out that her life was totally uprailed by a decade plus stalking campaign that took advantage of her autism .\n",
      "-----\n",
      "['I’m not defending her actions.']\n",
      "['I am pointing out that her life was totally uprailed by a decade plus stalking campaign that took advantage of her autism.']\n"
     ]
    }
   ],
   "source": [
    "print(rels_bert_df.iloc[3]['Arg1'])\n",
    "print(rels_bert_df.iloc[3]['Arg2'])\n",
    "print('-----')\n",
    "print(rels_bert_df.iloc[23]['Arg1'])\n",
    "print(rels_bert_df.iloc[23]['Arg2'])"
   ]
  },
  {
   "cell_type": "code",
   "execution_count": 120,
   "id": "4f0e5b0e",
   "metadata": {},
   "outputs": [
    {
     "name": "stdout",
     "output_type": "stream",
     "text": [
      "like i wanted to defend CWC\n",
      "then i saw they put on black face to be funny and uh a bit harder now\n",
      "['Comparison.Concession']\n",
      "-----\n",
      "like i wanted to defend CWC\n",
      "but i saw they put on black face to be funny and uh a bit harder now\n",
      "['Temporal.Asynchronous']\n",
      "-----\n",
      "['i wanted to defend CWC']\n",
      "['i saw they put on blackface to be funny']\n",
      "['Comparison.Concession.Argas-denier']\n"
     ]
    }
   ],
   "source": [
    "print(rels_bert_df.iloc[7]['Arg1'])\n",
    "print(rels_bert_df.iloc[7]['Arg2'])\n",
    "print(rels_bert_df.iloc[7]['Sense'])\n",
    "print('-----')\n",
    "print(rels_bert_df.iloc[8]['Arg1'])\n",
    "print(rels_bert_df.iloc[8]['Arg2'])\n",
    "print(rels_bert_df.iloc[8]['Sense'])\n",
    "print('-----')\n",
    "print(rels_bert_df.iloc[32]['Arg1'])\n",
    "print(rels_bert_df.iloc[32]['Arg2'])\n",
    "print(rels_bert_df.iloc[32]['Sense'])"
   ]
  },
  {
   "cell_type": "code",
   "execution_count": 121,
   "id": "195612a7",
   "metadata": {},
   "outputs": [
    {
     "name": "stdout",
     "output_type": "stream",
     "text": [
      "They ’re / so obvious\n",
      "I don’t think they realize it at all\n",
      "['Expansion.Conjunction']\n",
      "-----\n",
      "['They’re /so obvious/']\n",
      "['I don’t think they realize it at all.']\n",
      "['Comparison.Concession.Argas-denier']\n"
     ]
    }
   ],
   "source": [
    "print(rels_bert_df.iloc[13]['Arg1'])\n",
    "print(rels_bert_df.iloc[13]['Arg2'])\n",
    "print(rels_bert_df.iloc[13]['Sense'])\n",
    "print('-----')\n",
    "print(rels_bert_df.iloc[42]['Arg1'])\n",
    "print(rels_bert_df.iloc[42]['Arg2'])\n",
    "print(rels_bert_df.iloc[42]['Sense'])"
   ]
  },
  {
   "cell_type": "code",
   "execution_count": null,
   "id": "370a53b2",
   "metadata": {},
   "outputs": [],
   "source": [
    "rels_bert_df[rels_bert_df['DocID'] == '101_950316554691973120.branch1.txt.username_text_tabseparated'].head(50)"
   ]
  },
  {
   "cell_type": "code",
   "execution_count": 124,
   "id": "2282f474",
   "metadata": {},
   "outputs": [
    {
     "name": "stdout",
     "output_type": "stream",
     "text": [
      "M8 we just put youtube on random and it was SERVING UP THE HITS . Rhythm of the night !\n",
      "Ride on time ! , Show Me Love , and about 3 by Real McCoy that I had forgotten existed .\n",
      "['Temporal.Asynchronous']\n"
     ]
    }
   ],
   "source": [
    "print(rels_bert_df.iloc[47]['Arg1'])\n",
    "print(rels_bert_df.iloc[47]['Arg2'])\n",
    "print(rels_bert_df.iloc[47]['Sense'])"
   ]
  },
  {
   "cell_type": "code",
   "execution_count": 126,
   "id": "3c35dc6d",
   "metadata": {},
   "outputs": [
    {
     "name": "stdout",
     "output_type": "stream",
     "text": [
      "is back to work so the baby and I are listening to 90s club bangers\n",
      "I clean the house and she tears up her floor mats .\n",
      "['Temporal.Synchrony']\n",
      "-----\n",
      "['the baby and I are listening to 90s club bangers']\n",
      "['I clean the house and she tears up her floor mats']\n",
      "['Temporal.Synchronous']\n"
     ]
    }
   ],
   "source": [
    "print(rels_bert_df.iloc[44]['Arg1'])\n",
    "print(rels_bert_df.iloc[44]['Arg2'])\n",
    "print(rels_bert_df.iloc[44]['Sense'])\n",
    "print('-----')\n",
    "print(rels_bert_df.iloc[49]['Arg1'])\n",
    "print(rels_bert_df.iloc[49]['Arg2'])\n",
    "print(rels_bert_df.iloc[49]['Sense'])"
   ]
  },
  {
   "cell_type": "code",
   "execution_count": 128,
   "id": "8674bd83",
   "metadata": {},
   "outputs": [
    {
     "data": {
      "text/plain": [
       "but            14\n",
       "and            12\n",
       "And            10\n",
       "if              8\n",
       "because         7\n",
       "But             6\n",
       "So              5\n",
       "so              5\n",
       "If              4\n",
       "also            3\n",
       "or              3\n",
       "still           3\n",
       "when            3\n",
       "as              3\n",
       "Or              2\n",
       "so that         2\n",
       "When            2\n",
       "while           2\n",
       "                2\n",
       "then            2\n",
       "thereby         1\n",
       "either or       1\n",
       "Furthermore     1\n",
       "Whereas         1\n",
       "However         1\n",
       "although        1\n",
       "hence           1\n",
       "Then            1\n",
       "as if           1\n",
       "however         1\n",
       "If then         1\n",
       "Finally         1\n",
       "though          1\n",
       "as long as      1\n",
       "before          1\n",
       "Still           1\n",
       "for example     1\n",
       "Name: Connective, dtype: int64"
      ]
     },
     "execution_count": 128,
     "metadata": {},
     "output_type": "execute_result"
    }
   ],
   "source": [
    "rels_bert_df[rels_bert_df['source'] == 'prediction']['Connective'].value_counts()"
   ]
  },
  {
   "cell_type": "code",
   "execution_count": 129,
   "id": "6af55eea",
   "metadata": {},
   "outputs": [
    {
     "ename": "TypeError",
     "evalue": "unhashable type: 'list'",
     "output_type": "error",
     "traceback": [
      "\u001b[0;31m---------------------------------------------------------------------------\u001b[0m",
      "\u001b[0;31mTypeError\u001b[0m                                 Traceback (most recent call last)",
      "\u001b[0;32mpandas/_libs/hashtable_class_helper.pxi\u001b[0m in \u001b[0;36mpandas._libs.hashtable.PyObjectHashTable.map_locations\u001b[0;34m()\u001b[0m\n",
      "\u001b[0;31mTypeError\u001b[0m: unhashable type: 'list'"
     ]
    },
    {
     "name": "stderr",
     "output_type": "stream",
     "text": [
      "Exception ignored in: 'pandas._libs.index.IndexEngine._call_map_locations'\n",
      "Traceback (most recent call last):\n",
      "  File \"pandas/_libs/hashtable_class_helper.pxi\", line 5231, in pandas._libs.hashtable.PyObjectHashTable.map_locations\n",
      "TypeError: unhashable type: 'list'\n"
     ]
    },
    {
     "data": {
      "text/plain": [
       "[]                  83\n",
       "[and]               20\n",
       "[but]               14\n",
       "[And]                9\n",
       "[because]            9\n",
       "[if]                 9\n",
       "[But]                6\n",
       "[so]                 5\n",
       "[as]                 4\n",
       "[or]                 4\n",
       "[when]               4\n",
       "[If]                 3\n",
       "[So]                 3\n",
       "[still]              3\n",
       "[also]               3\n",
       "[so that]            2\n",
       "[while]              2\n",
       "[]                   2\n",
       "[When]               2\n",
       "[even when]          1\n",
       "[tho]                1\n",
       "[that's]             1\n",
       "[As]                 1\n",
       "[thereby]            1\n",
       "[Or]                 1\n",
       "[although]           1\n",
       "[either, or]         1\n",
       "[However]            1\n",
       "[Whereas]            1\n",
       "[since]              1\n",
       "[ie.]                1\n",
       "[btw]                1\n",
       "[Furthermore]        1\n",
       "[Regardless of]      1\n",
       "[for]                1\n",
       "[anyway]             1\n",
       "[As a result of]     1\n",
       "[but then]           1\n",
       "[hence]              1\n",
       "[in case]            1\n",
       "[though]             1\n",
       "[before]             1\n",
       "[Then]               1\n",
       "[Still]              1\n",
       "[as if]              1\n",
       "[as long as]         1\n",
       "[whilst]             1\n",
       "[If not, n]          1\n",
       "[&amp;]              1\n",
       "[however]            1\n",
       "[like]               1\n",
       "[Like]               1\n",
       "Name: Connective, dtype: int64"
      ]
     },
     "execution_count": 129,
     "metadata": {},
     "output_type": "execute_result"
    }
   ],
   "source": [
    "rels_bert_df[rels_bert_df['source'] == 'gold_standard']['Connective'].value_counts()"
   ]
  },
  {
   "cell_type": "code",
   "execution_count": 131,
   "id": "3d336fd1",
   "metadata": {},
   "outputs": [
    {
     "name": "stdout",
     "output_type": "stream",
     "text": [
      "['Pandora has a station called “summer hits of the 90’s,']\n",
      "['you need that kinda thing']\n",
      "['Contingency.Condition+SpeechAct']\n",
      "['in case']\n"
     ]
    }
   ],
   "source": [
    "print(rels_bert_df.iloc[52]['Arg1'])\n",
    "print(rels_bert_df.iloc[52]['Arg2'])\n",
    "print(rels_bert_df.iloc[52]['Sense'])\n",
    "print(rels_bert_df.iloc[52]['Connective'])"
   ]
  },
  {
   "cell_type": "code",
   "execution_count": 138,
   "id": "dcfc3b01",
   "metadata": {},
   "outputs": [
    {
     "data": {
      "text/html": [
       "<div>\n",
       "<style scoped>\n",
       "    .dataframe tbody tr th:only-of-type {\n",
       "        vertical-align: middle;\n",
       "    }\n",
       "\n",
       "    .dataframe tbody tr th {\n",
       "        vertical-align: top;\n",
       "    }\n",
       "\n",
       "    .dataframe thead th {\n",
       "        text-align: right;\n",
       "    }\n",
       "</style>\n",
       "<table border=\"1\" class=\"dataframe\">\n",
       "  <thead>\n",
       "    <tr style=\"text-align: right;\">\n",
       "      <th></th>\n",
       "      <th>Arg1</th>\n",
       "      <th>Arg2</th>\n",
       "      <th>Connective</th>\n",
       "      <th>DocID</th>\n",
       "      <th>ID</th>\n",
       "      <th>Sense</th>\n",
       "      <th>Type</th>\n",
       "      <th>sense1</th>\n",
       "      <th>sense2</th>\n",
       "      <th>source</th>\n",
       "    </tr>\n",
       "  </thead>\n",
       "  <tbody>\n",
       "    <tr>\n",
       "      <th>182</th>\n",
       "      <td>Spotify and Apple music have 99.99 % the same ...</td>\n",
       "      <td>Netflix , Hulu and Amazon have less than 10 % .</td>\n",
       "      <td></td>\n",
       "      <td>074_950209698808164354.branch107.txt.username_...</td>\n",
       "      <td>4</td>\n",
       "      <td>[Expansion.Conjunction]</td>\n",
       "      <td>Implicit</td>\n",
       "      <td>Expansion</td>\n",
       "      <td>Expansion.Conjunction</td>\n",
       "      <td>prediction</td>\n",
       "    </tr>\n",
       "  </tbody>\n",
       "</table>\n",
       "</div>"
      ],
      "text/plain": [
       "                                                  Arg1  \\\n",
       "182  Spotify and Apple music have 99.99 % the same ...   \n",
       "\n",
       "                                                Arg2 Connective  \\\n",
       "182  Netflix , Hulu and Amazon have less than 10 % .              \n",
       "\n",
       "                                                 DocID ID  \\\n",
       "182  074_950209698808164354.branch107.txt.username_...  4   \n",
       "\n",
       "                       Sense      Type     sense1                 sense2  \\\n",
       "182  [Expansion.Conjunction]  Implicit  Expansion  Expansion.Conjunction   \n",
       "\n",
       "         source  \n",
       "182  prediction  "
      ]
     },
     "execution_count": 138,
     "metadata": {},
     "output_type": "execute_result"
    }
   ],
   "source": [
    "rels_bert_df[(rels_bert_df['source'] == 'prediction') & (rels_bert_df['Type'] == 'Implicit')]"
   ]
  },
  {
   "cell_type": "code",
   "execution_count": null,
   "id": "fe61a82e",
   "metadata": {},
   "outputs": [],
   "source": [
    "rels_bert_df[rels_bert_df['DocID'] == '074_950209698808164354.branch107.txt.username_text_tabseparated']"
   ]
  },
  {
   "cell_type": "code",
   "execution_count": 140,
   "id": "f1434f95",
   "metadata": {},
   "outputs": [
    {
     "name": "stdout",
     "output_type": "stream",
     "text": [
      "Spotify and Apple music have 99.99 % the same content .\n",
      "Netflix , Hulu and Amazon have less than 10 % .\n",
      "['Expansion.Conjunction']\n",
      "-----\n",
      "['Tidal Spotify and Apple music have 99.99% the same content.']\n",
      "['Netflix, Hulu and Amazon have less than 10%.']\n",
      "['Comparison.Contrast']\n"
     ]
    }
   ],
   "source": [
    "print(rels_bert_df.iloc[182]['Arg1'])\n",
    "print(rels_bert_df.iloc[182]['Arg2'])\n",
    "print(rels_bert_df.iloc[182]['Sense'])\n",
    "print('-----')\n",
    "print(rels_bert_df.iloc[189]['Arg1'])\n",
    "print(rels_bert_df.iloc[189]['Arg2'])\n",
    "print(rels_bert_df.iloc[189]['Sense'])"
   ]
  },
  {
   "cell_type": "code",
   "execution_count": 141,
   "id": "5c336b7c",
   "metadata": {},
   "outputs": [
    {
     "ename": "TypeError",
     "evalue": "unhashable type: 'list'",
     "output_type": "error",
     "traceback": [
      "\u001b[0;31m---------------------------------------------------------------------------\u001b[0m",
      "\u001b[0;31mTypeError\u001b[0m                                 Traceback (most recent call last)",
      "\u001b[0;32mpandas/_libs/hashtable_class_helper.pxi\u001b[0m in \u001b[0;36mpandas._libs.hashtable.PyObjectHashTable.map_locations\u001b[0;34m()\u001b[0m\n",
      "\u001b[0;31mTypeError\u001b[0m: unhashable type: 'list'"
     ]
    },
    {
     "name": "stderr",
     "output_type": "stream",
     "text": [
      "Exception ignored in: 'pandas._libs.index.IndexEngine._call_map_locations'\n",
      "Traceback (most recent call last):\n",
      "  File \"pandas/_libs/hashtable_class_helper.pxi\", line 5231, in pandas._libs.hashtable.PyObjectHashTable.map_locations\n",
      "TypeError: unhashable type: 'list'\n"
     ]
    },
    {
     "data": {
      "text/plain": [
       "[Comparison.Concession]             37\n",
       "[Contingency.Cause]                 20\n",
       "[Expansion.Conjunction]             20\n",
       "[Contingency.Condition]             13\n",
       "[Temporal.Synchronous]               9\n",
       "[Temporal.Asynchronous]              6\n",
       "[Expansion.Disjunction]              4\n",
       "[Expansion.Alternative]              2\n",
       "[Temporal.Synchrony]                 1\n",
       "[EntRel]                             1\n",
       "[Contingency.Negative-condition]     1\n",
       "[Expansion.Instantiation]            1\n",
       "Name: Sense, dtype: int64"
      ]
     },
     "execution_count": 141,
     "metadata": {},
     "output_type": "execute_result"
    }
   ],
   "source": [
    "rels_bert_df[rels_bert_df['source'] == 'prediction']['Sense'].value_counts()"
   ]
  },
  {
   "cell_type": "code",
   "execution_count": 143,
   "id": "01d32a69",
   "metadata": {},
   "outputs": [
    {
     "data": {
      "text/plain": [
       "Contingency.Cause                  57\n",
       "Expansion.Conjunction              50\n",
       "Comparison.Concession              41\n",
       "Contingency.Condition              15\n",
       "                                    9\n",
       "Temporal.Synchronous                9\n",
       "Expansion.Disjunction               6\n",
       "Expansion.Equivalence               6\n",
       "Expansion.Level-of-detail           4\n",
       "Expansion.Substitution              4\n",
       "Comparison.Contrast                 4\n",
       "Comparison.Similarity               4\n",
       "Contingency.Cause+Belief            3\n",
       "Contingency.Purpose                 2\n",
       "Temporal.Asynchronous               2\n",
       "Contingency.Condition+SpeechAct     2\n",
       "Contingency.Negative-condition      1\n",
       "Expansion.Instantiation             1\n",
       "Name: sense2, dtype: int64"
      ]
     },
     "execution_count": 143,
     "metadata": {},
     "output_type": "execute_result"
    }
   ],
   "source": [
    "rels_bert_df[rels_bert_df['source'] == 'gold_standard']['sense2'].value_counts()"
   ]
  },
  {
   "cell_type": "code",
   "execution_count": null,
   "id": "5af64680",
   "metadata": {},
   "outputs": [],
   "source": []
  }
 ],
 "metadata": {
  "kernelspec": {
   "display_name": "Python 3 (ipykernel)",
   "language": "python",
   "name": "python3"
  },
  "language_info": {
   "codemirror_mode": {
    "name": "ipython",
    "version": 3
   },
   "file_extension": ".py",
   "mimetype": "text/x-python",
   "name": "python",
   "nbconvert_exporter": "python",
   "pygments_lexer": "ipython3",
   "version": "3.7.12"
  }
 },
 "nbformat": 4,
 "nbformat_minor": 5
}
