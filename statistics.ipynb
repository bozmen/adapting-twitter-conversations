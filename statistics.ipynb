{
 "cells": [
  {
   "cell_type": "markdown",
   "metadata": {},
   "source": [
    "## Twitter Data Statistics"
   ]
  },
  {
   "cell_type": "code",
   "execution_count": 7,
   "metadata": {},
   "outputs": [],
   "source": [
    "import os\n",
    "import seaborn as sb\n",
    "import pandas as pd\n",
    "import matplotlib.pyplot as plt\n",
    "import numpy as np\n",
    "import math\n",
    "from datetime import datetime\n",
    "from scipy.stats import ttest_ind\n",
    "\n",
    "ANN_FOLDER = '../im/data/tw_data/PDTB_Annotations_20200205__/ann/raw'"
   ]
  },
  {
   "cell_type": "code",
   "execution_count": 8,
   "metadata": {},
   "outputs": [],
   "source": [
    "def get_files_in_folder(folder):\n",
    "    return os.listdir(folder)\n",
    "\n",
    "def create_statistics_per_file(folder):\n",
    "    statistics = dict()\n",
    "    file_paths = get_files_in_folder(folder)\n",
    "    for file_path in file_paths:\n",
    "        dict_id = file_path[:3]\n",
    "        statistics[dict_id] = dict()\n",
    "        statistics[dict_id]['file_path'] = folder + '/' + file_path\n",
    "        with open(statistics[dict_id]['file_path']) as f:\n",
    "            no_of_relations = 0\n",
    "            no_of_imp_relations = 0\n",
    "            no_of_exp_relations = 0\n",
    "            no_of_hyp_relations = 0\n",
    "            no_of_all_relations = 0\n",
    "            for line in f:\n",
    "                attributes = line.split('|')\n",
    "                typ = attributes[0]\n",
    "                no_of_all_relations += 1\n",
    "                ### Count the relations with type explicit and implicit. exclude the rest\n",
    "                if typ == 'Explicit':\n",
    "                    no_of_exp_relations += 1\n",
    "                    no_of_relations += 1\n",
    "                if typ == 'Implicit':\n",
    "                    no_of_imp_relations += 1\n",
    "                    no_of_relations += 1\n",
    "                if typ == 'Hypophora':\n",
    "                    no_of_hyp_relations += 1\n",
    "                    no_of_relations += 1\n",
    "            statistics[dict_id]['num_of_relations'] = no_of_relations\n",
    "            statistics[dict_id]['num_of_all_relations'] = no_of_all_relations\n",
    "            statistics[dict_id]['num_of_exp_relations'] = no_of_exp_relations\n",
    "            statistics[dict_id]['num_of_imp_relations'] = no_of_imp_relations\n",
    "            statistics[dict_id]['num_of_hyp_relations'] = no_of_hyp_relations\n",
    "            statistics[dict_id]['id'] = dict_id\n",
    "    return statistics\n",
    "        \n",
    "stats = create_statistics_per_file(ANN_FOLDER)"
   ]
  },
  {
   "cell_type": "code",
   "execution_count": 9,
   "metadata": {},
   "outputs": [],
   "source": [
    "imp_values   = [item['num_of_imp_relations'] for item in stats.values()]\n",
    "exp_values   = [item['num_of_exp_relations'] for item in stats.values()]\n",
    "total_values = [item['num_of_relations'] for item in stats.values()]\n",
    "all_values = [item['num_of_all_relations'] for item in stats.values()]"
   ]
  },
  {
   "cell_type": "code",
   "execution_count": null,
   "metadata": {},
   "outputs": [],
   "source": [
    "stats"
   ]
  },
  {
   "cell_type": "markdown",
   "metadata": {},
   "source": [
    "### Distribution of total number of relations"
   ]
  },
  {
   "cell_type": "code",
   "execution_count": 11,
   "metadata": {},
   "outputs": [
    {
     "data": {
      "text/plain": [
       "<seaborn.axisgrid.FacetGrid at 0x7faf237d6c90>"
      ]
     },
     "execution_count": 11,
     "metadata": {},
     "output_type": "execute_result"
    },
    {
     "data": {
      "image/png": "[encoded data removed]",
      "text/plain": [
       "<Figure size 360x360 with 1 Axes>"
      ]
     },
     "metadata": {
      "needs_background": "light"
     },
     "output_type": "display_data"
    }
   ],
   "source": [
    "sb.displot(total_values)"
   ]
  },
  {
   "cell_type": "markdown",
   "metadata": {},
   "source": [
    "### Distribution of total number of explicit relations"
   ]
  },
  {
   "cell_type": "code",
   "execution_count": 12,
   "metadata": {},
   "outputs": [
    {
     "data": {
      "text/plain": [
       "<seaborn.axisgrid.FacetGrid at 0x7faf237344d0>"
      ]
     },
     "execution_count": 12,
     "metadata": {},
     "output_type": "execute_result"
    },
    {
     "data": {
      "image/png": "[encoded data removed]",
      "text/plain": [
       "<Figure size 360x360 with 1 Axes>"
      ]
     },
     "metadata": {
      "needs_background": "light"
     },
     "output_type": "display_data"
    }
   ],
   "source": [
    "sb.displot(exp_values)"
   ]
  },
  {
   "cell_type": "markdown",
   "metadata": {},
   "source": [
    "### Distibution of total number of implicit relations"
   ]
  },
  {
   "cell_type": "code",
   "execution_count": 13,
   "metadata": {},
   "outputs": [
    {
     "data": {
      "text/plain": [
       "<seaborn.axisgrid.FacetGrid at 0x7faf236261d0>"
      ]
     },
     "execution_count": 13,
     "metadata": {},
     "output_type": "execute_result"
    },
    {
     "data": {
      "image/png": "[encoded data removed]",
      "text/plain": [
       "<Figure size 360x360 with 1 Axes>"
      ]
     },
     "metadata": {
      "needs_background": "light"
     },
     "output_type": "display_data"
    }
   ],
   "source": [
    "sb.displot(imp_values)"
   ]
  },
  {
   "cell_type": "markdown",
   "metadata": {},
   "source": [
    "### Explicit/Implicit Graph"
   ]
  },
  {
   "cell_type": "code",
   "execution_count": 14,
   "metadata": {},
   "outputs": [
    {
     "data": {
      "text/plain": [
       "<AxesSubplot:xlabel='num_of_imp_relations', ylabel='num_of_exp_relations'>"
      ]
     },
     "execution_count": 14,
     "metadata": {},
     "output_type": "execute_result"
    },
    {
     "data": {
      "image/png": "[encoded data removed]",
      "text/plain": [
       "<Figure size 432x432 with 1 Axes>"
      ]
     },
     "metadata": {
      "needs_background": "light"
     },
     "output_type": "display_data"
    }
   ],
   "source": [
    "stats_df = pd.DataFrame.from_dict(stats, orient='index')\n",
    "\n",
    "# create figure and axes\n",
    "fig, ax = plt.subplots(figsize=(6, 6))\n",
    "sb.regplot(data=stats_df, x=\"num_of_imp_relations\", y=\"num_of_exp_relations\", ax=ax, robust=True, marker='+')"
   ]
  },
  {
   "cell_type": "code",
   "execution_count": 15,
   "metadata": {},
   "outputs": [
    {
     "data": {
      "text/html": [
       "<div>\n",
       "<style scoped>\n",
       "    .dataframe tbody tr th:only-of-type {\n",
       "        vertical-align: middle;\n",
       "    }\n",
       "\n",
       "    .dataframe tbody tr th {\n",
       "        vertical-align: top;\n",
       "    }\n",
       "\n",
       "    .dataframe thead th {\n",
       "        text-align: right;\n",
       "    }\n",
       "</style>\n",
       "<table border=\"1\" class=\"dataframe\">\n",
       "  <thead>\n",
       "    <tr style=\"text-align: right;\">\n",
       "      <th></th>\n",
       "      <th>file_path</th>\n",
       "      <th>num_of_relations</th>\n",
       "      <th>num_of_all_relations</th>\n",
       "      <th>num_of_exp_relations</th>\n",
       "      <th>num_of_imp_relations</th>\n",
       "      <th>num_of_hyp_relations</th>\n",
       "      <th>id</th>\n",
       "    </tr>\n",
       "  </thead>\n",
       "  <tbody>\n",
       "    <tr>\n",
       "      <th>514</th>\n",
       "      <td>../im/data/tw_data/PDTB_Annotations_20200205__...</td>\n",
       "      <td>6</td>\n",
       "      <td>6</td>\n",
       "      <td>3</td>\n",
       "      <td>3</td>\n",
       "      <td>0</td>\n",
       "      <td>514</td>\n",
       "    </tr>\n",
       "    <tr>\n",
       "      <th>128</th>\n",
       "      <td>../im/data/tw_data/PDTB_Annotations_20200205__...</td>\n",
       "      <td>15</td>\n",
       "      <td>15</td>\n",
       "      <td>11</td>\n",
       "      <td>4</td>\n",
       "      <td>0</td>\n",
       "      <td>128</td>\n",
       "    </tr>\n",
       "    <tr>\n",
       "      <th>162</th>\n",
       "      <td>../im/data/tw_data/PDTB_Annotations_20200205__...</td>\n",
       "      <td>4</td>\n",
       "      <td>4</td>\n",
       "      <td>2</td>\n",
       "      <td>1</td>\n",
       "      <td>1</td>\n",
       "      <td>162</td>\n",
       "    </tr>\n",
       "    <tr>\n",
       "      <th>183</th>\n",
       "      <td>../im/data/tw_data/PDTB_Annotations_20200205__...</td>\n",
       "      <td>4</td>\n",
       "      <td>4</td>\n",
       "      <td>2</td>\n",
       "      <td>1</td>\n",
       "      <td>1</td>\n",
       "      <td>183</td>\n",
       "    </tr>\n",
       "    <tr>\n",
       "      <th>107</th>\n",
       "      <td>../im/data/tw_data/PDTB_Annotations_20200205__...</td>\n",
       "      <td>12</td>\n",
       "      <td>12</td>\n",
       "      <td>8</td>\n",
       "      <td>3</td>\n",
       "      <td>1</td>\n",
       "      <td>107</td>\n",
       "    </tr>\n",
       "  </tbody>\n",
       "</table>\n",
       "</div>"
      ],
      "text/plain": [
       "                                             file_path  num_of_relations  \\\n",
       "514  ../im/data/tw_data/PDTB_Annotations_20200205__...                 6   \n",
       "128  ../im/data/tw_data/PDTB_Annotations_20200205__...                15   \n",
       "162  ../im/data/tw_data/PDTB_Annotations_20200205__...                 4   \n",
       "183  ../im/data/tw_data/PDTB_Annotations_20200205__...                 4   \n",
       "107  ../im/data/tw_data/PDTB_Annotations_20200205__...                12   \n",
       "\n",
       "     num_of_all_relations  num_of_exp_relations  num_of_imp_relations  \\\n",
       "514                     6                     3                     3   \n",
       "128                    15                    11                     4   \n",
       "162                     4                     2                     1   \n",
       "183                     4                     2                     1   \n",
       "107                    12                     8                     3   \n",
       "\n",
       "     num_of_hyp_relations   id  \n",
       "514                     0  514  \n",
       "128                     0  128  \n",
       "162                     1  162  \n",
       "183                     1  183  \n",
       "107                     1  107  "
      ]
     },
     "execution_count": 15,
     "metadata": {},
     "output_type": "execute_result"
    }
   ],
   "source": [
    "stats_df.head()"
   ]
  },
  {
   "cell_type": "code",
   "execution_count": 16,
   "metadata": {},
   "outputs": [
    {
     "data": {
      "text/html": [
       "<div>\n",
       "<style scoped>\n",
       "    .dataframe tbody tr th:only-of-type {\n",
       "        vertical-align: middle;\n",
       "    }\n",
       "\n",
       "    .dataframe tbody tr th {\n",
       "        vertical-align: top;\n",
       "    }\n",
       "\n",
       "    .dataframe thead th {\n",
       "        text-align: right;\n",
       "    }\n",
       "</style>\n",
       "<table border=\"1\" class=\"dataframe\">\n",
       "  <thead>\n",
       "    <tr style=\"text-align: right;\">\n",
       "      <th></th>\n",
       "      <th>num_of_relations</th>\n",
       "      <th>num_of_all_relations</th>\n",
       "      <th>num_of_exp_relations</th>\n",
       "      <th>num_of_imp_relations</th>\n",
       "      <th>num_of_hyp_relations</th>\n",
       "    </tr>\n",
       "  </thead>\n",
       "  <tbody>\n",
       "    <tr>\n",
       "      <th>count</th>\n",
       "      <td>184.000000</td>\n",
       "      <td>184.000000</td>\n",
       "      <td>184.000000</td>\n",
       "      <td>184.000000</td>\n",
       "      <td>184.000000</td>\n",
       "    </tr>\n",
       "    <tr>\n",
       "      <th>mean</th>\n",
       "      <td>12.402174</td>\n",
       "      <td>12.402174</td>\n",
       "      <td>7.788043</td>\n",
       "      <td>3.978261</td>\n",
       "      <td>0.635870</td>\n",
       "    </tr>\n",
       "    <tr>\n",
       "      <th>std</th>\n",
       "      <td>14.189244</td>\n",
       "      <td>14.189244</td>\n",
       "      <td>9.719771</td>\n",
       "      <td>4.798630</td>\n",
       "      <td>1.087945</td>\n",
       "    </tr>\n",
       "    <tr>\n",
       "      <th>min</th>\n",
       "      <td>0.000000</td>\n",
       "      <td>0.000000</td>\n",
       "      <td>0.000000</td>\n",
       "      <td>0.000000</td>\n",
       "      <td>0.000000</td>\n",
       "    </tr>\n",
       "    <tr>\n",
       "      <th>25%</th>\n",
       "      <td>4.000000</td>\n",
       "      <td>4.000000</td>\n",
       "      <td>2.000000</td>\n",
       "      <td>1.000000</td>\n",
       "      <td>0.000000</td>\n",
       "    </tr>\n",
       "    <tr>\n",
       "      <th>50%</th>\n",
       "      <td>8.000000</td>\n",
       "      <td>8.000000</td>\n",
       "      <td>4.500000</td>\n",
       "      <td>2.000000</td>\n",
       "      <td>0.000000</td>\n",
       "    </tr>\n",
       "    <tr>\n",
       "      <th>75%</th>\n",
       "      <td>15.000000</td>\n",
       "      <td>15.000000</td>\n",
       "      <td>10.000000</td>\n",
       "      <td>5.000000</td>\n",
       "      <td>1.000000</td>\n",
       "    </tr>\n",
       "    <tr>\n",
       "      <th>max</th>\n",
       "      <td>102.000000</td>\n",
       "      <td>102.000000</td>\n",
       "      <td>58.000000</td>\n",
       "      <td>41.000000</td>\n",
       "      <td>8.000000</td>\n",
       "    </tr>\n",
       "  </tbody>\n",
       "</table>\n",
       "</div>"
      ],
      "text/plain": [
       "       num_of_relations  num_of_all_relations  num_of_exp_relations  \\\n",
       "count        184.000000            184.000000            184.000000   \n",
       "mean          12.402174             12.402174              7.788043   \n",
       "std           14.189244             14.189244              9.719771   \n",
       "min            0.000000              0.000000              0.000000   \n",
       "25%            4.000000              4.000000              2.000000   \n",
       "50%            8.000000              8.000000              4.500000   \n",
       "75%           15.000000             15.000000             10.000000   \n",
       "max          102.000000            102.000000             58.000000   \n",
       "\n",
       "       num_of_imp_relations  num_of_hyp_relations  \n",
       "count            184.000000            184.000000  \n",
       "mean               3.978261              0.635870  \n",
       "std                4.798630              1.087945  \n",
       "min                0.000000              0.000000  \n",
       "25%                1.000000              0.000000  \n",
       "50%                2.000000              0.000000  \n",
       "75%                5.000000              1.000000  \n",
       "max               41.000000              8.000000  "
      ]
     },
     "execution_count": 16,
     "metadata": {},
     "output_type": "execute_result"
    }
   ],
   "source": [
    "stats_df.describe()"
   ]
  },
  {
   "cell_type": "code",
   "execution_count": 17,
   "metadata": {},
   "outputs": [
    {
     "data": {
      "text/plain": [
       "file_path               ../im/data/tw_data/PDTB_Annotations_20200205__...\n",
       "num_of_relations                                                     2282\n",
       "num_of_all_relations                                                 2282\n",
       "num_of_exp_relations                                                 1433\n",
       "num_of_imp_relations                                                  732\n",
       "num_of_hyp_relations                                                  117\n",
       "id                      5141281621831070981040851640025045340540880015...\n",
       "dtype: object"
      ]
     },
     "execution_count": 17,
     "metadata": {},
     "output_type": "execute_result"
    }
   ],
   "source": [
    "stats_df.sum()"
   ]
  },
  {
   "cell_type": "code",
   "execution_count": 18,
   "metadata": {},
   "outputs": [],
   "source": [
    "def try_partitioning(number_of_trials, files, train_percentage):\n",
    "    file_ids = files.keys()\n",
    "    total = sum([file['num_of_relations'] for file in files.values()])\n",
    "    print(total)\n",
    "    number_of_files = len(file_ids)\n",
    "    trials = []\n",
    "    \n",
    "    now = datetime.now()\n",
    "\n",
    "    current_time = now.strftime(\"%H%M%S\")\n",
    "    \n",
    "    target = math.floor(total * train_percentage / 100)\n",
    "    \n",
    "    with open(current_time + '_results', 'w+') as f:\n",
    "        for i in range(number_of_trials):\n",
    "            # train\n",
    "            start_id = list(files.keys())[np.random.randint(0, high=number_of_files)]\n",
    "            start_file = files[start_id]\n",
    "            total_sum = start_file['num_of_relations']\n",
    "            train_file_ids = []\n",
    "            train_file_ids.append(start_id)\n",
    "            while (total_sum < target):\n",
    "                new_id = list(files.keys())[np.random.randint(0, high=number_of_files)]\n",
    "                if new_id in train_file_ids:\n",
    "                    continue\n",
    "                new_file = files[new_id]\n",
    "                train_file_ids.append(new_id)\n",
    "                total_sum += new_file['num_of_relations']\n",
    "\n",
    "            # test\n",
    "            test_file_ids = []\n",
    "            for _id in file_ids:\n",
    "                if _id not in train_file_ids:\n",
    "                    test_file_ids.append(_id)\n",
    "            # dev\n",
    "            dev_target = ((total - target) / 2)\n",
    "            dev_file_ids = []\n",
    "            dev_sum = 0\n",
    "            while (dev_sum < dev_target):\n",
    "                random_id = test_file_ids[np.random.randint(0, high=len(test_file_ids))]\n",
    "                dev_file_ids.append(random_id)\n",
    "                dev_sum += files[random_id]['num_of_relations']\n",
    "                test_file_ids.remove(random_id)\n",
    "\n",
    "            train_files = [files[_id] for _id in train_file_ids]\n",
    "            test_files = [files[_id] for _id in test_file_ids]\n",
    "            dev_files = [files[_id] for _id in dev_file_ids]\n",
    "\n",
    "            train_e = sum([file['num_of_exp_relations'] for file in train_files])\n",
    "            train_i = sum([file['num_of_imp_relations'] for file in train_files])\n",
    "\n",
    "            test_e = sum([file['num_of_exp_relations'] for file in test_files])\n",
    "            test_i = sum([file['num_of_imp_relations'] for file in test_files])\n",
    "\n",
    "            dev_e = sum([file['num_of_exp_relations'] for file in dev_files])\n",
    "            dev_i = sum([file['num_of_imp_relations'] for file in dev_files])\n",
    "            \n",
    "\n",
    "            f.write('train:' + str(train_e) + ' ' + str(train_i) + ' ' + str(train_e / train_i) + '\\n')\n",
    "            f.write('test:' + str(test_e) + ' ' + str(test_i) + ' ' + str(test_e / test_i) + '\\n')\n",
    "            f.write('dev:' + str(dev_e) + ' ' + str(dev_i) + ' ' + str(dev_e / dev_i) + '\\n')\n",
    "            \n",
    "            f.write('\\n')\n",
    "            \n",
    "            f.write('train files: ' + str([file['id'] for file in train_files]) + '\\n')\n",
    "            f.write('test files: ' + str([file['id'] for file in test_files]) + '\\n')\n",
    "            f.write('dev files: ' + str([file['id'] for file in dev_files]) + '\\n')\n",
    "            \n",
    "            f.write('total rel scores: ' + str((total_sum / total) / (train_percentage / 100)) + ' ' + str(dev_target / dev_sum) + '\\n')\n",
    "            f.write('specific rel score:' + str(train_e / train_i) + ' ' + str(test_e / test_i) + ' ' + str(dev_e / dev_i) + '\\n')\n",
    "            \n",
    "            f.write('---------------------------------------------------------------')\n",
    "            f.write('\\n')\n",
    "            \n",
    "            \n",
    "\n",
    "    "
   ]
  },
  {
   "cell_type": "code",
   "execution_count": 19,
   "metadata": {},
   "outputs": [],
   "source": [
    "# try_partitioning(100, stats, 80)"
   ]
  },
  {
   "cell_type": "markdown",
   "metadata": {},
   "source": [
    "## With respect to types"
   ]
  },
  {
   "cell_type": "code",
   "execution_count": 20,
   "metadata": {},
   "outputs": [],
   "source": [
    "from parse_annotation import parse_annotation, parse_relations, parse_tweets\n",
    "import numpy as np\n",
    "from functools import reduce\n",
    "import pandas as pd\n",
    "\n",
    "BASE_DATA_PATH = \"/home/burak/Desktop/thesis/code/IM/im/data/tw_data/PDTB_Annotations_20200205__/preprocessed_with_points\"\n",
    "THREADS_PATH = BASE_DATA_PATH + \"/threads\"\n",
    "FIXED_PATH = BASE_DATA_PATH + \"/fixed\"\n",
    "ANN_PATH = BASE_DATA_PATH + \"/ann\"\n",
    "RAW_PATH = '/home/burak/Desktop/thesis/code/IM/twitter_data/raw'\n",
    "RAW_ANN_PATH = '/home/burak/Desktop/thesis/code/IM/twitter_data/ann/raw'\n",
    "\n",
    "def calculate_length_from_range(_range):\n",
    "    ranges = _range.split(';')\n",
    "    length = 0\n",
    "    for r in ranges:\n",
    "        values = r.split('..')\n",
    "        if len(values) == 1:\n",
    "            continue\n",
    "        length += int(values[1]) - int(values[0])\n",
    "    return length\n",
    "\n",
    "def get_sense(full_sense, level=3):\n",
    "    return '.'.join(full_sense.split('.')[:level])\n",
    "    "
   ]
  },
  {
   "cell_type": "code",
   "execution_count": 21,
   "metadata": {},
   "outputs": [
    {
     "name": "stdout",
     "output_type": "stream",
     "text": [
      "093_950279658192347136.branch49.txt.username_text_tabseparated [Errno 2] No such file or directory: '/home/burak/Desktop/thesis/code/IM/im/data/tw_data/PDTB_Annotations_20200205__/preprocessed_with_points/ann/093_950279658192347136.branch49.txt.username_text_tabseparated'\n",
      "Traceback (most recent call last):\n",
      "  File \"/tmp/ipykernel_12993/1801558918.py\", line 14, in <module>\n",
      "    check_intertweet=True\n",
      "  File \"/home/burak/Desktop/thesis/code/IM/thesis/parse_annotation.py\", line 26, in parse_annotation\n",
      "    with open(annotated_file_path) as ann_file:\n",
      "FileNotFoundError: [Errno 2] No such file or directory: '/home/burak/Desktop/thesis/code/IM/im/data/tw_data/PDTB_Annotations_20200205__/preprocessed_with_points/ann/093_950279658192347136.branch49.txt.username_text_tabseparated'\n",
      "\n",
      "----------------------------------------------------\n"
     ]
    }
   ],
   "source": [
    "import traceback\n",
    "\n",
    "files = os.listdir(THREADS_PATH)\n",
    "\n",
    "readable_annotations = dict()\n",
    "tweets = dict()\n",
    "\n",
    "for file in files:\n",
    "    try:\n",
    "        readable_annotations[file] = list()\n",
    "        for annotation in parse_annotation(\n",
    "            THREADS_PATH + '/' + file,\n",
    "            ANN_PATH + '/' + file,\n",
    "            check_intertweet=True\n",
    "        ):\n",
    "            readable_annotations[file].append(annotation)\n",
    "        file_tweets = parse_tweets(\n",
    "            file,\n",
    "            readable_annotations[file],\n",
    "            RAW_PATH,\n",
    "            THREADS_PATH\n",
    "        )\n",
    "        tweets[file] = file_tweets\n",
    "    except Exception as inst:\n",
    "        print(file, inst)\n",
    "        tb = traceback.format_exc()\n",
    "        print(tb)\n",
    "        print('----------------------------------------------------')\n",
    "\n",
    "all_annotations = reduce(lambda x, y: x+y, [file_annotations for file_annotations in readable_annotations.values()])"
   ]
  },
  {
   "cell_type": "code",
   "execution_count": 22,
   "metadata": {},
   "outputs": [],
   "source": [
    "def get_relation(file_id, tweet_id):\n",
    "    return readable_annotations[file_id][tweet_id]"
   ]
  },
  {
   "cell_type": "code",
   "execution_count": 23,
   "metadata": {},
   "outputs": [],
   "source": [
    "annotations_df = pd.DataFrame(all_annotations)"
   ]
  },
  {
   "cell_type": "code",
   "execution_count": null,
   "metadata": {},
   "outputs": [],
   "source": [
    "annotations_df.head()"
   ]
  },
  {
   "cell_type": "code",
   "execution_count": 25,
   "metadata": {},
   "outputs": [
    {
     "data": {
      "text/html": [
       "<div>\n",
       "<style scoped>\n",
       "    .dataframe tbody tr th:only-of-type {\n",
       "        vertical-align: middle;\n",
       "    }\n",
       "\n",
       "    .dataframe tbody tr th {\n",
       "        vertical-align: top;\n",
       "    }\n",
       "\n",
       "    .dataframe thead th {\n",
       "        text-align: right;\n",
       "    }\n",
       "</style>\n",
       "<table border=\"1\" class=\"dataframe\">\n",
       "  <thead>\n",
       "    <tr style=\"text-align: right;\">\n",
       "      <th></th>\n",
       "      <th>file_id</th>\n",
       "      <th>arg1_range</th>\n",
       "      <th>arg2_range</th>\n",
       "      <th>arg1</th>\n",
       "      <th>arg2</th>\n",
       "      <th>connective_range</th>\n",
       "      <th>connective</th>\n",
       "      <th>sense</th>\n",
       "      <th>type</th>\n",
       "      <th>intertweet</th>\n",
       "    </tr>\n",
       "  </thead>\n",
       "  <tbody>\n",
       "    <tr>\n",
       "      <th>169</th>\n",
       "      <td>/home/burak/Desktop/thesis/code/IM/im/data/tw_...</td>\n",
       "      <td>78..94</td>\n",
       "      <td>100..128</td>\n",
       "      <td>[are raping women]</td>\n",
       "      <td>[staying silent about rapists]</td>\n",
       "      <td>96..99</td>\n",
       "      <td>[and]</td>\n",
       "      <td>Expansion.Conjunction</td>\n",
       "      <td>Explicit</td>\n",
       "      <td>False</td>\n",
       "    </tr>\n",
       "    <tr>\n",
       "      <th>170</th>\n",
       "      <td>/home/burak/Desktop/thesis/code/IM/im/data/tw_...</td>\n",
       "      <td>34..132</td>\n",
       "      <td>133..189</td>\n",
       "      <td>[A place where rich, privileged liberals who a...</td>\n",
       "      <td>[to talk about how morally outraged they are a...</td>\n",
       "      <td>133</td>\n",
       "      <td>None</td>\n",
       "      <td>Contingency.Purpose.Argas-goal</td>\n",
       "      <td>Implicit</td>\n",
       "      <td>False</td>\n",
       "    </tr>\n",
       "    <tr>\n",
       "      <th>171</th>\n",
       "      <td>/home/burak/Desktop/thesis/code/IM/im/data/tw_...</td>\n",
       "      <td>34..189</td>\n",
       "      <td>205..223</td>\n",
       "      <td>[A place where rich, privileged liberals who a...</td>\n",
       "      <td>[No one mentioned T]</td>\n",
       "      <td>205</td>\n",
       "      <td>None</td>\n",
       "      <td>Comparison.Concession.Argas-denier</td>\n",
       "      <td>Implicit</td>\n",
       "      <td>False</td>\n",
       "    </tr>\n",
       "    <tr>\n",
       "      <th>172</th>\n",
       "      <td>/home/burak/Desktop/thesis/code/IM/im/data/tw_...</td>\n",
       "      <td>321..348</td>\n",
       "      <td>353..437</td>\n",
       "      <td>[it's a new day...come join.]</td>\n",
       "      <td>[the rapists were called out earlier and will ...</td>\n",
       "      <td>349..352</td>\n",
       "      <td>[And]</td>\n",
       "      <td>Expansion.Conjunction</td>\n",
       "      <td>Explicit</td>\n",
       "      <td>False</td>\n",
       "    </tr>\n",
       "    <tr>\n",
       "      <th>173</th>\n",
       "      <td>/home/burak/Desktop/thesis/code/IM/im/data/tw_...</td>\n",
       "      <td>353..388</td>\n",
       "      <td>393..412</td>\n",
       "      <td>[the rapists were called out earlier]</td>\n",
       "      <td>[will continue to be]</td>\n",
       "      <td>389..392</td>\n",
       "      <td>[and]</td>\n",
       "      <td>Expansion.Conjunction</td>\n",
       "      <td>Explicit</td>\n",
       "      <td>False</td>\n",
       "    </tr>\n",
       "    <tr>\n",
       "      <th>174</th>\n",
       "      <td>/home/burak/Desktop/thesis/code/IM/im/data/tw_...</td>\n",
       "      <td>353..412</td>\n",
       "      <td>414..437</td>\n",
       "      <td>[the rapists were called out earlier and will ...</td>\n",
       "      <td>[be he president or not.]</td>\n",
       "      <td>414</td>\n",
       "      <td>None</td>\n",
       "      <td>Comparison.Concession.Argas-denier</td>\n",
       "      <td>Implicit</td>\n",
       "      <td>False</td>\n",
       "    </tr>\n",
       "    <tr>\n",
       "      <th>175</th>\n",
       "      <td>/home/burak/Desktop/thesis/code/IM/im/data/tw_...</td>\n",
       "      <td>483..549</td>\n",
       "      <td>550..599</td>\n",
       "      <td>[They have a nerve trying to act like they are...</td>\n",
       "      <td>[Those in attendance played at part in the cri...</td>\n",
       "      <td>550</td>\n",
       "      <td>None</td>\n",
       "      <td>Contingency.Cause.Reason</td>\n",
       "      <td>Implicit</td>\n",
       "      <td>False</td>\n",
       "    </tr>\n",
       "    <tr>\n",
       "      <th>176</th>\n",
       "      <td>/home/burak/Desktop/thesis/code/IM/im/data/tw_...</td>\n",
       "      <td>549..598</td>\n",
       "      <td>599..650</td>\n",
       "      <td>[ Those in attendance played at part in the cr...</td>\n",
       "      <td>[ They celebrated the likes of Woody Alen, Wei...</td>\n",
       "      <td>599</td>\n",
       "      <td>None</td>\n",
       "      <td>Expansion.Manner.Argas-manner</td>\n",
       "      <td>Implicit</td>\n",
       "      <td>False</td>\n",
       "    </tr>\n",
       "    <tr>\n",
       "      <th>177</th>\n",
       "      <td>/home/burak/Desktop/thesis/code/IM/im/data/tw_...</td>\n",
       "      <td>483..651</td>\n",
       "      <td>652..703</td>\n",
       "      <td>[They have a nerve trying to act like they are...</td>\n",
       "      <td>[The word hypocrisy is something you should lo...</td>\n",
       "      <td>652</td>\n",
       "      <td>None</td>\n",
       "      <td>Contingency.Cause.Result</td>\n",
       "      <td>Implicit</td>\n",
       "      <td>False</td>\n",
       "    </tr>\n",
       "    <tr>\n",
       "      <th>178</th>\n",
       "      <td>/home/burak/Desktop/thesis/code/IM/im/data/tw_...</td>\n",
       "      <td>794..837</td>\n",
       "      <td>838..868</td>\n",
       "      <td>[There was a positive message at the Globes.]</td>\n",
       "      <td>[Get on board and stop pouting.]</td>\n",
       "      <td>838</td>\n",
       "      <td>None</td>\n",
       "      <td>Contingency.Cause.Result</td>\n",
       "      <td>Implicit</td>\n",
       "      <td>False</td>\n",
       "    </tr>\n",
       "    <tr>\n",
       "      <th>179</th>\n",
       "      <td>/home/burak/Desktop/thesis/code/IM/im/data/tw_...</td>\n",
       "      <td>838..850</td>\n",
       "      <td>855..868</td>\n",
       "      <td>[Get on board]</td>\n",
       "      <td>[stop pouting.]</td>\n",
       "      <td>851..854</td>\n",
       "      <td>[and]</td>\n",
       "      <td>Expansion.Conjunction</td>\n",
       "      <td>Explicit</td>\n",
       "      <td>False</td>\n",
       "    </tr>\n",
       "    <tr>\n",
       "      <th>180</th>\n",
       "      <td>/home/burak/Desktop/thesis/code/IM/im/data/tw_...</td>\n",
       "      <td>926..994</td>\n",
       "      <td>995..1048</td>\n",
       "      <td>[For someone who proports to be a black man, y...</td>\n",
       "      <td>[Every atrocity of ur Party you conveniently o...</td>\n",
       "      <td>995</td>\n",
       "      <td>None</td>\n",
       "      <td>Contingency.Cause.Reason</td>\n",
       "      <td>Implicit</td>\n",
       "      <td>False</td>\n",
       "    </tr>\n",
       "    <tr>\n",
       "      <th>181</th>\n",
       "      <td>/home/burak/Desktop/thesis/code/IM/im/data/tw_...</td>\n",
       "      <td>1121..1148</td>\n",
       "      <td>1153..1163</td>\n",
       "      <td>[fake righteous from on high]</td>\n",
       "      <td>[are guilty]</td>\n",
       "      <td>1149..1152</td>\n",
       "      <td>[and]</td>\n",
       "      <td>Expansion.Conjunction</td>\n",
       "      <td>Explicit</td>\n",
       "      <td>False</td>\n",
       "    </tr>\n",
       "    <tr>\n",
       "      <th>182</th>\n",
       "      <td>/home/burak/Desktop/thesis/code/IM/im/data/tw_...</td>\n",
       "      <td>1234..1306</td>\n",
       "      <td>1307..1317;1328..1369</td>\n",
       "      <td>[Dude, I as born in 1981. Anything before that...</td>\n",
       "      <td>[Your party, whatever that may be, you should ...</td>\n",
       "      <td>1319..1326</td>\n",
       "      <td>[however]</td>\n",
       "      <td>Comparison.Contrast</td>\n",
       "      <td>Explicit</td>\n",
       "      <td>False</td>\n",
       "    </tr>\n",
       "    <tr>\n",
       "      <th>183</th>\n",
       "      <td>/home/burak/Desktop/thesis/code/IM/im/data/tw_...</td>\n",
       "      <td>1370..1396</td>\n",
       "      <td>1400..1472</td>\n",
       "      <td>[Life would be a lot easier]</td>\n",
       "      <td>[we didn't have to fix everything Obama and th...</td>\n",
       "      <td>1397..1399</td>\n",
       "      <td>[if]</td>\n",
       "      <td>Contingency.Condition.Argas-cond</td>\n",
       "      <td>Explicit</td>\n",
       "      <td>False</td>\n",
       "    </tr>\n",
       "    <tr>\n",
       "      <th>184</th>\n",
       "      <td>/home/burak/Desktop/thesis/code/IM/im/data/tw_...</td>\n",
       "      <td>1552..1563</td>\n",
       "      <td>1564..1582</td>\n",
       "      <td>[You name it]</td>\n",
       "      <td>[we have to Fix it.]</td>\n",
       "      <td>1564</td>\n",
       "      <td>None</td>\n",
       "      <td>Expansion.Conjunction</td>\n",
       "      <td>Implicit</td>\n",
       "      <td>False</td>\n",
       "    </tr>\n",
       "    <tr>\n",
       "      <th>185</th>\n",
       "      <td>/home/burak/Desktop/thesis/code/IM/im/data/tw_...</td>\n",
       "      <td>1583..1624</td>\n",
       "      <td>1632..1646</td>\n",
       "      <td>[He put more blacks out of work in history]</td>\n",
       "      <td>[you like him.?]</td>\n",
       "      <td>1627..1630</td>\n",
       "      <td>[But]</td>\n",
       "      <td>Comparison.Concession.Argas-denier</td>\n",
       "      <td>Explicit</td>\n",
       "      <td>False</td>\n",
       "    </tr>\n",
       "    <tr>\n",
       "      <th>186</th>\n",
       "      <td>/home/burak/Desktop/thesis/code/IM/im/data/tw_...</td>\n",
       "      <td>1797..1833</td>\n",
       "      <td>1834..1850</td>\n",
       "      <td>[Just can’t let shit like that slide.]</td>\n",
       "      <td>[Have a good day.]</td>\n",
       "      <td>1834</td>\n",
       "      <td>None</td>\n",
       "      <td>Comparison.Concession.Argas-denier</td>\n",
       "      <td>Implicit</td>\n",
       "      <td>False</td>\n",
       "    </tr>\n",
       "  </tbody>\n",
       "</table>\n",
       "</div>"
      ],
      "text/plain": [
       "                                               file_id  arg1_range  \\\n",
       "169  /home/burak/Desktop/thesis/code/IM/im/data/tw_...      78..94   \n",
       "170  /home/burak/Desktop/thesis/code/IM/im/data/tw_...     34..132   \n",
       "171  /home/burak/Desktop/thesis/code/IM/im/data/tw_...     34..189   \n",
       "172  /home/burak/Desktop/thesis/code/IM/im/data/tw_...    321..348   \n",
       "173  /home/burak/Desktop/thesis/code/IM/im/data/tw_...    353..388   \n",
       "174  /home/burak/Desktop/thesis/code/IM/im/data/tw_...    353..412   \n",
       "175  /home/burak/Desktop/thesis/code/IM/im/data/tw_...    483..549   \n",
       "176  /home/burak/Desktop/thesis/code/IM/im/data/tw_...    549..598   \n",
       "177  /home/burak/Desktop/thesis/code/IM/im/data/tw_...    483..651   \n",
       "178  /home/burak/Desktop/thesis/code/IM/im/data/tw_...    794..837   \n",
       "179  /home/burak/Desktop/thesis/code/IM/im/data/tw_...    838..850   \n",
       "180  /home/burak/Desktop/thesis/code/IM/im/data/tw_...    926..994   \n",
       "181  /home/burak/Desktop/thesis/code/IM/im/data/tw_...  1121..1148   \n",
       "182  /home/burak/Desktop/thesis/code/IM/im/data/tw_...  1234..1306   \n",
       "183  /home/burak/Desktop/thesis/code/IM/im/data/tw_...  1370..1396   \n",
       "184  /home/burak/Desktop/thesis/code/IM/im/data/tw_...  1552..1563   \n",
       "185  /home/burak/Desktop/thesis/code/IM/im/data/tw_...  1583..1624   \n",
       "186  /home/burak/Desktop/thesis/code/IM/im/data/tw_...  1797..1833   \n",
       "\n",
       "                arg2_range                                               arg1  \\\n",
       "169               100..128                                 [are raping women]   \n",
       "170               133..189  [A place where rich, privileged liberals who a...   \n",
       "171               205..223  [A place where rich, privileged liberals who a...   \n",
       "172               353..437                      [it's a new day...come join.]   \n",
       "173               393..412              [the rapists were called out earlier]   \n",
       "174               414..437  [the rapists were called out earlier and will ...   \n",
       "175               550..599  [They have a nerve trying to act like they are...   \n",
       "176               599..650  [ Those in attendance played at part in the cr...   \n",
       "177               652..703  [They have a nerve trying to act like they are...   \n",
       "178               838..868      [There was a positive message at the Globes.]   \n",
       "179               855..868                                     [Get on board]   \n",
       "180              995..1048  [For someone who proports to be a black man, y...   \n",
       "181             1153..1163                      [fake righteous from on high]   \n",
       "182  1307..1317;1328..1369  [Dude, I as born in 1981. Anything before that...   \n",
       "183             1400..1472                       [Life would be a lot easier]   \n",
       "184             1564..1582                                      [You name it]   \n",
       "185             1632..1646        [He put more blacks out of work in history]   \n",
       "186             1834..1850             [Just can’t let shit like that slide.]   \n",
       "\n",
       "                                                  arg2 connective_range  \\\n",
       "169                     [staying silent about rapists]           96..99   \n",
       "170  [to talk about how morally outraged they are a...              133   \n",
       "171                               [No one mentioned T]              205   \n",
       "172  [the rapists were called out earlier and will ...         349..352   \n",
       "173                              [will continue to be]         389..392   \n",
       "174                          [be he president or not.]              414   \n",
       "175  [Those in attendance played at part in the cri...              550   \n",
       "176  [ They celebrated the likes of Woody Alen, Wei...              599   \n",
       "177  [The word hypocrisy is something you should lo...              652   \n",
       "178                   [Get on board and stop pouting.]              838   \n",
       "179                                    [stop pouting.]         851..854   \n",
       "180  [Every atrocity of ur Party you conveniently o...              995   \n",
       "181                                       [are guilty]       1149..1152   \n",
       "182  [Your party, whatever that may be, you should ...       1319..1326   \n",
       "183  [we didn't have to fix everything Obama and th...       1397..1399   \n",
       "184                               [we have to Fix it.]             1564   \n",
       "185                                   [you like him.?]       1627..1630   \n",
       "186                                 [Have a good day.]             1834   \n",
       "\n",
       "    connective                               sense      type intertweet  \n",
       "169      [and]               Expansion.Conjunction  Explicit      False  \n",
       "170       None      Contingency.Purpose.Argas-goal  Implicit      False  \n",
       "171       None  Comparison.Concession.Argas-denier  Implicit      False  \n",
       "172      [And]               Expansion.Conjunction  Explicit      False  \n",
       "173      [and]               Expansion.Conjunction  Explicit      False  \n",
       "174       None  Comparison.Concession.Argas-denier  Implicit      False  \n",
       "175       None            Contingency.Cause.Reason  Implicit      False  \n",
       "176       None       Expansion.Manner.Argas-manner  Implicit      False  \n",
       "177       None            Contingency.Cause.Result  Implicit      False  \n",
       "178       None            Contingency.Cause.Result  Implicit      False  \n",
       "179      [and]               Expansion.Conjunction  Explicit      False  \n",
       "180       None            Contingency.Cause.Reason  Implicit      False  \n",
       "181      [and]               Expansion.Conjunction  Explicit      False  \n",
       "182  [however]                 Comparison.Contrast  Explicit      False  \n",
       "183       [if]    Contingency.Condition.Argas-cond  Explicit      False  \n",
       "184       None               Expansion.Conjunction  Implicit      False  \n",
       "185      [But]  Comparison.Concession.Argas-denier  Explicit      False  \n",
       "186       None  Comparison.Concession.Argas-denier  Implicit      False  "
      ]
     },
     "execution_count": 25,
     "metadata": {},
     "output_type": "execute_result"
    }
   ],
   "source": [
    "annotations_df[annotations_df['file_id'] == '/home/burak/Desktop/thesis/code/IM/im/data/tw_data/PDTB_Annotations_20200205__/preprocessed_with_points/threads/171_950374352331198464.branch4.txt.username_text_tabseparated']"
   ]
  },
  {
   "cell_type": "code",
   "execution_count": 26,
   "metadata": {},
   "outputs": [],
   "source": [
    "annotations_df['arg1_length'] = annotations_df['arg1_range'].map(calculate_length_from_range)\n",
    "annotations_df['arg2_length'] = annotations_df['arg2_range'].map(calculate_length_from_range)\n",
    "annotations_df['sense_level1'] = annotations_df['sense'].map(lambda sense: get_sense(sense, 1))\n",
    "annotations_df['sense_level2'] = annotations_df['sense'].map(lambda sense: get_sense(sense, 2))"
   ]
  },
  {
   "cell_type": "code",
   "execution_count": 27,
   "metadata": {},
   "outputs": [
    {
     "data": {
      "text/plain": [
       "Ttest_indResult(statistic=-4.012175309399825, pvalue=8.13953091182904e-05)"
      ]
     },
     "execution_count": 27,
     "metadata": {},
     "output_type": "execute_result"
    }
   ],
   "source": [
    "arg1_hyp = annotations_df[annotations_df['type'] == 'Hypophora']['arg1_length']\n",
    "arg2_hyp = annotations_df[annotations_df['type'] == 'Hypophora']['arg2_length']\n",
    "ttest_ind(arg1_hyp, arg2_hyp)"
   ]
  },
  {
   "cell_type": "code",
   "execution_count": 28,
   "metadata": {},
   "outputs": [
    {
     "data": {
      "text/plain": [
       "Explicit     0.626495\n",
       "Implicit     0.322109\n",
       "Hypophora    0.051396\n",
       "Name: type, dtype: float64"
      ]
     },
     "execution_count": 28,
     "metadata": {},
     "output_type": "execute_result"
    }
   ],
   "source": [
    "annotations_df['type'].value_counts(normalize=True)"
   ]
  },
  {
   "cell_type": "code",
   "execution_count": 31,
   "metadata": {},
   "outputs": [
    {
     "data": {
      "text/plain": [
       "Contingency    0.334890\n",
       "Expansion      0.319944\n",
       "Comparison     0.244745\n",
       "Temporal       0.096684\n",
       "Undecided      0.003737\n",
       "Name: sense_level1, dtype: float64"
      ]
     },
     "execution_count": 31,
     "metadata": {},
     "output_type": "execute_result"
    }
   ],
   "source": [
    "annotations_df[annotations_df['sense_level1'] != '']['sense_level1'].value_counts(normalize=True)"
   ]
  },
  {
   "cell_type": "code",
   "execution_count": 30,
   "metadata": {},
   "outputs": [
    {
     "data": {
      "text/plain": [
       "Contingency    0.334890\n",
       "Expansion      0.319944\n",
       "Comparison     0.244745\n",
       "Temporal       0.096684\n",
       "Undecided      0.003737\n",
       "Name: sense_level1, dtype: float64"
      ]
     },
     "execution_count": 30,
     "metadata": {},
     "output_type": "execute_result"
    }
   ],
   "source": [
    "annotations_df[annotations_df['sense_level1'] != '']['sense_level1'].value_counts(normalize=True)"
   ]
  },
  {
   "cell_type": "code",
   "execution_count": 32,
   "metadata": {},
   "outputs": [
    {
     "data": {
      "text/plain": [
       "Expansion.Conjunction              0.230394\n",
       "Contingency.Cause                  0.204696\n",
       "Comparison.Concession              0.199823\n",
       "Contingency.Condition              0.064688\n",
       "                                   0.051396\n",
       "Temporal.Synchronous               0.047851\n",
       "Temporal.Asynchronous              0.043864\n",
       "Comparison.Contrast                0.025255\n",
       "Expansion.Substitution             0.022596\n",
       "Contingency.Cause+Belief           0.020381\n",
       "Expansion.Disjunction              0.018609\n",
       "Expansion.Level-of-detail          0.014178\n",
       "Contingency.Negative-condition     0.011520\n",
       "Expansion.Equivalence              0.008861\n",
       "Contingency.Purpose                0.007532\n",
       "Contingency.Cause+SpeechAct        0.007089\n",
       "Comparison.Similarity              0.006203\n",
       "Expansion.Manner                   0.003988\n",
       "Undecided                          0.003545\n",
       "Expansion.Instantiation            0.002658\n",
       "Expansion.Exception                0.002215\n",
       "Contingency.Condition+SpeechAct    0.001772\n",
       "Comparison.Concession+SpeechAct    0.000886\n",
       "Name: sense_level2, dtype: float64"
      ]
     },
     "execution_count": 32,
     "metadata": {},
     "output_type": "execute_result"
    }
   ],
   "source": [
    "annotations_df['sense_level2'].value_counts(normalize=True)"
   ]
  },
  {
   "cell_type": "markdown",
   "metadata": {},
   "source": [
    "### Statictics for Implicit Relations"
   ]
  },
  {
   "cell_type": "code",
   "execution_count": 34,
   "metadata": {},
   "outputs": [],
   "source": [
    "implicit_relations = annotations_df[annotations_df['type'] == 'Implicit']"
   ]
  },
  {
   "cell_type": "code",
   "execution_count": 35,
   "metadata": {},
   "outputs": [
    {
     "data": {
      "text/plain": [
       "False    647\n",
       "True      80\n",
       "Name: intertweet, dtype: int64"
      ]
     },
     "execution_count": 35,
     "metadata": {},
     "output_type": "execute_result"
    }
   ],
   "source": [
    "implicit_relations['intertweet'].value_counts()"
   ]
  },
  {
   "cell_type": "markdown",
   "metadata": {},
   "source": [
    "#### -Senses"
   ]
  },
  {
   "cell_type": "code",
   "execution_count": 36,
   "metadata": {},
   "outputs": [
    {
     "data": {
      "text/plain": [
       "Contingency    0.426410\n",
       "Expansion      0.297111\n",
       "Comparison     0.235213\n",
       "Temporal       0.041265\n",
       "Name: sense_level1, dtype: float64"
      ]
     },
     "execution_count": 36,
     "metadata": {},
     "output_type": "execute_result"
    }
   ],
   "source": [
    "implicit_relations['sense_level1'].value_counts(normalize=True)"
   ]
  },
  {
   "cell_type": "code",
   "execution_count": 239,
   "metadata": {},
   "outputs": [
    {
     "data": {
      "text/plain": [
       "Contingency    0.426410\n",
       "Expansion      0.297111\n",
       "Comparison     0.235213\n",
       "Temporal       0.041265\n",
       "Name: sense_level1, dtype: float64"
      ]
     },
     "execution_count": 239,
     "metadata": {},
     "output_type": "execute_result"
    }
   ],
   "source": [
    "implicit_relations['sense_level1'].value_counts(normalize=True)"
   ]
  },
  {
   "cell_type": "code",
   "execution_count": 240,
   "metadata": {},
   "outputs": [
    {
     "data": {
      "text/plain": [
       "Contingency.Cause                  258\n",
       "Comparison.Concession              133\n",
       "Expansion.Conjunction              123\n",
       "Expansion.Substitution              38\n",
       "Comparison.Contrast                 36\n",
       "Expansion.Level-of-detail           27\n",
       "Temporal.Asynchronous               20\n",
       "Expansion.Equivalence               16\n",
       "Contingency.Cause+Belief            13\n",
       "Contingency.Condition               12\n",
       "Contingency.Purpose                 12\n",
       "Contingency.Cause+SpeechAct         11\n",
       "Temporal.Synchronous                10\n",
       "Expansion.Disjunction                5\n",
       "Contingency.Negative-condition       4\n",
       "Expansion.Instantiation              4\n",
       "Expansion.Manner                     2\n",
       "Comparison.Similarity                1\n",
       "Comparison.Concession+SpeechAct      1\n",
       "Expansion.Exception                  1\n",
       "Name: sense_level2, dtype: int64"
      ]
     },
     "execution_count": 240,
     "metadata": {},
     "output_type": "execute_result"
    }
   ],
   "source": [
    "implicit_relations['sense_level2'].value_counts()"
   ]
  },
  {
   "cell_type": "code",
   "execution_count": 241,
   "metadata": {},
   "outputs": [
    {
     "data": {
      "text/plain": [
       "Comparison.Concession.Argas-denier                        133\n",
       "Contingency.Cause.Reason                                  129\n",
       "Contingency.Cause.Result                                  129\n",
       "Expansion.Conjunction                                     123\n",
       "Expansion.Substitution.Argas-subst                         38\n",
       "Comparison.Contrast                                        36\n",
       "Expansion.Level-of-detail.Argas-detail                     27\n",
       "Expansion.Equivalence                                      16\n",
       "Temporal.Asynchronous.Precedence                           12\n",
       "Contingency.Condition.Argas-cond                           12\n",
       "Contingency.Purpose.Argas-goal                             12\n",
       "Contingency.Cause+Belief.Reason+Belief                     10\n",
       "Temporal.Synchronous                                       10\n",
       "Contingency.Cause+SpeechAct.Reason+SpeechAct                9\n",
       "Temporal.Asynchronous.Succession                            8\n",
       "Expansion.Disjunction                                       5\n",
       "Expansion.Instantiation.Argas-instance                      4\n",
       "Contingency.Negative-condition.Argas-negcond                4\n",
       "Contingency.Cause+Belief.Result+Belief                      3\n",
       "Expansion.Manner.Argas-manner                               2\n",
       "Contingency.Cause+SpeechAct.Result+SpeechAct                2\n",
       "Comparison.Concession+SpeechAct.Argas-denier+SpeechAct      1\n",
       "Comparison.Similarity                                       1\n",
       "Expansion.Exception                                         1\n",
       "Name: sense, dtype: int64"
      ]
     },
     "execution_count": 241,
     "metadata": {},
     "output_type": "execute_result"
    }
   ],
   "source": [
    "implicit_relations['sense'].value_counts()"
   ]
  },
  {
   "cell_type": "code",
   "execution_count": 242,
   "metadata": {},
   "outputs": [
    {
     "data": {
      "text/html": [
       "<div>\n",
       "<style scoped>\n",
       "    .dataframe tbody tr th:only-of-type {\n",
       "        vertical-align: middle;\n",
       "    }\n",
       "\n",
       "    .dataframe tbody tr th {\n",
       "        vertical-align: top;\n",
       "    }\n",
       "\n",
       "    .dataframe thead th {\n",
       "        text-align: right;\n",
       "    }\n",
       "</style>\n",
       "<table border=\"1\" class=\"dataframe\">\n",
       "  <thead>\n",
       "    <tr style=\"text-align: right;\">\n",
       "      <th></th>\n",
       "      <th>arg1_length</th>\n",
       "      <th>arg2_length</th>\n",
       "    </tr>\n",
       "  </thead>\n",
       "  <tbody>\n",
       "    <tr>\n",
       "      <th>count</th>\n",
       "      <td>727.000000</td>\n",
       "      <td>727.000000</td>\n",
       "    </tr>\n",
       "    <tr>\n",
       "      <th>mean</th>\n",
       "      <td>56.594223</td>\n",
       "      <td>50.407153</td>\n",
       "    </tr>\n",
       "    <tr>\n",
       "      <th>std</th>\n",
       "      <td>39.482941</td>\n",
       "      <td>33.610135</td>\n",
       "    </tr>\n",
       "    <tr>\n",
       "      <th>min</th>\n",
       "      <td>0.000000</td>\n",
       "      <td>0.000000</td>\n",
       "    </tr>\n",
       "    <tr>\n",
       "      <th>25%</th>\n",
       "      <td>29.000000</td>\n",
       "      <td>28.000000</td>\n",
       "    </tr>\n",
       "    <tr>\n",
       "      <th>50%</th>\n",
       "      <td>46.000000</td>\n",
       "      <td>40.000000</td>\n",
       "    </tr>\n",
       "    <tr>\n",
       "      <th>75%</th>\n",
       "      <td>73.000000</td>\n",
       "      <td>63.000000</td>\n",
       "    </tr>\n",
       "    <tr>\n",
       "      <th>max</th>\n",
       "      <td>293.000000</td>\n",
       "      <td>289.000000</td>\n",
       "    </tr>\n",
       "  </tbody>\n",
       "</table>\n",
       "</div>"
      ],
      "text/plain": [
       "       arg1_length  arg2_length\n",
       "count   727.000000   727.000000\n",
       "mean     56.594223    50.407153\n",
       "std      39.482941    33.610135\n",
       "min       0.000000     0.000000\n",
       "25%      29.000000    28.000000\n",
       "50%      46.000000    40.000000\n",
       "75%      73.000000    63.000000\n",
       "max     293.000000   289.000000"
      ]
     },
     "execution_count": 242,
     "metadata": {},
     "output_type": "execute_result"
    }
   ],
   "source": [
    "implicit_relations.describe()\n",
    "\n",
    "# neden 0 var?"
   ]
  },
  {
   "cell_type": "markdown",
   "metadata": {},
   "source": [
    "### Statistics for Explicit Relations"
   ]
  },
  {
   "cell_type": "code",
   "execution_count": 243,
   "metadata": {},
   "outputs": [],
   "source": [
    "explicit_relations = annotations_df[annotations_df['type'] == 'Explicit']"
   ]
  },
  {
   "cell_type": "markdown",
   "metadata": {},
   "source": [
    "#### -Intertweets"
   ]
  },
  {
   "cell_type": "code",
   "execution_count": 244,
   "metadata": {},
   "outputs": [
    {
     "data": {
      "text/plain": [
       "False    1283\n",
       "True      123\n",
       "            8\n",
       "Name: intertweet, dtype: int64"
      ]
     },
     "execution_count": 244,
     "metadata": {},
     "output_type": "execute_result"
    }
   ],
   "source": [
    "explicit_relations['intertweet'].value_counts()"
   ]
  },
  {
   "cell_type": "code",
   "execution_count": null,
   "metadata": {},
   "outputs": [],
   "source": [
    "explicit_relations[(explicit_relations['intertweet'] != False) & (explicit_relations['intertweet'] != True)]"
   ]
  },
  {
   "cell_type": "markdown",
   "metadata": {},
   "source": [
    "#### -Senses"
   ]
  },
  {
   "cell_type": "code",
   "execution_count": 246,
   "metadata": {},
   "outputs": [
    {
     "data": {
      "text/plain": [
       "Expansion      469\n",
       "Contingency    407\n",
       "Comparison     353\n",
       "Temporal       177\n",
       "Undecided        8\n",
       "Name: sense_level1, dtype: int64"
      ]
     },
     "execution_count": 246,
     "metadata": {},
     "output_type": "execute_result"
    }
   ],
   "source": [
    "explicit_relations['sense_level1'].value_counts(normal)"
   ]
  },
  {
   "cell_type": "code",
   "execution_count": 247,
   "metadata": {},
   "outputs": [
    {
     "data": {
      "text/plain": [
       "Expansion      0.331683\n",
       "Contingency    0.287836\n",
       "Comparison     0.249646\n",
       "Temporal       0.125177\n",
       "Undecided      0.005658\n",
       "Name: sense_level1, dtype: float64"
      ]
     },
     "execution_count": 247,
     "metadata": {},
     "output_type": "execute_result"
    }
   ],
   "source": [
    "explicit_relations['sense_level1'].value_counts(normalize=True)"
   ]
  },
  {
   "cell_type": "code",
   "execution_count": 248,
   "metadata": {},
   "outputs": [
    {
     "data": {
      "text/plain": [
       "Expansion.Conjunction              397\n",
       "Comparison.Concession              318\n",
       "Contingency.Cause                  204\n",
       "Contingency.Condition              134\n",
       "Temporal.Synchronous                98\n",
       "Temporal.Asynchronous               79\n",
       "Expansion.Disjunction               37\n",
       "Contingency.Cause+Belief            33\n",
       "Contingency.Negative-condition      22\n",
       "Comparison.Contrast                 21\n",
       "Comparison.Similarity               13\n",
       "Expansion.Substitution              13\n",
       "Undecided                            8\n",
       "Expansion.Manner                     7\n",
       "Contingency.Purpose                  5\n",
       "Expansion.Level-of-detail            5\n",
       "Contingency.Cause+SpeechAct          5\n",
       "Contingency.Condition+SpeechAct      4\n",
       "Expansion.Exception                  4\n",
       "Expansion.Equivalence                4\n",
       "Expansion.Instantiation              2\n",
       "Comparison.Concession+SpeechAct      1\n",
       "Name: sense_level2, dtype: int64"
      ]
     },
     "execution_count": 248,
     "metadata": {},
     "output_type": "execute_result"
    }
   ],
   "source": [
    "explicit_relations['sense_level2'].value_counts()"
   ]
  },
  {
   "cell_type": "code",
   "execution_count": 249,
   "metadata": {},
   "outputs": [
    {
     "data": {
      "text/plain": [
       "Expansion.Conjunction                                     397\n",
       "Comparison.Concession.Argas-denier                        318\n",
       "Contingency.Condition.Argas-cond                          134\n",
       "Contingency.Cause.Reason                                  108\n",
       "Temporal.Synchronous                                       98\n",
       "Contingency.Cause.Result                                   96\n",
       "Temporal.Asynchronous.Precedence                           66\n",
       "Expansion.Disjunction                                      37\n",
       "Contingency.Negative-condition.Argas-negcond               22\n",
       "Comparison.Contrast                                        21\n",
       "Contingency.Cause+Belief.Reason+Belief                     17\n",
       "Contingency.Cause+Belief.Result+Belief                     16\n",
       "Expansion.Substitution.Argas-subst                         13\n",
       "Comparison.Similarity                                      13\n",
       "Temporal.Asynchronous.Succession                           13\n",
       "Undecided                                                   8\n",
       "Expansion.Manner.Argas-manner                               7\n",
       "Contingency.Purpose.Argas-goal                              5\n",
       "Expansion.Level-of-detail.Argas-detail                      5\n",
       "Contingency.Cause+SpeechAct.Result+SpeechAct                4\n",
       "Expansion.Equivalence                                       4\n",
       "Contingency.Condition+SpeechAct                             4\n",
       "Expansion.Exception.Argas-excpt                             4\n",
       "Expansion.Instantiation.Argas-instance                      2\n",
       "Contingency.Cause+SpeechAct.Reason+SpeechAct                1\n",
       "Comparison.Concession+SpeechAct.Argas-denier+SpeechAct      1\n",
       "Name: sense, dtype: int64"
      ]
     },
     "execution_count": 249,
     "metadata": {},
     "output_type": "execute_result"
    }
   ],
   "source": [
    "explicit_relations['sense'].value_counts()"
   ]
  },
  {
   "cell_type": "code",
   "execution_count": 250,
   "metadata": {},
   "outputs": [
    {
     "data": {
      "text/html": [
       "<div>\n",
       "<style scoped>\n",
       "    .dataframe tbody tr th:only-of-type {\n",
       "        vertical-align: middle;\n",
       "    }\n",
       "\n",
       "    .dataframe tbody tr th {\n",
       "        vertical-align: top;\n",
       "    }\n",
       "\n",
       "    .dataframe thead th {\n",
       "        text-align: right;\n",
       "    }\n",
       "</style>\n",
       "<table border=\"1\" class=\"dataframe\">\n",
       "  <thead>\n",
       "    <tr style=\"text-align: right;\">\n",
       "      <th></th>\n",
       "      <th>arg1_length</th>\n",
       "      <th>arg2_length</th>\n",
       "    </tr>\n",
       "  </thead>\n",
       "  <tbody>\n",
       "    <tr>\n",
       "      <th>count</th>\n",
       "      <td>1414.000000</td>\n",
       "      <td>1414.000000</td>\n",
       "    </tr>\n",
       "    <tr>\n",
       "      <th>mean</th>\n",
       "      <td>47.094767</td>\n",
       "      <td>42.666195</td>\n",
       "    </tr>\n",
       "    <tr>\n",
       "      <th>std</th>\n",
       "      <td>38.860715</td>\n",
       "      <td>32.010398</td>\n",
       "    </tr>\n",
       "    <tr>\n",
       "      <th>min</th>\n",
       "      <td>-85.000000</td>\n",
       "      <td>0.000000</td>\n",
       "    </tr>\n",
       "    <tr>\n",
       "      <th>25%</th>\n",
       "      <td>23.000000</td>\n",
       "      <td>21.000000</td>\n",
       "    </tr>\n",
       "    <tr>\n",
       "      <th>50%</th>\n",
       "      <td>36.000000</td>\n",
       "      <td>34.000000</td>\n",
       "    </tr>\n",
       "    <tr>\n",
       "      <th>75%</th>\n",
       "      <td>59.000000</td>\n",
       "      <td>54.000000</td>\n",
       "    </tr>\n",
       "    <tr>\n",
       "      <th>max</th>\n",
       "      <td>293.000000</td>\n",
       "      <td>235.000000</td>\n",
       "    </tr>\n",
       "  </tbody>\n",
       "</table>\n",
       "</div>"
      ],
      "text/plain": [
       "       arg1_length  arg2_length\n",
       "count  1414.000000  1414.000000\n",
       "mean     47.094767    42.666195\n",
       "std      38.860715    32.010398\n",
       "min     -85.000000     0.000000\n",
       "25%      23.000000    21.000000\n",
       "50%      36.000000    34.000000\n",
       "75%      59.000000    54.000000\n",
       "max     293.000000   235.000000"
      ]
     },
     "execution_count": 250,
     "metadata": {},
     "output_type": "execute_result"
    }
   ],
   "source": [
    "explicit_relations.describe()\n",
    "### bu fark statistically significant mi?\n",
    "### explorative analiz"
   ]
  },
  {
   "cell_type": "markdown",
   "metadata": {},
   "source": [
    "#### -Connectives"
   ]
  },
  {
   "cell_type": "code",
   "execution_count": 322,
   "metadata": {},
   "outputs": [
    {
     "data": {
      "text/plain": [
       "(and,)               353\n",
       "(but,)               225\n",
       "(if,)                101\n",
       "(so,)                 93\n",
       "(when,)               84\n",
       "                    ... \n",
       "(as a result of,)      1\n",
       "(if not, then)         1\n",
       "(rather, than)         1\n",
       "(by the way,)          1\n",
       "(hence,)               1\n",
       "Name: connective, Length: 119, dtype: int64"
      ]
     },
     "execution_count": 322,
     "metadata": {},
     "output_type": "execute_result"
    }
   ],
   "source": [
    "explicit_relations['connective'].apply(lambda cons: tuple([con.lower() for con in cons])).value_counts()"
   ]
  },
  {
   "cell_type": "code",
   "execution_count": 329,
   "metadata": {},
   "outputs": [
    {
     "data": {
      "text/plain": [
       "Index([           ('and',),            ('but',),             ('if',),\n",
       "                   ('so',),           ('when',),        ('because',),\n",
       "                 ('also',),             ('or',),             ('as',),\n",
       "                ('&amp;',),\n",
       "       ...\n",
       "              ('anytime',),      ('nl.\\nwhen',),        ('either.',),\n",
       "                  ('ie.',),        ('thereby',), ('as a result of',),\n",
       "        ('if not', 'then'),  ('rather', 'than'),     ('by the way',),\n",
       "                ('hence',)],\n",
       "      dtype='object', length=119)"
      ]
     },
     "execution_count": 329,
     "metadata": {},
     "output_type": "execute_result"
    }
   ],
   "source": [
    "explicit_relations['connective'].apply(lambda cons: tuple([con.lower() for con in cons])).value_counts().keys()"
   ]
  },
  {
   "cell_type": "code",
   "execution_count": 342,
   "metadata": {},
   "outputs": [
    {
     "data": {
      "text/plain": [
       "6.201680672268908"
      ]
     },
     "execution_count": 342,
     "metadata": {},
     "output_type": "execute_result"
    }
   ],
   "source": [
    "t_connectives = list(explicit_relations['connective'].apply(lambda cons: tuple([con.lower() for con in cons])).value_counts().keys())\n",
    "sum([len(''.join(list(connective))) for connective in t_connectives]) / len(t_connectives)"
   ]
  },
  {
   "cell_type": "code",
   "execution_count": 343,
   "metadata": {},
   "outputs": [
    {
     "data": {
      "text/plain": [
       "[('and',),\n",
       " ('but',),\n",
       " ('if',),\n",
       " ('so',),\n",
       " ('when',),\n",
       " ('because',),\n",
       " ('also',),\n",
       " ('or',),\n",
       " ('as',),\n",
       " ('&amp;',),\n",
       " ('then',),\n",
       " ('though',),\n",
       " ('before',),\n",
       " ('like',),\n",
       " ('while',),\n",
       " ('until',),\n",
       " ('if', 'then'),\n",
       " ('however',),\n",
       " ('even if',),\n",
       " ('still',),\n",
       " ('since',),\n",
       " ('without',),\n",
       " ('after',),\n",
       " ('yet',),\n",
       " ('&amp',),\n",
       " ('instead of',),\n",
       " ('unless',),\n",
       " ('in case',),\n",
       " ('tho',),\n",
       " ('anyway',),\n",
       " ('cos',),\n",
       " ('bc',),\n",
       " ('so that',),\n",
       " ('by',),\n",
       " ('not only', 'but'),\n",
       " ('rather',),\n",
       " ('btw',),\n",
       " ('only',),\n",
       " ('because of',),\n",
       " ('even though',),\n",
       " ('either', 'or'),\n",
       " ('except',),\n",
       " ('an',),\n",
       " ('whilst',),\n",
       " ('nor',),\n",
       " ('once',),\n",
       " ('therefore',),\n",
       " ('',),\n",
       " ('whenever',),\n",
       " ('although',),\n",
       " ('instead',),\n",
       " ('whatever',),\n",
       " ('even when',),\n",
       " ('rather than',),\n",
       " ('becasue',),\n",
       " ('whereas',),\n",
       " ('furthermore',),\n",
       " ('for',),\n",
       " ('after all',),\n",
       " ('cuz',),\n",
       " ('as long as',),\n",
       " ('wen',),\n",
       " ('b4',),\n",
       " ('plus',),\n",
       " ('meanwhile',),\n",
       " ('so as',),\n",
       " ('otherwise',),\n",
       " ('with',),\n",
       " ('but then',),\n",
       " ('cus',),\n",
       " ('do',),\n",
       " ('eg',),\n",
       " (\"that's\",),\n",
       " ('where',),\n",
       " ('as well',),\n",
       " ('omve',),\n",
       " ('coz',),\n",
       " ('it’s cos',),\n",
       " ('in the meantime',),\n",
       " (\"that's because\",),\n",
       " ('regardless of',),\n",
       " ('if not',),\n",
       " ('despite',),\n",
       " ('now',),\n",
       " ('till',),\n",
       " ('when/if',),\n",
       " ('and then',),\n",
       " ('if only',),\n",
       " (\"it's coz\",),\n",
       " ('given',),\n",
       " ('incase',),\n",
       " ('thou',),\n",
       " ('if', 'than'),\n",
       " ('so long as',),\n",
       " ('as if',),\n",
       " ('where as',),\n",
       " ('as soon as',),\n",
       " ('regardless',),\n",
       " ('thus',),\n",
       " ('even after',),\n",
       " ('ah',),\n",
       " ('as well.',),\n",
       " ('+',),\n",
       " (\"that's cause\",),\n",
       " ('when', 'then'),\n",
       " ('cause',),\n",
       " ('every time',),\n",
       " ('only to',),\n",
       " ('besides',),\n",
       " ('anytime',),\n",
       " ('nl.\\nwhen',),\n",
       " ('either.',),\n",
       " ('ie.',),\n",
       " ('thereby',),\n",
       " ('as a result of',),\n",
       " ('if not', 'then'),\n",
       " ('rather', 'than'),\n",
       " ('by the way',),\n",
       " ('hence',)]"
      ]
     },
     "execution_count": 343,
     "metadata": {},
     "output_type": "execute_result"
    }
   ],
   "source": [
    "t_connectives"
   ]
  },
  {
   "cell_type": "code",
   "execution_count": 252,
   "metadata": {},
   "outputs": [
    {
     "data": {
      "text/plain": [
       "(and,)        353\n",
       "(but,)        225\n",
       "(if,)         101\n",
       "(so,)          93\n",
       "(when,)        84\n",
       "(because,)     68\n",
       "(also,)        40\n",
       "(or,)          40\n",
       "(as,)          31\n",
       "(&amp;,)       29\n",
       "(then,)        26\n",
       "(though,)      23\n",
       "(before,)      14\n",
       "(like,)        12\n",
       "(while,)       11\n",
       "(until,)       11\n",
       "(if, then)     10\n",
       "(however,)      9\n",
       "(even if,)      9\n",
       "(still,)        9\n",
       "(since,)        8\n",
       "(without,)      8\n",
       "(after,)        7\n",
       "(yet,)          6\n",
       "(&amp,)         6\n",
       "Name: connective, dtype: int64"
      ]
     },
     "execution_count": 252,
     "metadata": {},
     "output_type": "execute_result"
    }
   ],
   "source": [
    "b = explicit_relations['connective'].apply(lambda cons: tuple([con.lower() for con in cons])).value_counts()\n",
    "b.head(25)"
   ]
  },
  {
   "cell_type": "code",
   "execution_count": 253,
   "metadata": {},
   "outputs": [
    {
     "name": "stderr",
     "output_type": "stream",
     "text": [
      "/home/burak/anaconda3/envs/thesis/lib/python3.7/site-packages/pandas/core/computation/expressions.py:69: FutureWarning: elementwise comparison failed; returning scalar instead, but in the future will perform elementwise comparison\n",
      "  return op(a, b)\n"
     ]
    },
    {
     "data": {
      "text/plain": [
       "Series([], Name: connective, dtype: int64)"
      ]
     },
     "execution_count": 253,
     "metadata": {},
     "output_type": "execute_result"
    }
   ],
   "source": [
    "b[b == (' i',)]"
   ]
  },
  {
   "cell_type": "markdown",
   "metadata": {},
   "source": [
    "### Statistics for Hypophora Relations"
   ]
  },
  {
   "cell_type": "code",
   "execution_count": 254,
   "metadata": {},
   "outputs": [],
   "source": [
    "hypophora_relations = annotations_df[annotations_df['type'] == 'Hypophora']"
   ]
  },
  {
   "cell_type": "code",
   "execution_count": 255,
   "metadata": {},
   "outputs": [
    {
     "data": {
      "text/html": [
       "<div>\n",
       "<style scoped>\n",
       "    .dataframe tbody tr th:only-of-type {\n",
       "        vertical-align: middle;\n",
       "    }\n",
       "\n",
       "    .dataframe tbody tr th {\n",
       "        vertical-align: top;\n",
       "    }\n",
       "\n",
       "    .dataframe thead th {\n",
       "        text-align: right;\n",
       "    }\n",
       "</style>\n",
       "<table border=\"1\" class=\"dataframe\">\n",
       "  <thead>\n",
       "    <tr style=\"text-align: right;\">\n",
       "      <th></th>\n",
       "      <th>arg1_length</th>\n",
       "      <th>arg2_length</th>\n",
       "    </tr>\n",
       "  </thead>\n",
       "  <tbody>\n",
       "    <tr>\n",
       "      <th>count</th>\n",
       "      <td>116.000000</td>\n",
       "      <td>116.000000</td>\n",
       "    </tr>\n",
       "    <tr>\n",
       "      <th>mean</th>\n",
       "      <td>51.396552</td>\n",
       "      <td>76.672414</td>\n",
       "    </tr>\n",
       "    <tr>\n",
       "      <th>std</th>\n",
       "      <td>35.017481</td>\n",
       "      <td>58.116341</td>\n",
       "    </tr>\n",
       "    <tr>\n",
       "      <th>min</th>\n",
       "      <td>7.000000</td>\n",
       "      <td>0.000000</td>\n",
       "    </tr>\n",
       "    <tr>\n",
       "      <th>25%</th>\n",
       "      <td>27.000000</td>\n",
       "      <td>32.000000</td>\n",
       "    </tr>\n",
       "    <tr>\n",
       "      <th>50%</th>\n",
       "      <td>42.000000</td>\n",
       "      <td>59.000000</td>\n",
       "    </tr>\n",
       "    <tr>\n",
       "      <th>75%</th>\n",
       "      <td>69.250000</td>\n",
       "      <td>114.250000</td>\n",
       "    </tr>\n",
       "    <tr>\n",
       "      <th>max</th>\n",
       "      <td>236.000000</td>\n",
       "      <td>257.000000</td>\n",
       "    </tr>\n",
       "  </tbody>\n",
       "</table>\n",
       "</div>"
      ],
      "text/plain": [
       "       arg1_length  arg2_length\n",
       "count   116.000000   116.000000\n",
       "mean     51.396552    76.672414\n",
       "std      35.017481    58.116341\n",
       "min       7.000000     0.000000\n",
       "25%      27.000000    32.000000\n",
       "50%      42.000000    59.000000\n",
       "75%      69.250000   114.250000\n",
       "max     236.000000   257.000000"
      ]
     },
     "execution_count": 255,
     "metadata": {},
     "output_type": "execute_result"
    }
   ],
   "source": [
    "hypophora_relations.describe()"
   ]
  },
  {
   "cell_type": "markdown",
   "metadata": {},
   "source": [
    "### Per tweet analysis"
   ]
  },
  {
   "cell_type": "code",
   "execution_count": 256,
   "metadata": {},
   "outputs": [],
   "source": [
    "tweets_flat = []\n",
    "for thread in tweets.keys():\n",
    "    thread_tweets = tweets[thread]\n",
    "    for thread_tweet in thread_tweets:\n",
    "        thread_tweet['file_id'] = thread\n",
    "        tweets_flat.append(thread_tweet)\n",
    "\n",
    "        \n",
    "        \n",
    "tweets_df = pd.DataFrame(tweets_flat)\n",
    "\n"
   ]
  },
  {
   "cell_type": "code",
   "execution_count": 257,
   "metadata": {},
   "outputs": [
    {
     "data": {
      "text/html": [
       "<div>\n",
       "<style scoped>\n",
       "    .dataframe tbody tr th:only-of-type {\n",
       "        vertical-align: middle;\n",
       "    }\n",
       "\n",
       "    .dataframe tbody tr th {\n",
       "        vertical-align: top;\n",
       "    }\n",
       "\n",
       "    .dataframe thead th {\n",
       "        text-align: right;\n",
       "    }\n",
       "</style>\n",
       "<table border=\"1\" class=\"dataframe\">\n",
       "  <thead>\n",
       "    <tr style=\"text-align: right;\">\n",
       "      <th></th>\n",
       "      <th>poster</th>\n",
       "      <th>tweet_text</th>\n",
       "      <th>arg1</th>\n",
       "      <th>arg2</th>\n",
       "      <th>connective</th>\n",
       "      <th>file_id</th>\n",
       "    </tr>\n",
       "  </thead>\n",
       "  <tbody>\n",
       "    <tr>\n",
       "      <th>count</th>\n",
       "      <td>1713</td>\n",
       "      <td>1713</td>\n",
       "      <td>1713</td>\n",
       "      <td>1713</td>\n",
       "      <td>1713</td>\n",
       "      <td>1713</td>\n",
       "    </tr>\n",
       "    <tr>\n",
       "      <th>unique</th>\n",
       "      <td>586</td>\n",
       "      <td>1710</td>\n",
       "      <td>256</td>\n",
       "      <td>249</td>\n",
       "      <td>250</td>\n",
       "      <td>183</td>\n",
       "    </tr>\n",
       "    <tr>\n",
       "      <th>top</th>\n",
       "      <td>Number10gov</td>\n",
       "      <td>Who am I ?</td>\n",
       "      <td>{}</td>\n",
       "      <td>{}</td>\n",
       "      <td>{}</td>\n",
       "      <td>029_948125154525286401.branch73.txt.username_t...</td>\n",
       "    </tr>\n",
       "    <tr>\n",
       "      <th>freq</th>\n",
       "      <td>54</td>\n",
       "      <td>3</td>\n",
       "      <td>624</td>\n",
       "      <td>637</td>\n",
       "      <td>903</td>\n",
       "      <td>78</td>\n",
       "    </tr>\n",
       "  </tbody>\n",
       "</table>\n",
       "</div>"
      ],
      "text/plain": [
       "             poster  tweet_text  arg1  arg2 connective  \\\n",
       "count          1713        1713  1713  1713       1713   \n",
       "unique          586        1710   256   249        250   \n",
       "top     Number10gov  Who am I ?    {}    {}         {}   \n",
       "freq             54           3   624   637        903   \n",
       "\n",
       "                                                  file_id  \n",
       "count                                                1713  \n",
       "unique                                                183  \n",
       "top     029_948125154525286401.branch73.txt.username_t...  \n",
       "freq                                                   78  "
      ]
     },
     "execution_count": 257,
     "metadata": {},
     "output_type": "execute_result"
    }
   ],
   "source": [
    "tweets_df.describe()"
   ]
  },
  {
   "cell_type": "code",
   "execution_count": 258,
   "metadata": {},
   "outputs": [],
   "source": [
    "tweets_df['tweet_id'] = tweets_df.index\n",
    "tweets_df['tweet_length'] = tweets_df['tweet_text'].map(len)\n",
    "tweets_df['relations'] = tweets_df.apply(lambda row: row['connective'].union(row['arg1'], row['arg2']), axis=1)"
   ]
  },
  {
   "cell_type": "markdown",
   "metadata": {},
   "source": [
    "Exploding to calculate:  \n",
    "- intertweet relationlar tek userdan mi, userlarin birbiri ile etkilesiminden mi"
   ]
  },
  {
   "cell_type": "code",
   "execution_count": null,
   "metadata": {},
   "outputs": [],
   "source": [
    "tweets_df_exploded = tweets_df.explode('relations')\n",
    "tweets_df_exploded"
   ]
  },
  {
   "cell_type": "markdown",
   "metadata": {},
   "source": [
    "how many relations are intertweet? (bunlarin orneklerini cikar)"
   ]
  },
  {
   "cell_type": "code",
   "execution_count": 260,
   "metadata": {},
   "outputs": [
    {
     "data": {
      "text/plain": [
       "1    1910\n",
       "2     342\n",
       "3       5\n",
       "Name: nunique, dtype: int64"
      ]
     },
     "execution_count": 260,
     "metadata": {},
     "output_type": "execute_result"
    }
   ],
   "source": [
    "a = tweets_df_exploded.groupby(['file_id', 'relations']).agg(['nunique'])\n",
    "a['tweet_id']['nunique'].value_counts()"
   ]
  },
  {
   "cell_type": "markdown",
   "metadata": {},
   "source": [
    "an example relation that spans into 3 tweets"
   ]
  },
  {
   "cell_type": "code",
   "execution_count": 261,
   "metadata": {},
   "outputs": [
    {
     "data": {
      "text/plain": [
       "{'file_id': '/home/burak/Desktop/thesis/code/IM/im/data/tw_data/PDTB_Annotations_20200205__/preprocessed_with_points/threads/004_945997191973289985.branch40.txt.username_text_tabseparated',\n",
       " 'arg1_range': '957..1038;1043..1197',\n",
       " 'arg2_range': '1202..1355',\n",
       " 'arg1': ['individualism is often used to refer to structures that promotes egoistic values.',\n",
       "  'And similarly collectivism is used to refer to structures that regulates the system towards some convergent (reasonable or unreasonable) utility function.'],\n",
       " 'arg2': [\"Clearly mechanisms which are individualist in the choice-granting definition, may or may not be pervaded by structures with 'individualistic' tendencies.\"],\n",
       " 'connective_range': '1202',\n",
       " 'connective': None,\n",
       " 'sense': 'Contingency.Cause.Result',\n",
       " 'type': 'Implicit',\n",
       " 'intertweet': False}"
      ]
     },
     "execution_count": 261,
     "metadata": {},
     "output_type": "execute_result"
    }
   ],
   "source": [
    "get_relation(*a[a['tweet_id']['nunique'] == 3].iloc[0].name)"
   ]
  },
  {
   "cell_type": "markdown",
   "metadata": {},
   "source": [
    "an example relation that spans into 2 tweets"
   ]
  },
  {
   "cell_type": "code",
   "execution_count": 262,
   "metadata": {},
   "outputs": [
    {
     "data": {
      "text/plain": [
       "{'file_id': '/home/burak/Desktop/thesis/code/IM/im/data/tw_data/PDTB_Annotations_20200205__/preprocessed_with_points/threads/002_945611482460446722.branch27.txt.username_text_tabseparated',\n",
       " 'arg1_range': '199..215',\n",
       " 'arg2_range': '221..260',\n",
       " 'arg1': ['Time is short!!!'],\n",
       " 'arg2': ['Not as short as your career highlights.'],\n",
       " 'connective_range': '221',\n",
       " 'connective': None,\n",
       " 'sense': 'Comparison.Concession.Argas-denier',\n",
       " 'type': 'Implicit',\n",
       " 'intertweet': True}"
      ]
     },
     "execution_count": 262,
     "metadata": {},
     "output_type": "execute_result"
    }
   ],
   "source": [
    "get_relation(*a[a['tweet_id']['nunique'] == 2].iloc[0].name)"
   ]
  },
  {
   "cell_type": "markdown",
   "metadata": {},
   "source": [
    "between how many users are the intertweet relations? (bunlarin orneklerini cikar)"
   ]
  },
  {
   "cell_type": "code",
   "execution_count": 263,
   "metadata": {},
   "outputs": [
    {
     "data": {
      "text/plain": [
       "(poster, nunique)\n",
       "2    281\n",
       "1     64\n",
       "3      2\n",
       "dtype: int64"
      ]
     },
     "execution_count": 263,
     "metadata": {},
     "output_type": "execute_result"
    }
   ],
   "source": [
    "a[a['tweet_id']['nunique'] > 1].value_counts(('poster', 'nunique'))"
   ]
  },
  {
   "cell_type": "markdown",
   "metadata": {},
   "source": [
    "a relation that spans tweets from 3 users"
   ]
  },
  {
   "cell_type": "code",
   "execution_count": 264,
   "metadata": {},
   "outputs": [
    {
     "data": {
      "text/plain": [
       "{'file_id': '/home/burak/Desktop/thesis/code/IM/im/data/tw_data/PDTB_Annotations_20200205__/preprocessed_with_points/threads/096_950301036245381120.branch110.txt.username_text_tabseparated',\n",
       " 'arg1_range': '715..905;906..1009',\n",
       " 'arg2_range': '1026..1046',\n",
       " 'arg1': [\"It is purely an exercise in vindictive hatred, of a preselected group of human beings by an ignorant, would be tyrant. One who's\\u200b lower level IQ, is only exceeded by his excessive ignorance.\",\n",
       "  \"Who are you to comment on another person's IQ. It is a reveal of how insecure one is when they do that.\"],\n",
       " 'arg2': ['answer the question.'],\n",
       " 'connective_range': '1023..1025',\n",
       " 'connective': ['So'],\n",
       " 'sense': 'Contingency.Cause.Result',\n",
       " 'type': 'Explicit',\n",
       " 'intertweet': False}"
      ]
     },
     "execution_count": 264,
     "metadata": {},
     "output_type": "execute_result"
    }
   ],
   "source": [
    "get_relation(*a[a['poster']['nunique'] == 3].iloc[1].name)"
   ]
  },
  {
   "cell_type": "markdown",
   "metadata": {},
   "source": [
    "a relation that spans tweets from 2 users"
   ]
  },
  {
   "cell_type": "code",
   "execution_count": 265,
   "metadata": {},
   "outputs": [
    {
     "data": {
      "text/plain": [
       "{'file_id': '/home/burak/Desktop/thesis/code/IM/im/data/tw_data/PDTB_Annotations_20200205__/preprocessed_with_points/threads/002_945611482460446722.branch27.txt.username_text_tabseparated',\n",
       " 'arg1_range': '199..215',\n",
       " 'arg2_range': '221..260',\n",
       " 'arg1': ['Time is short!!!'],\n",
       " 'arg2': ['Not as short as your career highlights.'],\n",
       " 'connective_range': '221',\n",
       " 'connective': None,\n",
       " 'sense': 'Comparison.Concession.Argas-denier',\n",
       " 'type': 'Implicit',\n",
       " 'intertweet': True}"
      ]
     },
     "execution_count": 265,
     "metadata": {},
     "output_type": "execute_result"
    }
   ],
   "source": [
    "get_relation(*a[a['poster']['nunique'] == 2].iloc[0].name)"
   ]
  },
  {
   "cell_type": "markdown",
   "metadata": {},
   "source": [
    "How many tweets have more than one connective?"
   ]
  },
  {
   "cell_type": "code",
   "execution_count": 266,
   "metadata": {},
   "outputs": [
    {
     "data": {
      "text/plain": [
       "379"
      ]
     },
     "execution_count": 266,
     "metadata": {},
     "output_type": "execute_result"
    }
   ],
   "source": [
    "tweets_df['connective'].map(lambda row: len(row) > 1).value_counts()[True]"
   ]
  },
  {
   "cell_type": "code",
   "execution_count": null,
   "metadata": {},
   "outputs": [],
   "source": [
    "c = tweets_df[tweets_df['connective'].str.len() == 6].iloc[1]\n",
    "print(c.file_id)\n",
    "print(c.connective)\n",
    "cur = readable_annotations[c.file_id]\n",
    "[cur[i] for i in list(c.connective)]"
   ]
  },
  {
   "cell_type": "markdown",
   "metadata": {},
   "source": [
    "example (2,3,4) (5in 0. orneginde iki relationa referans eden connective var."
   ]
  },
  {
   "cell_type": "code",
   "execution_count": null,
   "metadata": {},
   "outputs": [],
   "source": [
    "\n",
    "print('1 connectives:', tweets_df[tweets_df['connective'].str.len() == 1].iloc[22]['tweet_text'], '\\n')\n",
    "print('2 connectives:', tweets_df[tweets_df['connective'].str.len() == 2].iloc[0]['tweet_text'], '\\n')\n",
    "print('3 connectives:', tweets_df[tweets_df['connective'].str.len() == 3].iloc[0]['tweet_text'], '\\n')\n",
    "print('4 connectives:', tweets_df[tweets_df['connective'].str.len() == 4].iloc[0]['tweet_text'], '\\n')\n",
    "print('5 connectives:', tweets_df[tweets_df['connective'].str.len() == 5].iloc[3]['tweet_text'], '\\n')\n",
    "print('6 connectives:', tweets_df[tweets_df['connective'].str.len() == 6].iloc[1]['tweet_text'], '\\n')"
   ]
  },
  {
   "cell_type": "markdown",
   "metadata": {},
   "source": [
    "How many tweets have a connective?"
   ]
  },
  {
   "cell_type": "code",
   "execution_count": 269,
   "metadata": {},
   "outputs": [
    {
     "data": {
      "text/plain": [
       "810"
      ]
     },
     "execution_count": 269,
     "metadata": {},
     "output_type": "execute_result"
    }
   ],
   "source": [
    "tweets_df['connective'].map(lambda row: len(row) > 0).value_counts()[True]"
   ]
  },
  {
   "cell_type": "markdown",
   "metadata": {},
   "source": [
    "Connective count distribution per tweet"
   ]
  },
  {
   "cell_type": "code",
   "execution_count": 270,
   "metadata": {},
   "outputs": [
    {
     "data": {
      "text/plain": [
       "0    903\n",
       "1    431\n",
       "2    224\n",
       "3    102\n",
       "4     37\n",
       "5     14\n",
       "6      2\n",
       "Name: connective, dtype: int64"
      ]
     },
     "execution_count": 270,
     "metadata": {},
     "output_type": "execute_result"
    }
   ],
   "source": [
    "tweets_df['connective'].map(len).value_counts()"
   ]
  },
  {
   "cell_type": "code",
   "execution_count": 271,
   "metadata": {},
   "outputs": [
    {
     "data": {
      "text/plain": [
       "count    810.000000\n",
       "mean     163.241975\n",
       "std       79.623656\n",
       "min        8.000000\n",
       "25%       96.250000\n",
       "50%      157.000000\n",
       "75%      235.000000\n",
       "max      304.000000\n",
       "Name: tweet_length, dtype: float64"
      ]
     },
     "execution_count": 271,
     "metadata": {},
     "output_type": "execute_result"
    }
   ],
   "source": [
    "tweets_df[tweets_df['connective'].map(lambda row: len(row) > 0)]['tweet_length'].describe()"
   ]
  },
  {
   "cell_type": "code",
   "execution_count": 272,
   "metadata": {},
   "outputs": [
    {
     "data": {
      "text/plain": [
       "count    379.000000\n",
       "mean     196.102902\n",
       "std       73.303186\n",
       "min        8.000000\n",
       "25%      137.000000\n",
       "50%      212.000000\n",
       "75%      262.000000\n",
       "max      304.000000\n",
       "Name: tweet_length, dtype: float64"
      ]
     },
     "execution_count": 272,
     "metadata": {},
     "output_type": "execute_result"
    }
   ],
   "source": [
    "tweets_df[tweets_df['connective'].map(lambda row: len(row) > 1)]['tweet_length'].describe()"
   ]
  },
  {
   "cell_type": "code",
   "execution_count": 273,
   "metadata": {},
   "outputs": [
    {
     "data": {
      "text/plain": [
       "count     53.000000\n",
       "mean     235.886792\n",
       "std       63.399727\n",
       "min       23.000000\n",
       "25%      224.000000\n",
       "50%      259.000000\n",
       "75%      278.000000\n",
       "max      303.000000\n",
       "Name: tweet_length, dtype: float64"
      ]
     },
     "execution_count": 273,
     "metadata": {},
     "output_type": "execute_result"
    }
   ],
   "source": [
    "tweets_df[tweets_df['connective'].map(lambda row: len(row) > 3)]['tweet_length'].describe()"
   ]
  },
  {
   "cell_type": "code",
   "execution_count": 274,
   "metadata": {},
   "outputs": [],
   "source": [
    "rel_counts = [max(set().union(*rels), default=-1) + 1 for rels in tweets_df.groupby('file_id').agg('max')[['arg1', 'arg2', 'connective']].values]"
   ]
  },
  {
   "cell_type": "code",
   "execution_count": 275,
   "metadata": {},
   "outputs": [
    {
     "data": {
      "text/plain": [
       "2257"
      ]
     },
     "execution_count": 275,
     "metadata": {},
     "output_type": "execute_result"
    }
   ],
   "source": [
    "sum(rel_counts)"
   ]
  },
  {
   "cell_type": "markdown",
   "metadata": {},
   "source": [
    "intertweet type distribution"
   ]
  },
  {
   "cell_type": "code",
   "execution_count": 276,
   "metadata": {},
   "outputs": [],
   "source": [
    "intertweets = a[a['tweet_id']['nunique'] > 1]\n",
    "intertweet_relations = []\n",
    "for name in list(intertweets.index):\n",
    "    intertweet_relations.append(get_relation(*name))\n",
    "\n",
    "intertweet_df = pd.DataFrame(intertweet_relations)"
   ]
  },
  {
   "cell_type": "code",
   "execution_count": 277,
   "metadata": {},
   "outputs": [
    {
     "data": {
      "text/plain": [
       "Explicit     146\n",
       "Hypophora    111\n",
       "Implicit      90\n",
       "Name: type, dtype: int64"
      ]
     },
     "execution_count": 277,
     "metadata": {},
     "output_type": "execute_result"
    }
   ],
   "source": [
    "intertweet_df['type'].value_counts()"
   ]
  },
  {
   "cell_type": "markdown",
   "metadata": {},
   "source": [
    "## PDTB Statistics"
   ]
  },
  {
   "cell_type": "code",
   "execution_count": 278,
   "metadata": {},
   "outputs": [],
   "source": [
    "CONLL_FOLDER = '/home/burak/Desktop/thesis/code/IM/conll_data'\n",
    "\n",
    "## test\n",
    "pdtb_test_annotations = parse_relations(CONLL_FOLDER + '/en.test/relations.json')\n",
    "## train\n",
    "pdtb_train_annotations = parse_relations(CONLL_FOLDER + '/en.train/relations.json')\n",
    "## dev\n",
    "pdtb_dev_annotations = parse_relations(CONLL_FOLDER + '/en.dev/relations.json')\n",
    "\n",
    "pdtb_all_annotations = []\n",
    "pdtb_all_annotations.extend(pdtb_test_annotations)\n",
    "pdtb_all_annotations.extend(pdtb_train_annotations)\n",
    "pdtb_all_annotations.extend(pdtb_dev_annotations)\n",
    "\n",
    "pdtb_df = pd.DataFrame(pdtb_all_annotations)"
   ]
  },
  {
   "cell_type": "code",
   "execution_count": 279,
   "metadata": {},
   "outputs": [
    {
     "data": {
      "text/html": [
       "<div>\n",
       "<style scoped>\n",
       "    .dataframe tbody tr th:only-of-type {\n",
       "        vertical-align: middle;\n",
       "    }\n",
       "\n",
       "    .dataframe tbody tr th {\n",
       "        vertical-align: top;\n",
       "    }\n",
       "\n",
       "    .dataframe thead th {\n",
       "        text-align: right;\n",
       "    }\n",
       "</style>\n",
       "<table border=\"1\" class=\"dataframe\">\n",
       "  <thead>\n",
       "    <tr style=\"text-align: right;\">\n",
       "      <th></th>\n",
       "      <th>arg1_length</th>\n",
       "      <th>arg2_length</th>\n",
       "    </tr>\n",
       "  </thead>\n",
       "  <tbody>\n",
       "    <tr>\n",
       "      <th>count</th>\n",
       "      <td>35910.000000</td>\n",
       "      <td>35910.000000</td>\n",
       "    </tr>\n",
       "    <tr>\n",
       "      <th>mean</th>\n",
       "      <td>99.440741</td>\n",
       "      <td>92.627625</td>\n",
       "    </tr>\n",
       "    <tr>\n",
       "      <th>std</th>\n",
       "      <td>72.342585</td>\n",
       "      <td>62.195348</td>\n",
       "    </tr>\n",
       "    <tr>\n",
       "      <th>min</th>\n",
       "      <td>2.000000</td>\n",
       "      <td>2.000000</td>\n",
       "    </tr>\n",
       "    <tr>\n",
       "      <th>25%</th>\n",
       "      <td>54.000000</td>\n",
       "      <td>50.000000</td>\n",
       "    </tr>\n",
       "    <tr>\n",
       "      <th>50%</th>\n",
       "      <td>87.000000</td>\n",
       "      <td>81.000000</td>\n",
       "    </tr>\n",
       "    <tr>\n",
       "      <th>75%</th>\n",
       "      <td>131.000000</td>\n",
       "      <td>123.000000</td>\n",
       "    </tr>\n",
       "    <tr>\n",
       "      <th>max</th>\n",
       "      <td>6091.000000</td>\n",
       "      <td>2523.000000</td>\n",
       "    </tr>\n",
       "  </tbody>\n",
       "</table>\n",
       "</div>"
      ],
      "text/plain": [
       "        arg1_length   arg2_length\n",
       "count  35910.000000  35910.000000\n",
       "mean      99.440741     92.627625\n",
       "std       72.342585     62.195348\n",
       "min        2.000000      2.000000\n",
       "25%       54.000000     50.000000\n",
       "50%       87.000000     81.000000\n",
       "75%      131.000000    123.000000\n",
       "max     6091.000000   2523.000000"
      ]
     },
     "execution_count": 279,
     "metadata": {},
     "output_type": "execute_result"
    }
   ],
   "source": [
    "pdtb_df['arg1_length'] = pdtb_df['arg1'].apply(lambda arg: len(arg))\n",
    "pdtb_df['arg2_length'] = pdtb_df['arg2'].apply(lambda arg: len(arg))\n",
    "pdtb_df['sense_level1'] = pdtb_df['sense'].map(lambda sense: get_sense(sense, 1))\n",
    "pdtb_df['sense_level2'] = pdtb_df['sense'].map(lambda sense: get_sense(sense, 2))\n",
    "pdtb_df.describe()"
   ]
  },
  {
   "cell_type": "code",
   "execution_count": 280,
   "metadata": {},
   "outputs": [
    {
     "data": {
      "text/plain": [
       "35910"
      ]
     },
     "execution_count": 280,
     "metadata": {},
     "output_type": "execute_result"
    }
   ],
   "source": [
    "len(pdtb_df)"
   ]
  },
  {
   "cell_type": "code",
   "execution_count": null,
   "metadata": {},
   "outputs": [],
   "source": []
  },
  {
   "cell_type": "code",
   "execution_count": 281,
   "metadata": {},
   "outputs": [
    {
     "data": {
      "text/plain": [
       "Explicit    0.454609\n",
       "Implicit    0.402311\n",
       "EntRel      0.127123\n",
       "AltLex      0.015957\n",
       "Name: type, dtype: float64"
      ]
     },
     "execution_count": 281,
     "metadata": {},
     "output_type": "execute_result"
    }
   ],
   "source": [
    "pdtb_df['type'].value_counts(normalize=True)"
   ]
  },
  {
   "cell_type": "code",
   "execution_count": 282,
   "metadata": {},
   "outputs": [
    {
     "data": {
      "text/plain": [
       "Explicit    16325\n",
       "Implicit    14447\n",
       "EntRel       4565\n",
       "AltLex        573\n",
       "Name: type, dtype: int64"
      ]
     },
     "execution_count": 282,
     "metadata": {},
     "output_type": "execute_result"
    }
   ],
   "source": [
    "pdtb_df['type'].value_counts()"
   ]
  },
  {
   "cell_type": "code",
   "execution_count": 283,
   "metadata": {},
   "outputs": [
    {
     "data": {
      "text/plain": [
       "Expansion      13466\n",
       "Comparison      7086\n",
       "Contingency     6870\n",
       "Temporal        3923\n",
       "Name: sense_level1, dtype: int64"
      ]
     },
     "execution_count": 283,
     "metadata": {},
     "output_type": "execute_result"
    }
   ],
   "source": [
    "pdtb_df[pdtb_df['type'] != 'EntRel']['sense_level1'].value_counts()"
   ]
  },
  {
   "cell_type": "code",
   "execution_count": 284,
   "metadata": {},
   "outputs": [
    {
     "data": {
      "text/plain": [
       "Expansion      13466\n",
       "Comparison      7086\n",
       "Contingency     6870\n",
       "Temporal        3923\n",
       "Name: sense_level1, dtype: int64"
      ]
     },
     "execution_count": 284,
     "metadata": {},
     "output_type": "execute_result"
    }
   ],
   "source": [
    "pdtb_df[pdtb_df['sense_level1'] != 'EntRel']['sense_level1'].value_counts()"
   ]
  },
  {
   "cell_type": "code",
   "execution_count": 285,
   "metadata": {},
   "outputs": [
    {
     "data": {
      "text/plain": [
       "Expansion      0.429606\n",
       "Comparison     0.226065\n",
       "Contingency    0.219174\n",
       "Temporal       0.125156\n",
       "Name: sense_level1, dtype: float64"
      ]
     },
     "execution_count": 285,
     "metadata": {},
     "output_type": "execute_result"
    }
   ],
   "source": [
    "pdtb_df[pdtb_df['sense_level1'] != 'EntRel']['sense_level1'].value_counts(normalize=True)"
   ]
  },
  {
   "cell_type": "code",
   "execution_count": 286,
   "metadata": {},
   "outputs": [
    {
     "data": {
      "text/plain": [
       "Expansion.Conjunction      8343\n",
       "Contingency.Cause          5603\n",
       "Comparison.Contrast        5245\n",
       "Expansion.Restatement      2970\n",
       "Temporal.Asynchronous      2462\n",
       "Expansion.Instantiation    1549\n",
       "Temporal.Synchrony         1455\n",
       "Comparison.Concession      1327\n",
       "Contingency.Condition      1265\n",
       "Comparison                  514\n",
       "Expansion.Alternative       481\n",
       "Expansion                   108\n",
       "Expansion.Exception          15\n",
       "Temporal                      6\n",
       "Contingency                   2\n",
       "Name: sense_level2, dtype: int64"
      ]
     },
     "execution_count": 286,
     "metadata": {},
     "output_type": "execute_result"
    }
   ],
   "source": [
    "pdtb_df[pdtb_df['sense_level2'] != 'EntRel']['sense_level2'].value_counts()"
   ]
  },
  {
   "cell_type": "markdown",
   "metadata": {},
   "source": [
    "### Statistics for Implicit Relations"
   ]
  },
  {
   "cell_type": "code",
   "execution_count": 287,
   "metadata": {},
   "outputs": [],
   "source": [
    "pdtb_implicit_relations = pdtb_df[pdtb_df['type'] == 'Implicit']"
   ]
  },
  {
   "cell_type": "code",
   "execution_count": 288,
   "metadata": {},
   "outputs": [
    {
     "data": {
      "text/plain": [
       "Expansion      0.537551\n",
       "Contingency    0.260192\n",
       "Comparison     0.150343\n",
       "Temporal       0.051914\n",
       "Name: sense_level1, dtype: float64"
      ]
     },
     "execution_count": 288,
     "metadata": {},
     "output_type": "execute_result"
    }
   ],
   "source": [
    "pdtb_implicit_relations['sense_level1'].value_counts(normalize=True)"
   ]
  },
  {
   "cell_type": "code",
   "execution_count": 289,
   "metadata": {},
   "outputs": [
    {
     "data": {
      "text/plain": [
       "Contingency.Cause          0.259985\n",
       "Expansion.Conjunction      0.241434\n",
       "Expansion.Restatement      0.192220\n",
       "Comparison.Contrast        0.126185\n",
       "Expansion.Instantiation    0.086385\n",
       "Temporal.Asynchronous      0.040354\n",
       "Comparison.Concession      0.014051\n",
       "Expansion.Alternative      0.011767\n",
       "Temporal.Synchrony         0.011490\n",
       "Comparison                 0.010106\n",
       "Expansion                  0.005676\n",
       "Contingency.Condition      0.000138\n",
       "Expansion.Exception        0.000069\n",
       "Temporal                   0.000069\n",
       "Contingency                0.000069\n",
       "Name: sense_level2, dtype: float64"
      ]
     },
     "execution_count": 289,
     "metadata": {},
     "output_type": "execute_result"
    }
   ],
   "source": [
    "pdtb_implicit_relations['sense_level2'].value_counts(normalize=True)"
   ]
  },
  {
   "cell_type": "code",
   "execution_count": 290,
   "metadata": {},
   "outputs": [
    {
     "data": {
      "text/plain": [
       "Expansion.Conjunction                       3488\n",
       "Expansion.Restatement                       2777\n",
       "Contingency.Cause.Reason                    2245\n",
       "Comparison.Contrast                         1823\n",
       "Contingency.Cause.Result                    1510\n",
       "Expansion.Instantiation                     1248\n",
       "Temporal.Asynchronous.Precedence             450\n",
       "Comparison.Concession                        203\n",
       "Temporal.Synchrony                           166\n",
       "Expansion.Alternative.Chosen alternative     159\n",
       "Comparison                                   146\n",
       "Temporal.Asynchronous.Succession             133\n",
       "Expansion                                     82\n",
       "Expansion.Alternative                         11\n",
       "Contingency.Condition                          2\n",
       "Expansion.Exception                            1\n",
       "Temporal                                       1\n",
       "Contingency                                    1\n",
       "Contingency.Cause                              1\n",
       "Name: sense, dtype: int64"
      ]
     },
     "execution_count": 290,
     "metadata": {},
     "output_type": "execute_result"
    }
   ],
   "source": [
    "pdtb_implicit_relations['sense'].value_counts()"
   ]
  },
  {
   "cell_type": "code",
   "execution_count": 291,
   "metadata": {},
   "outputs": [
    {
     "data": {
      "text/html": [
       "<div>\n",
       "<style scoped>\n",
       "    .dataframe tbody tr th:only-of-type {\n",
       "        vertical-align: middle;\n",
       "    }\n",
       "\n",
       "    .dataframe tbody tr th {\n",
       "        vertical-align: top;\n",
       "    }\n",
       "\n",
       "    .dataframe thead th {\n",
       "        text-align: right;\n",
       "    }\n",
       "</style>\n",
       "<table border=\"1\" class=\"dataframe\">\n",
       "  <thead>\n",
       "    <tr style=\"text-align: right;\">\n",
       "      <th></th>\n",
       "      <th>arg1_length</th>\n",
       "      <th>arg2_length</th>\n",
       "    </tr>\n",
       "  </thead>\n",
       "  <tbody>\n",
       "    <tr>\n",
       "      <th>count</th>\n",
       "      <td>14447.000000</td>\n",
       "      <td>14447.000000</td>\n",
       "    </tr>\n",
       "    <tr>\n",
       "      <th>mean</th>\n",
       "      <td>102.811726</td>\n",
       "      <td>104.824600</td>\n",
       "    </tr>\n",
       "    <tr>\n",
       "      <th>std</th>\n",
       "      <td>59.222918</td>\n",
       "      <td>69.936236</td>\n",
       "    </tr>\n",
       "    <tr>\n",
       "      <th>min</th>\n",
       "      <td>2.000000</td>\n",
       "      <td>5.000000</td>\n",
       "    </tr>\n",
       "    <tr>\n",
       "      <th>25%</th>\n",
       "      <td>61.000000</td>\n",
       "      <td>61.000000</td>\n",
       "    </tr>\n",
       "    <tr>\n",
       "      <th>50%</th>\n",
       "      <td>94.000000</td>\n",
       "      <td>94.000000</td>\n",
       "    </tr>\n",
       "    <tr>\n",
       "      <th>75%</th>\n",
       "      <td>133.000000</td>\n",
       "      <td>135.000000</td>\n",
       "    </tr>\n",
       "    <tr>\n",
       "      <th>max</th>\n",
       "      <td>1101.000000</td>\n",
       "      <td>2523.000000</td>\n",
       "    </tr>\n",
       "  </tbody>\n",
       "</table>\n",
       "</div>"
      ],
      "text/plain": [
       "        arg1_length   arg2_length\n",
       "count  14447.000000  14447.000000\n",
       "mean     102.811726    104.824600\n",
       "std       59.222918     69.936236\n",
       "min        2.000000      5.000000\n",
       "25%       61.000000     61.000000\n",
       "50%       94.000000     94.000000\n",
       "75%      133.000000    135.000000\n",
       "max     1101.000000   2523.000000"
      ]
     },
     "execution_count": 291,
     "metadata": {},
     "output_type": "execute_result"
    }
   ],
   "source": [
    "pdtb_implicit_relations.describe()"
   ]
  },
  {
   "cell_type": "markdown",
   "metadata": {},
   "source": [
    "### Statistics for Explicit Relations"
   ]
  },
  {
   "cell_type": "code",
   "execution_count": 292,
   "metadata": {},
   "outputs": [],
   "source": [
    "pdtb_explicit_relations = pdtb_df[pdtb_df['type'] == 'Explicit']"
   ]
  },
  {
   "cell_type": "code",
   "execution_count": 293,
   "metadata": {},
   "outputs": [
    {
     "data": {
      "text/plain": [
       "Expansion      0.336784\n",
       "Comparison     0.298560\n",
       "Temporal       0.189403\n",
       "Contingency    0.175253\n",
       "Name: sense_level1, dtype: float64"
      ]
     },
     "execution_count": 293,
     "metadata": {},
     "output_type": "execute_result"
    }
   ],
   "source": [
    "pdtb_explicit_relations['sense_level1'].value_counts(normalize=True)"
   ]
  },
  {
   "cell_type": "code",
   "execution_count": 294,
   "metadata": {},
   "outputs": [
    {
     "data": {
      "text/plain": [
       "Expansion.Conjunction      4750\n",
       "Comparison.Contrast        3387\n",
       "Temporal.Asynchronous      1815\n",
       "Contingency.Cause          1599\n",
       "Temporal.Synchrony         1272\n",
       "Contingency.Condition      1261\n",
       "Comparison.Concession      1119\n",
       "Comparison                  368\n",
       "Expansion.Alternative       311\n",
       "Expansion.Instantiation     266\n",
       "Expansion.Restatement       134\n",
       "Expansion                    24\n",
       "Expansion.Exception          13\n",
       "Temporal                      5\n",
       "Contingency                   1\n",
       "Name: sense_level2, dtype: int64"
      ]
     },
     "execution_count": 294,
     "metadata": {},
     "output_type": "execute_result"
    }
   ],
   "source": [
    "pdtb_explicit_relations['sense_level2'].value_counts()"
   ]
  },
  {
   "cell_type": "code",
   "execution_count": 295,
   "metadata": {},
   "outputs": [
    {
     "data": {
      "text/plain": [
       "Expansion.Conjunction                       4750\n",
       "Comparison.Contrast                         3387\n",
       "Temporal.Synchrony                          1272\n",
       "Contingency.Condition                       1261\n",
       "Comparison.Concession                       1119\n",
       "Contingency.Cause.Reason                    1055\n",
       "Temporal.Asynchronous.Succession             957\n",
       "Temporal.Asynchronous.Precedence             855\n",
       "Contingency.Cause.Result                     544\n",
       "Comparison                                   368\n",
       "Expansion.Instantiation                      266\n",
       "Expansion.Alternative                        206\n",
       "Expansion.Restatement                        134\n",
       "Expansion.Alternative.Chosen alternative     105\n",
       "Expansion                                     24\n",
       "Expansion.Exception                           13\n",
       "Temporal                                       5\n",
       "Temporal.Asynchronous                          3\n",
       "Contingency                                    1\n",
       "Name: sense, dtype: int64"
      ]
     },
     "execution_count": 295,
     "metadata": {},
     "output_type": "execute_result"
    }
   ],
   "source": [
    "pdtb_explicit_relations['sense'].value_counts()"
   ]
  },
  {
   "cell_type": "code",
   "execution_count": 321,
   "metadata": {},
   "outputs": [
    {
     "data": {
      "text/plain": [
       "two days before                   1\n",
       "nearly a year and a half after    1\n",
       "only until                        1\n",
       "primarily because                 1\n",
       "several months before             1\n",
       "almost immediately after          1\n",
       "only three years after            1\n",
       "plus                              1\n",
       "in large part because             1\n",
       "long after                        1\n",
       "a full five minutes before        1\n",
       "Name: connective, dtype: int64"
      ]
     },
     "execution_count": 321,
     "metadata": {},
     "output_type": "execute_result"
    }
   ],
   "source": [
    "pdtb_explicit_relations['connective'].str.lower().value_counts().tail(11)"
   ]
  },
  {
   "cell_type": "code",
   "execution_count": 348,
   "metadata": {},
   "outputs": [
    {
     "data": {
      "text/plain": [
       "12.160714285714286"
      ]
     },
     "execution_count": 348,
     "metadata": {},
     "output_type": "execute_result"
    }
   ],
   "source": [
    "p2_connectives = list(pdtb_explicit_relations['connective'].str.lower().value_counts().keys())\n",
    "sum([len(p2_c) for p2_c in p2_connectives]) / len(p2_connectives)"
   ]
  },
  {
   "cell_type": "code",
   "execution_count": 297,
   "metadata": {},
   "outputs": [
    {
     "data": {
      "text/html": [
       "<div>\n",
       "<style scoped>\n",
       "    .dataframe tbody tr th:only-of-type {\n",
       "        vertical-align: middle;\n",
       "    }\n",
       "\n",
       "    .dataframe tbody tr th {\n",
       "        vertical-align: top;\n",
       "    }\n",
       "\n",
       "    .dataframe thead th {\n",
       "        text-align: right;\n",
       "    }\n",
       "</style>\n",
       "<table border=\"1\" class=\"dataframe\">\n",
       "  <thead>\n",
       "    <tr style=\"text-align: right;\">\n",
       "      <th></th>\n",
       "      <th>arg1_length</th>\n",
       "      <th>arg2_length</th>\n",
       "    </tr>\n",
       "  </thead>\n",
       "  <tbody>\n",
       "    <tr>\n",
       "      <th>count</th>\n",
       "      <td>16325.000000</td>\n",
       "      <td>16325.000000</td>\n",
       "    </tr>\n",
       "    <tr>\n",
       "      <th>mean</th>\n",
       "      <td>89.079449</td>\n",
       "      <td>77.369678</td>\n",
       "    </tr>\n",
       "    <tr>\n",
       "      <th>std</th>\n",
       "      <td>84.192926</td>\n",
       "      <td>53.023372</td>\n",
       "    </tr>\n",
       "    <tr>\n",
       "      <th>min</th>\n",
       "      <td>2.000000</td>\n",
       "      <td>2.000000</td>\n",
       "    </tr>\n",
       "    <tr>\n",
       "      <th>25%</th>\n",
       "      <td>45.000000</td>\n",
       "      <td>39.000000</td>\n",
       "    </tr>\n",
       "    <tr>\n",
       "      <th>50%</th>\n",
       "      <td>72.000000</td>\n",
       "      <td>65.000000</td>\n",
       "    </tr>\n",
       "    <tr>\n",
       "      <th>75%</th>\n",
       "      <td>115.000000</td>\n",
       "      <td>103.000000</td>\n",
       "    </tr>\n",
       "    <tr>\n",
       "      <th>max</th>\n",
       "      <td>6091.000000</td>\n",
       "      <td>1422.000000</td>\n",
       "    </tr>\n",
       "  </tbody>\n",
       "</table>\n",
       "</div>"
      ],
      "text/plain": [
       "        arg1_length   arg2_length\n",
       "count  16325.000000  16325.000000\n",
       "mean      89.079449     77.369678\n",
       "std       84.192926     53.023372\n",
       "min        2.000000      2.000000\n",
       "25%       45.000000     39.000000\n",
       "50%       72.000000     65.000000\n",
       "75%      115.000000    103.000000\n",
       "max     6091.000000   1422.000000"
      ]
     },
     "execution_count": 297,
     "metadata": {},
     "output_type": "execute_result"
    }
   ],
   "source": [
    "pdtb_explicit_relations.describe()"
   ]
  },
  {
   "cell_type": "markdown",
   "metadata": {},
   "source": [
    "### Statistics for Hypophora relations"
   ]
  },
  {
   "cell_type": "code",
   "execution_count": 298,
   "metadata": {},
   "outputs": [],
   "source": [
    "pdtb_hypophora_relations = pdtb_df[pdtb_df['type'] == 'Hypophora']"
   ]
  },
  {
   "cell_type": "markdown",
   "metadata": {},
   "source": [
    "No hypophora relations."
   ]
  },
  {
   "cell_type": "markdown",
   "metadata": {},
   "source": [
    "## PDTB3 Statistics"
   ]
  },
  {
   "cell_type": "code",
   "execution_count": 299,
   "metadata": {},
   "outputs": [
    {
     "name": "stdout",
     "output_type": "stream",
     "text": [
      "<class 'UnicodeDecodeError'>\n",
      "<class 'UnicodeDecodeError'>\n",
      "<class 'UnicodeDecodeError'>\n",
      "<class 'UnicodeDecodeError'>\n",
      "<class 'UnicodeDecodeError'>\n"
     ]
    }
   ],
   "source": [
    "PDTB3_FOLDER = '/home/burak/Downloads/PDTB-3.0_LDC2019T05/PDTB-3.0/data'\n",
    "\n",
    "files = os.listdir(PDTB3_FOLDER + '/gold')\n",
    "\n",
    "readable_annotations_pdtb3 = dict()\n",
    "\n",
    "for file in files:\n",
    "    readable_annotations_pdtb3[file] = list()\n",
    "    for annotation in parse_annotation(\n",
    "        PDTB3_FOLDER + '/raw/' + file,\n",
    "        PDTB3_FOLDER + '/gold/' + file,\n",
    "        extract_16=False\n",
    "    ):\n",
    "        readable_annotations_pdtb3[file].append(annotation)\n",
    "    \n",
    "\n",
    "pdtb3_all_annotations = reduce(lambda x, y: x+y, [file_annotations for file_annotations in readable_annotations_pdtb3.values()])\n",
    "\n",
    "pdtb3_df = pd.DataFrame(pdtb3_all_annotations)"
   ]
  },
  {
   "cell_type": "code",
   "execution_count": 300,
   "metadata": {},
   "outputs": [
    {
     "data": {
      "text/plain": [
       "Explicit     24240\n",
       "Implicit     21827\n",
       "EntRel        5538\n",
       "AltLex        1498\n",
       "NoRel          287\n",
       "Hypophora      146\n",
       "AltLexC        140\n",
       "Name: type, dtype: int64"
      ]
     },
     "execution_count": 300,
     "metadata": {},
     "output_type": "execute_result"
    }
   ],
   "source": [
    "pdtb3_df['type'].value_counts()"
   ]
  },
  {
   "cell_type": "code",
   "execution_count": 301,
   "metadata": {},
   "outputs": [
    {
     "data": {
      "text/plain": [
       "Explicit     0.451598\n",
       "Implicit     0.406644\n",
       "EntRel       0.103175\n",
       "AltLex       0.027908\n",
       "NoRel        0.005347\n",
       "Hypophora    0.002720\n",
       "AltLexC      0.002608\n",
       "Name: type, dtype: float64"
      ]
     },
     "execution_count": 301,
     "metadata": {},
     "output_type": "execute_result"
    }
   ],
   "source": [
    "pdtb3_df['type'].value_counts(normalize=True)"
   ]
  },
  {
   "cell_type": "code",
   "execution_count": 302,
   "metadata": {},
   "outputs": [],
   "source": [
    "def calculate_length_from_range(_range):\n",
    "    _sum = 0\n",
    "    for r in _range.split(';'):\n",
    "        if len(r) < 2:\n",
    "            _sum += 0\n",
    "            continue\n",
    "        splitted = r.split('..')\n",
    "        _sum += int(splitted[1]) - int(splitted[0])\n",
    "    return _sum\n",
    "\n",
    "def join_connectives(connective):\n",
    "    if (connective != '--ERROR--') and (connective != None):\n",
    "        return ' '.join(connective)\n",
    "    return connective\n",
    "    "
   ]
  },
  {
   "cell_type": "code",
   "execution_count": 303,
   "metadata": {},
   "outputs": [],
   "source": [
    "pdtb3_df['arg1_length'] = pdtb3_df['arg1_range'].apply(calculate_length_from_range)\n",
    "pdtb3_df['arg2_length'] = pdtb3_df['arg2_range'].apply(calculate_length_from_range)\n",
    "pdtb3_df['sense_level1'] = pdtb3_df['sense'].map(lambda sense: get_sense(sense, 1))\n",
    "pdtb3_df['sense_level2'] = pdtb3_df['sense'].map(lambda sense: get_sense(sense, 2))\n",
    "pdtb3_df['connective'] = pdtb3_df['connective'].map(join_connectives)"
   ]
  },
  {
   "cell_type": "code",
   "execution_count": 304,
   "metadata": {},
   "outputs": [
    {
     "data": {
      "text/html": [
       "<div>\n",
       "<style scoped>\n",
       "    .dataframe tbody tr th:only-of-type {\n",
       "        vertical-align: middle;\n",
       "    }\n",
       "\n",
       "    .dataframe tbody tr th {\n",
       "        vertical-align: top;\n",
       "    }\n",
       "\n",
       "    .dataframe thead th {\n",
       "        text-align: right;\n",
       "    }\n",
       "</style>\n",
       "<table border=\"1\" class=\"dataframe\">\n",
       "  <thead>\n",
       "    <tr style=\"text-align: right;\">\n",
       "      <th></th>\n",
       "      <th>arg1_length</th>\n",
       "      <th>arg2_length</th>\n",
       "    </tr>\n",
       "  </thead>\n",
       "  <tbody>\n",
       "    <tr>\n",
       "      <th>count</th>\n",
       "      <td>53676.000000</td>\n",
       "      <td>53676.000000</td>\n",
       "    </tr>\n",
       "    <tr>\n",
       "      <th>mean</th>\n",
       "      <td>86.882126</td>\n",
       "      <td>83.257433</td>\n",
       "    </tr>\n",
       "    <tr>\n",
       "      <th>std</th>\n",
       "      <td>67.881788</td>\n",
       "      <td>59.193842</td>\n",
       "    </tr>\n",
       "    <tr>\n",
       "      <th>min</th>\n",
       "      <td>2.000000</td>\n",
       "      <td>2.000000</td>\n",
       "    </tr>\n",
       "    <tr>\n",
       "      <th>25%</th>\n",
       "      <td>43.000000</td>\n",
       "      <td>42.000000</td>\n",
       "    </tr>\n",
       "    <tr>\n",
       "      <th>50%</th>\n",
       "      <td>73.000000</td>\n",
       "      <td>70.000000</td>\n",
       "    </tr>\n",
       "    <tr>\n",
       "      <th>75%</th>\n",
       "      <td>117.000000</td>\n",
       "      <td>112.000000</td>\n",
       "    </tr>\n",
       "    <tr>\n",
       "      <th>max</th>\n",
       "      <td>6173.000000</td>\n",
       "      <td>2555.000000</td>\n",
       "    </tr>\n",
       "  </tbody>\n",
       "</table>\n",
       "</div>"
      ],
      "text/plain": [
       "        arg1_length   arg2_length\n",
       "count  53676.000000  53676.000000\n",
       "mean      86.882126     83.257433\n",
       "std       67.881788     59.193842\n",
       "min        2.000000      2.000000\n",
       "25%       43.000000     42.000000\n",
       "50%       73.000000     70.000000\n",
       "75%      117.000000    112.000000\n",
       "max     6173.000000   2555.000000"
      ]
     },
     "execution_count": 304,
     "metadata": {},
     "output_type": "execute_result"
    }
   ],
   "source": [
    "pdtb3_df[['arg1_length', 'arg2_length']].describe()"
   ]
  },
  {
   "cell_type": "code",
   "execution_count": 305,
   "metadata": {},
   "outputs": [
    {
     "data": {
      "text/plain": [
       "Expansion      20560\n",
       "Contingency    12595\n",
       "Comparison      8528\n",
       "Temporal        6022\n",
       "Name: sense_level1, dtype: int64"
      ]
     },
     "execution_count": 305,
     "metadata": {},
     "output_type": "execute_result"
    }
   ],
   "source": [
    "pdtb3_df[pdtb3_df['sense_level1'] != '']['sense_level1'].value_counts()"
   ]
  },
  {
   "cell_type": "code",
   "execution_count": 306,
   "metadata": {},
   "outputs": [
    {
     "data": {
      "text/plain": [
       "Expansion      0.430982\n",
       "Contingency    0.264018\n",
       "Comparison     0.178765\n",
       "Temporal       0.126234\n",
       "Name: sense_level1, dtype: float64"
      ]
     },
     "execution_count": 306,
     "metadata": {},
     "output_type": "execute_result"
    }
   ],
   "source": [
    "pdtb3_df[pdtb3_df['sense_level1'] != '']['sense_level1'].value_counts(normalize=True)"
   ]
  },
  {
   "cell_type": "markdown",
   "metadata": {},
   "source": [
    "### Statistics for Implicit Relations"
   ]
  },
  {
   "cell_type": "code",
   "execution_count": 307,
   "metadata": {},
   "outputs": [],
   "source": [
    "pdtb3_implicit_relations = pdtb3_df[pdtb3_df['type'] == 'Implicit']"
   ]
  },
  {
   "cell_type": "code",
   "execution_count": 308,
   "metadata": {},
   "outputs": [
    {
     "data": {
      "text/plain": [
       "Expansion      10051\n",
       "Contingency     7589\n",
       "Comparison      2388\n",
       "Temporal        1799\n",
       "Name: sense_level1, dtype: int64"
      ]
     },
     "execution_count": 308,
     "metadata": {},
     "output_type": "execute_result"
    }
   ],
   "source": [
    "pdtb3_implicit_relations['sense_level1'].value_counts()"
   ]
  },
  {
   "cell_type": "code",
   "execution_count": 309,
   "metadata": {},
   "outputs": [
    {
     "data": {
      "text/plain": [
       "Contingency.Cause                  5779\n",
       "Expansion.Conjunction              4381\n",
       "Expansion.Level-of-detail          3234\n",
       "Comparison.Concession              1493\n",
       "Expansion.Instantiation            1472\n",
       "Contingency.Purpose                1385\n",
       "Temporal.Asynchronous              1261\n",
       "Comparison.Contrast                 857\n",
       "Temporal.Synchronous                538\n",
       "Expansion.Substitution              366\n",
       "Expansion.Equivalence               334\n",
       "Expansion.Manner                    229\n",
       "Contingency.Condition               202\n",
       "Contingency.Cause+Belief            199\n",
       "Expansion.Disjunction                30\n",
       "Comparison.Similarity                28\n",
       "Contingency.Cause+SpeechAct          22\n",
       "Comparison.Concession+SpeechAct      10\n",
       "Expansion.Exception                   5\n",
       "Contingency.Condition+SpeechAct       2\n",
       "Name: sense_level2, dtype: int64"
      ]
     },
     "execution_count": 309,
     "metadata": {},
     "output_type": "execute_result"
    }
   ],
   "source": [
    "pdtb3_implicit_relations['sense_level2'].value_counts()"
   ]
  },
  {
   "cell_type": "code",
   "execution_count": 310,
   "metadata": {},
   "outputs": [
    {
     "data": {
      "text/plain": [
       "Expansion.Conjunction                                       4381\n",
       "Expansion.Level-of-detail.Arg2-as-detail                    2978\n",
       "Contingency.Cause.Reason                                    2953\n",
       "Contingency.Cause.Result                                    2826\n",
       "Expansion.Instantiation.Arg2-as-instance                    1471\n",
       "Comparison.Concession.Arg2-as-denier                        1435\n",
       "Contingency.Purpose.Arg2-as-goal                            1382\n",
       "Temporal.Asynchronous.Precedence                            1059\n",
       "Comparison.Contrast                                          857\n",
       "Temporal.Synchronous                                         538\n",
       "Expansion.Substitution.Arg2-as-subst                         366\n",
       "Expansion.Equivalence                                        334\n",
       "Expansion.Level-of-detail.Arg1-as-detail                     256\n",
       "Temporal.Asynchronous.Succession                             202\n",
       "Contingency.Condition.Arg2-as-cond                           199\n",
       "Expansion.Manner.Arg2-as-manner                              158\n",
       "Contingency.Cause+Belief.Reason+Belief                       132\n",
       "Expansion.Manner.Arg1-as-manner                               71\n",
       "Contingency.Cause+Belief.Result+Belief                        67\n",
       "Comparison.Concession.Arg1-as-denier                          58\n",
       "Expansion.Disjunction                                         30\n",
       "Comparison.Similarity                                         28\n",
       "Contingency.Cause+SpeechAct.Reason+SpeechAct                  13\n",
       "Comparison.Concession+SpeechAct.Arg2-as-denier+SpeechAct      10\n",
       "Contingency.Cause+SpeechAct.Result+SpeechAct                   9\n",
       "Contingency.Purpose.Arg1-as-goal                               3\n",
       "Contingency.Condition.Arg1-as-cond                             3\n",
       "Expansion.Exception.Arg1-as-excpt                              3\n",
       "Expansion.Exception.Arg2-as-excpt                              2\n",
       "Contingency.Condition+SpeechAct                                2\n",
       "Expansion.Instantiation.Arg1-as-instance                       1\n",
       "Name: sense, dtype: int64"
      ]
     },
     "execution_count": 310,
     "metadata": {},
     "output_type": "execute_result"
    }
   ],
   "source": [
    "pdtb3_implicit_relations['sense'].value_counts()"
   ]
  },
  {
   "cell_type": "code",
   "execution_count": 311,
   "metadata": {},
   "outputs": [
    {
     "data": {
      "text/html": [
       "<div>\n",
       "<style scoped>\n",
       "    .dataframe tbody tr th:only-of-type {\n",
       "        vertical-align: middle;\n",
       "    }\n",
       "\n",
       "    .dataframe tbody tr th {\n",
       "        vertical-align: top;\n",
       "    }\n",
       "\n",
       "    .dataframe thead th {\n",
       "        text-align: right;\n",
       "    }\n",
       "</style>\n",
       "<table border=\"1\" class=\"dataframe\">\n",
       "  <thead>\n",
       "    <tr style=\"text-align: right;\">\n",
       "      <th></th>\n",
       "      <th>arg1_length</th>\n",
       "      <th>arg2_length</th>\n",
       "    </tr>\n",
       "  </thead>\n",
       "  <tbody>\n",
       "    <tr>\n",
       "      <th>count</th>\n",
       "      <td>21827.000000</td>\n",
       "      <td>21827.000000</td>\n",
       "    </tr>\n",
       "    <tr>\n",
       "      <th>mean</th>\n",
       "      <td>88.629496</td>\n",
       "      <td>91.502726</td>\n",
       "    </tr>\n",
       "    <tr>\n",
       "      <th>std</th>\n",
       "      <td>55.757267</td>\n",
       "      <td>65.992807</td>\n",
       "    </tr>\n",
       "    <tr>\n",
       "      <th>min</th>\n",
       "      <td>2.000000</td>\n",
       "      <td>2.000000</td>\n",
       "    </tr>\n",
       "    <tr>\n",
       "      <th>25%</th>\n",
       "      <td>47.000000</td>\n",
       "      <td>47.000000</td>\n",
       "    </tr>\n",
       "    <tr>\n",
       "      <th>50%</th>\n",
       "      <td>78.000000</td>\n",
       "      <td>79.000000</td>\n",
       "    </tr>\n",
       "    <tr>\n",
       "      <th>75%</th>\n",
       "      <td>119.000000</td>\n",
       "      <td>122.000000</td>\n",
       "    </tr>\n",
       "    <tr>\n",
       "      <th>max</th>\n",
       "      <td>922.000000</td>\n",
       "      <td>2555.000000</td>\n",
       "    </tr>\n",
       "  </tbody>\n",
       "</table>\n",
       "</div>"
      ],
      "text/plain": [
       "        arg1_length   arg2_length\n",
       "count  21827.000000  21827.000000\n",
       "mean      88.629496     91.502726\n",
       "std       55.757267     65.992807\n",
       "min        2.000000      2.000000\n",
       "25%       47.000000     47.000000\n",
       "50%       78.000000     79.000000\n",
       "75%      119.000000    122.000000\n",
       "max      922.000000   2555.000000"
      ]
     },
     "execution_count": 311,
     "metadata": {},
     "output_type": "execute_result"
    }
   ],
   "source": [
    "pdtb3_implicit_relations.describe()"
   ]
  },
  {
   "cell_type": "markdown",
   "metadata": {},
   "source": [
    "### Statistics for Explicit Relations"
   ]
  },
  {
   "cell_type": "code",
   "execution_count": 312,
   "metadata": {},
   "outputs": [],
   "source": [
    "pdtb3_explicit_relations = pdtb3_df[pdtb3_df['type'] == 'Explicit']"
   ]
  },
  {
   "cell_type": "code",
   "execution_count": 313,
   "metadata": {},
   "outputs": [
    {
     "data": {
      "text/plain": [
       "Expansion      10218\n",
       "Comparison      6014\n",
       "Temporal        4063\n",
       "Contingency     3945\n",
       "Name: sense_level1, dtype: int64"
      ]
     },
     "execution_count": 313,
     "metadata": {},
     "output_type": "execute_result"
    }
   ],
   "source": [
    "pdtb3_explicit_relations['sense_level1'].value_counts()"
   ]
  },
  {
   "cell_type": "code",
   "execution_count": 314,
   "metadata": {},
   "outputs": [
    {
     "data": {
      "text/plain": [
       "Expansion.Conjunction              8769\n",
       "Comparison.Concession              4776\n",
       "Temporal.Asynchronous              2111\n",
       "Temporal.Synchronous               1952\n",
       "Contingency.Cause                  1937\n",
       "Contingency.Condition              1398\n",
       "Comparison.Contrast                1116\n",
       "Contingency.Purpose                 381\n",
       "Expansion.Instantiation             325\n",
       "Expansion.Disjunction               304\n",
       "Expansion.Manner                    283\n",
       "Expansion.Level-of-detail           255\n",
       "Expansion.Substitution              219\n",
       "Contingency.Negative-condition      124\n",
       "Comparison.Similarity               106\n",
       "Contingency.Condition+SpeechAct      73\n",
       "Expansion.Exception                  36\n",
       "Contingency.Cause+Belief             30\n",
       "Expansion.Equivalence                27\n",
       "Comparison.Concession+SpeechAct      16\n",
       "Contingency.Cause+SpeechAct           2\n",
       "Name: sense_level2, dtype: int64"
      ]
     },
     "execution_count": 314,
     "metadata": {},
     "output_type": "execute_result"
    }
   ],
   "source": [
    "pdtb3_explicit_relations['sense_level2'].value_counts()"
   ]
  },
  {
   "cell_type": "code",
   "execution_count": 315,
   "metadata": {},
   "outputs": [
    {
     "data": {
      "text/plain": [
       "Expansion.Conjunction                                       8769\n",
       "Comparison.Concession.Arg2-as-denier                        4047\n",
       "Temporal.Synchronous                                        1952\n",
       "Contingency.Cause.Reason                                    1431\n",
       "Contingency.Condition.Arg2-as-cond                          1375\n",
       "Temporal.Asynchronous.Succession                            1148\n",
       "Comparison.Contrast                                         1116\n",
       "Temporal.Asynchronous.Precedence                             963\n",
       "Comparison.Concession.Arg1-as-denier                         729\n",
       "Contingency.Cause.Result                                     506\n",
       "Expansion.Instantiation.Arg2-as-instance                     323\n",
       "Expansion.Disjunction                                        304\n",
       "Expansion.Manner.Arg2-as-manner                              280\n",
       "Contingency.Purpose.Arg2-as-goal                             266\n",
       "Expansion.Level-of-detail.Arg2-as-detail                     220\n",
       "Expansion.Substitution.Arg2-as-subst                         135\n",
       "Contingency.Purpose.Arg1-as-goal                             115\n",
       "Contingency.Negative-condition.Arg2-as-negCond               108\n",
       "Comparison.Similarity                                        106\n",
       "Expansion.Substitution.Arg1-as-subst                          84\n",
       "Contingency.Condition+SpeechAct                               73\n",
       "Expansion.Level-of-detail.Arg1-as-detail                      35\n",
       "Contingency.Cause+Belief.Reason+Belief                        28\n",
       "Expansion.Equivalence                                         27\n",
       "Contingency.Condition.Arg1-as-cond                            23\n",
       "Expansion.Exception.Arg2-as-excpt                             21\n",
       "Comparison.Concession+SpeechAct.Arg2-as-denier+SpeechAct      16\n",
       "Contingency.Negative-condition.Arg1-as-negCond                16\n",
       "Expansion.Exception.Arg1-as-excpt                             15\n",
       "Expansion.Manner.Arg1-as-manner                                3\n",
       "Expansion.Instantiation.Arg1-as-instance                       2\n",
       "Contingency.Cause+Belief.Result+Belief                         2\n",
       "Contingency.Cause+SpeechAct.Reason+SpeechAct                   1\n",
       "Contingency.Cause+SpeechAct.Result+SpeechAct                   1\n",
       "Name: sense, dtype: int64"
      ]
     },
     "execution_count": 315,
     "metadata": {},
     "output_type": "execute_result"
    }
   ],
   "source": [
    "pdtb3_explicit_relations['sense'].value_counts()"
   ]
  },
  {
   "cell_type": "code",
   "execution_count": 316,
   "metadata": {},
   "outputs": [
    {
     "data": {
      "text/plain": [
       "and                 6375\n",
       "but                 3704\n",
       "also                1729\n",
       "if                  1141\n",
       "when                1037\n",
       "                    ... \n",
       "some time after        1\n",
       "and then               1\n",
       "a decade before        1\n",
       "so much as             1\n",
       "before and after       1\n",
       "Name: connective, Length: 321, dtype: int64"
      ]
     },
     "execution_count": 316,
     "metadata": {},
     "output_type": "execute_result"
    }
   ],
   "source": [
    "pdtb3_explicit_relations['connective'].str.lower().value_counts()"
   ]
  },
  {
   "cell_type": "code",
   "execution_count": 349,
   "metadata": {},
   "outputs": [
    {
     "data": {
      "text/plain": [
       "11.81619937694704"
      ]
     },
     "execution_count": 349,
     "metadata": {},
     "output_type": "execute_result"
    }
   ],
   "source": [
    "p3_connectives = list(pdtb3_explicit_relations['connective'].str.lower().value_counts().keys())\n",
    "sum([len(p3_c) for p3_c in p3_connectives]) / len(p3_connectives)"
   ]
  },
  {
   "cell_type": "code",
   "execution_count": 317,
   "metadata": {},
   "outputs": [
    {
     "data": {
      "text/html": [
       "<div>\n",
       "<style scoped>\n",
       "    .dataframe tbody tr th:only-of-type {\n",
       "        vertical-align: middle;\n",
       "    }\n",
       "\n",
       "    .dataframe tbody tr th {\n",
       "        vertical-align: top;\n",
       "    }\n",
       "\n",
       "    .dataframe thead th {\n",
       "        text-align: right;\n",
       "    }\n",
       "</style>\n",
       "<table border=\"1\" class=\"dataframe\">\n",
       "  <thead>\n",
       "    <tr style=\"text-align: right;\">\n",
       "      <th></th>\n",
       "      <th>arg1_length</th>\n",
       "      <th>arg2_length</th>\n",
       "    </tr>\n",
       "  </thead>\n",
       "  <tbody>\n",
       "    <tr>\n",
       "      <th>count</th>\n",
       "      <td>24240.000000</td>\n",
       "      <td>24240.000000</td>\n",
       "    </tr>\n",
       "    <tr>\n",
       "      <th>mean</th>\n",
       "      <td>77.034983</td>\n",
       "      <td>70.809282</td>\n",
       "    </tr>\n",
       "    <tr>\n",
       "      <th>std</th>\n",
       "      <td>77.527365</td>\n",
       "      <td>50.354026</td>\n",
       "    </tr>\n",
       "    <tr>\n",
       "      <th>min</th>\n",
       "      <td>2.000000</td>\n",
       "      <td>2.000000</td>\n",
       "    </tr>\n",
       "    <tr>\n",
       "      <th>25%</th>\n",
       "      <td>36.000000</td>\n",
       "      <td>35.000000</td>\n",
       "    </tr>\n",
       "    <tr>\n",
       "      <th>50%</th>\n",
       "      <td>60.000000</td>\n",
       "      <td>58.000000</td>\n",
       "    </tr>\n",
       "    <tr>\n",
       "      <th>75%</th>\n",
       "      <td>100.000000</td>\n",
       "      <td>94.000000</td>\n",
       "    </tr>\n",
       "    <tr>\n",
       "      <th>max</th>\n",
       "      <td>6173.000000</td>\n",
       "      <td>1447.000000</td>\n",
       "    </tr>\n",
       "  </tbody>\n",
       "</table>\n",
       "</div>"
      ],
      "text/plain": [
       "        arg1_length   arg2_length\n",
       "count  24240.000000  24240.000000\n",
       "mean      77.034983     70.809282\n",
       "std       77.527365     50.354026\n",
       "min        2.000000      2.000000\n",
       "25%       36.000000     35.000000\n",
       "50%       60.000000     58.000000\n",
       "75%      100.000000     94.000000\n",
       "max     6173.000000   1447.000000"
      ]
     },
     "execution_count": 317,
     "metadata": {},
     "output_type": "execute_result"
    }
   ],
   "source": [
    "pdtb3_explicit_relations.describe()"
   ]
  },
  {
   "cell_type": "markdown",
   "metadata": {},
   "source": [
    "### Statistics for Hypophora Relations"
   ]
  },
  {
   "cell_type": "code",
   "execution_count": 318,
   "metadata": {},
   "outputs": [],
   "source": [
    "pdtb3_hypophora_relations = pdtb3_df[pdtb3_df['type'] == 'Hypophora']"
   ]
  },
  {
   "cell_type": "code",
   "execution_count": 319,
   "metadata": {},
   "outputs": [
    {
     "data": {
      "text/html": [
       "<div>\n",
       "<style scoped>\n",
       "    .dataframe tbody tr th:only-of-type {\n",
       "        vertical-align: middle;\n",
       "    }\n",
       "\n",
       "    .dataframe tbody tr th {\n",
       "        vertical-align: top;\n",
       "    }\n",
       "\n",
       "    .dataframe thead th {\n",
       "        text-align: right;\n",
       "    }\n",
       "</style>\n",
       "<table border=\"1\" class=\"dataframe\">\n",
       "  <thead>\n",
       "    <tr style=\"text-align: right;\">\n",
       "      <th></th>\n",
       "      <th>arg1_length</th>\n",
       "      <th>arg2_length</th>\n",
       "    </tr>\n",
       "  </thead>\n",
       "  <tbody>\n",
       "    <tr>\n",
       "      <th>count</th>\n",
       "      <td>146.000000</td>\n",
       "      <td>146.000000</td>\n",
       "    </tr>\n",
       "    <tr>\n",
       "      <th>mean</th>\n",
       "      <td>55.815068</td>\n",
       "      <td>90.746575</td>\n",
       "    </tr>\n",
       "    <tr>\n",
       "      <th>std</th>\n",
       "      <td>57.718580</td>\n",
       "      <td>91.692801</td>\n",
       "    </tr>\n",
       "    <tr>\n",
       "      <th>min</th>\n",
       "      <td>6.000000</td>\n",
       "      <td>2.000000</td>\n",
       "    </tr>\n",
       "    <tr>\n",
       "      <th>25%</th>\n",
       "      <td>23.250000</td>\n",
       "      <td>24.250000</td>\n",
       "    </tr>\n",
       "    <tr>\n",
       "      <th>50%</th>\n",
       "      <td>39.000000</td>\n",
       "      <td>60.000000</td>\n",
       "    </tr>\n",
       "    <tr>\n",
       "      <th>75%</th>\n",
       "      <td>67.000000</td>\n",
       "      <td>131.750000</td>\n",
       "    </tr>\n",
       "    <tr>\n",
       "      <th>max</th>\n",
       "      <td>486.000000</td>\n",
       "      <td>563.000000</td>\n",
       "    </tr>\n",
       "  </tbody>\n",
       "</table>\n",
       "</div>"
      ],
      "text/plain": [
       "       arg1_length  arg2_length\n",
       "count   146.000000   146.000000\n",
       "mean     55.815068    90.746575\n",
       "std      57.718580    91.692801\n",
       "min       6.000000     2.000000\n",
       "25%      23.250000    24.250000\n",
       "50%      39.000000    60.000000\n",
       "75%      67.000000   131.750000\n",
       "max     486.000000   563.000000"
      ]
     },
     "execution_count": 319,
     "metadata": {},
     "output_type": "execute_result"
    }
   ],
   "source": [
    "pdtb3_hypophora_relations.describe()"
   ]
  },
  {
   "cell_type": "code",
   "execution_count": null,
   "metadata": {},
   "outputs": [],
   "source": [
    "pdtb3_hypophora_relations.head()"
   ]
  },
  {
   "cell_type": "code",
   "execution_count": null,
   "metadata": {},
   "outputs": [],
   "source": []
  }
 ],
 "metadata": {
  "kernelspec": {
   "display_name": "Python 3 (ipykernel)",
   "language": "python",
   "name": "python3"
  },
  "language_info": {
   "codemirror_mode": {
    "name": "ipython",
    "version": 3
   },
   "file_extension": ".py",
   "mimetype": "text/x-python",
   "name": "python",
   "nbconvert_exporter": "python",
   "pygments_lexer": "ipython3",
   "version": "3.7.12"
  }
 },
 "nbformat": 4,
 "nbformat_minor": 4
}
